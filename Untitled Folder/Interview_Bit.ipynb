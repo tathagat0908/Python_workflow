{
 "cells": [
  {
   "cell_type": "code",
   "execution_count": 15,
   "id": "a28fc663",
   "metadata": {},
   "outputs": [
    {
     "name": "stdout",
     "output_type": "stream",
     "text": [
      "123\n"
     ]
    }
   ],
   "source": [
    "#Extracting Numbers\n",
    "\n",
    "a=\"123\"\n",
    "su=0\n",
    "ans=\"\"\n",
    "for i in a:\n",
    "    if i.isalpha():\n",
    "        ans+=\".\"\n",
    "    else:\n",
    "        ans+=i\n",
    "new=ans.split(\".\")\n",
    "for i in new:\n",
    "    if(i!=\"\"):\n",
    "        su+=int(i)\n",
    "print(su)"
   ]
  },
  {
   "cell_type": "code",
   "execution_count": 34,
   "id": "0e6f1c59",
   "metadata": {},
   "outputs": [
    {
     "name": "stdout",
     "output_type": "stream",
     "text": [
      "3\n"
     ]
    }
   ],
   "source": [
    "# Word Count\n",
    "\n",
    "s=\"pxgacrtzu   fgtmxgrmnvzdkulqtheucvyyjv cbvnzfcckxvvlprt \"\n",
    "count=0\n",
    "new=s.split(\" \")\n",
    "for i in new:\n",
    "    if i.isalpha():\n",
    "        count+=1\n",
    "print(count)"
   ]
  },
  {
   "cell_type": "code",
   "execution_count": 33,
   "id": "906e3823",
   "metadata": {},
   "outputs": [
    {
     "name": "stdout",
     "output_type": "stream",
     "text": [
      "3\n"
     ]
    }
   ],
   "source": []
  },
  {
   "cell_type": "code",
   "execution_count": null,
   "id": "e7c10cd8",
   "metadata": {},
   "outputs": [],
   "source": []
  }
 ],
 "metadata": {
  "kernelspec": {
   "display_name": "Python 3 (ipykernel)",
   "language": "python",
   "name": "python3"
  },
  "language_info": {
   "codemirror_mode": {
    "name": "ipython",
    "version": 3
   },
   "file_extension": ".py",
   "mimetype": "text/x-python",
   "name": "python",
   "nbconvert_exporter": "python",
   "pygments_lexer": "ipython3",
   "version": "3.8.10"
  }
 },
 "nbformat": 4,
 "nbformat_minor": 5
}
