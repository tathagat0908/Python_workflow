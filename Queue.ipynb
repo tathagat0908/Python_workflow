{
 "cells": [
  {
   "cell_type": "code",
   "execution_count": 3,
   "metadata": {},
   "outputs": [
    {
     "name": "stdout",
     "output_type": "stream",
     "text": [
      "select the operation 1.add 2.remove 3.show 4.quit\n",
      "1\n",
      "Enter the ele for append: 23\n",
      "23 is added in queue\n",
      "select the operation 1.add 2.remove 3.show 4.quit\n",
      "1\n",
      "Enter the ele for append: 34\n",
      "34 is added in queue\n",
      "select the operation 1.add 2.remove 3.show 4.quit\n",
      "1\n",
      "Enter the ele for append: 345\n",
      "345 is added in queue\n",
      "select the operation 1.add 2.remove 3.show 4.quit\n",
      "3\n",
      "['23', '34', '345']\n",
      "select the operation 1.add 2.remove 3.show 4.quit\n",
      "4\n"
     ]
    }
   ],
   "source": [
    "#simple using list\n",
    "queue=[]\n",
    "def enqueue():\n",
    "    ele=input(\"Enter the ele for append: \")\n",
    "    queue.append(ele)\n",
    "    print(ele,\"is added in queue\")\n",
    "def dequeue():\n",
    "    if not queue:\n",
    "        print(\"Queue is empty!\")\n",
    "    else:\n",
    "        e=queue.pop(0)\n",
    "        print(e,\"is removed\")\n",
    "def display():\n",
    "    print(queue)\n",
    "    \n",
    "while True:\n",
    "    print(\"select the operation 1.add 2.remove 3.show 4.quit\")\n",
    "    choice=int(input())\n",
    "    if choice==1:\n",
    "        enqueue()\n",
    "    elif choice==2:\n",
    "        dequeu()\n",
    "    elif choice==3:\n",
    "        display()\n",
    "    elif choice==4:\n",
    "        break\n",
    "    else:\n",
    "\n",
    "        print(\"enter the correct choice\")"
   ]
  },
  {
   "cell_type": "code",
   "execution_count": 10,
   "metadata": {},
   "outputs": [
    {
     "name": "stdout",
     "output_type": "stream",
     "text": [
      "deque([20, 30])\n",
      "False\n"
     ]
    }
   ],
   "source": [
    "import collections\n",
    "q=collections.deque()\n",
    "q.append(10)\n",
    "q.append(20)\n",
    "q.append(30)\n",
    "q.popleft()\n",
    "print(q)\n",
    "print(not q)"
   ]
  },
  {
   "cell_type": "code",
   "execution_count": 22,
   "metadata": {},
   "outputs": [
    {
     "name": "stdout",
     "output_type": "stream",
     "text": [
      "deque([50, 40, 30, 20, 10, 60, 70, 80, 90, 100])\n"
     ]
    }
   ],
   "source": [
    "Q = [10, 20, 30, 40, 50, 60, 70, 80, 90, 100]\n",
    "k=5\n",
    "stack=collections.deque()\n",
    "for i in range(k):\n",
    "    x=Q.pop(0)\n",
    "    stack.append(x)\n",
    "que=collections.deque()\n",
    "for i in range(len(stack)):\n",
    "    y=stack.pop()\n",
    "    que.append(y)\n",
    "for j in range(len(Q)):\n",
    "    z=Q.pop(0)\n",
    "    que.append(z)\n",
    "print(que)"
   ]
  },
  {
   "cell_type": "code",
   "execution_count": null,
   "metadata": {},
   "outputs": [],
   "source": []
  }
 ],
 "metadata": {
  "kernelspec": {
   "display_name": "Python 3",
   "language": "python",
   "name": "python3"
  },
  "language_info": {
   "codemirror_mode": {
    "name": "ipython",
    "version": 3
   },
   "file_extension": ".py",
   "mimetype": "text/x-python",
   "name": "python",
   "nbconvert_exporter": "python",
   "pygments_lexer": "ipython3",
   "version": "3.8.10"
  }
 },
 "nbformat": 4,
 "nbformat_minor": 4
}
