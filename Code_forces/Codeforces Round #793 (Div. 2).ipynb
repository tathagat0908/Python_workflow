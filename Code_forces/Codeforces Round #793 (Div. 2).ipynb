{
 "cells": [
  {
   "cell_type": "code",
   "execution_count": 15,
   "id": "a7f7c2ef",
   "metadata": {},
   "outputs": [
    {
     "name": "stdout",
     "output_type": "stream",
     "text": [
      "1\n",
      "4\n",
      "abab\n",
      "1\n"
     ]
    }
   ],
   "source": [
    "# Palindromic Indices\n",
    "\n",
    "def Pali(s,N):\n",
    "    count=0\n",
    "    temp=0\n",
    "    for i in range(N-1):\n",
    "        if(s[i]==s[i+1]):\n",
    "            count+=1\n",
    "            if(count>temp):\n",
    "                temp=count\n",
    "        else:\n",
    "            count=0\n",
    "    return temp+1\n",
    "\n",
    "T=int(input())\n",
    "for i in range(T):\n",
    "    N=int(input())\n",
    "    s=input()\n",
    "    print(Pali(s,N))"
   ]
  },
  {
   "cell_type": "code",
   "execution_count": null,
   "id": "fb549849",
   "metadata": {},
   "outputs": [],
   "source": [
    "# Palindromic Indices\n",
    "\n",
    "def Pali(s,N):\n",
    "    if(N%2==0):\n",
    "        j=N//2\n",
    "        count=1\n",
    "        while(j<N-1):\n",
    "            if(s[j]==s[j+1]):\n",
    "                count+=1\n",
    "            j+=1\n",
    "        return count*2\n",
    "    else:\n",
    "        j=N//2\n",
    "        count=0\n",
    "        while(j<N-1):\n",
    "            if(s[j]==s[j+1]):\n",
    "                count+=1\n",
    "            j+=1\n",
    "        return count\n",
    "        \n",
    "    \n",
    "T=int(input())\n",
    "for i in range(T):\n",
    "    N=int(input())\n",
    "    s=input()\n",
    "    print(Pali(s,N))"
   ]
  }
 ],
 "metadata": {
  "kernelspec": {
   "display_name": "Python 3 (ipykernel)",
   "language": "python",
   "name": "python3"
  },
  "language_info": {
   "codemirror_mode": {
    "name": "ipython",
    "version": 3
   },
   "file_extension": ".py",
   "mimetype": "text/x-python",
   "name": "python",
   "nbconvert_exporter": "python",
   "pygments_lexer": "ipython3",
   "version": "3.8.10"
  }
 },
 "nbformat": 4,
 "nbformat_minor": 5
}
