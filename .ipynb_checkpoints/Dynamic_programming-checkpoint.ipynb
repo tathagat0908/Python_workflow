{
 "cells": [
  {
   "cell_type": "code",
   "execution_count": 32,
   "metadata": {},
   "outputs": [
    {
     "data": {
      "text/plain": [
       "9"
      ]
     },
     "execution_count": 32,
     "metadata": {},
     "output_type": "execute_result"
    }
   ],
   "source": [
    "# 0-1 knapsack\n",
    "\n",
    "def knapsack(wt,val,weight,n):\n",
    "    if n==0 or weight==0:\n",
    "        return 0\n",
    "    if wt[n-1]<=weight:\n",
    "        return max(val[n-1]+knapsack(wt,val,weight-wt[n-1],n-1),knapsack(wt,val,weight,n-1))\n",
    "    elif wt[n-1]>weight:\n",
    "        return knapsack(wt,val,weight,n-1)\n",
    "wt=[1,3,4,5]\n",
    "val=[1,4,5,7] \n",
    "weight=7\n",
    "n=len(wt)\n",
    "knapsack(wt,val,weight,n)"
   ]
  },
  {
   "cell_type": "code",
   "execution_count": 48,
   "metadata": {},
   "outputs": [
    {
     "data": {
      "text/plain": [
       "220"
      ]
     },
     "execution_count": 48,
     "metadata": {},
     "output_type": "execute_result"
    }
   ],
   "source": [
    "# 0-1 knapsack (memoziation)\n",
    "\n",
    "import numpy as np\n",
    "r=n+1\n",
    "c=weight+1\n",
    "val=[-1]*r*c\n",
    "matrix=np.array(val).reshape(r,c)\n",
    "\n",
    "\n",
    "def knapsack(wt,val,weight,n):\n",
    "    if n==0 or weight==0:\n",
    "        return 0\n",
    "    if matrix[n][weight]!=-1: \n",
    "        \n",
    "        return matrix[n][weight]\n",
    "    \n",
    "    if wt[n-1]<=weight:\n",
    "        matrix[n][weight]=max(val[n-1]+knapsack(wt,val,weight-wt[n-1],n-1),knapsack(wt,val,weight,n-1))\n",
    "        return matrix[n][weight]\n",
    "        \n",
    "    elif wt[n-1]>weight:\n",
    "        matrix[n][weight]=knapsack(wt,val,weight,n-1)\n",
    "        return matrix[n][weight]\n",
    "    \n",
    "    \n",
    "wt=[10, 20, 30]\n",
    "val=[60, 100, 120]\n",
    "weight=50\n",
    "n=len(wt)\n",
    "knapsack(wt,val,weight,n)"
   ]
  },
  {
   "cell_type": "code",
   "execution_count": 81,
   "metadata": {},
   "outputs": [
    {
     "name": "stdout",
     "output_type": "stream",
     "text": [
      "[[0 0 0 0 0 0 0 0]\n",
      " [0 1 1 1 1 1 1 1]\n",
      " [0 1 1 4 5 5 5 5]\n",
      " [0 1 1 4 5 6 6 9]\n",
      " [0 1 1 4 5 7 8 9]]\n",
      "9\n"
     ]
    }
   ],
   "source": [
    "# 0-1 knapsack (top-down)\n",
    "\n",
    "import numpy as np\n",
    "\n",
    "wt=[1,3,4,5]\n",
    "val=[1,4,5,7]\n",
    "weight=7\n",
    "n=len(wt)\n",
    "\n",
    "r=n+1\n",
    "c=weight+1\n",
    "v=[-1]*r*c\n",
    "mat=np.array(v).reshape(r,c) \n",
    "\n",
    "for i in range(r):\n",
    "    for j in range(c):\n",
    "        if i==0 or j==0:\n",
    "            mat[i][j]=0\n",
    "            \n",
    "    \n",
    "for i in range(1,r):\n",
    "    for j in range(1,c):\n",
    "        \n",
    "        if wt[i-1]<=j:\n",
    "            mat[i][j]=max(val[i-1]+mat[i-1][j-wt[i-1]],mat[i-1][j])\n",
    "            \n",
    "        else:\n",
    "            mat[i][j]=mat[i-1][j]\n",
    "\n",
    "print(mat)\n",
    "print(mat[n][weight])\n",
    "\n"
   ]
  },
  {
   "cell_type": "code",
   "execution_count": 7,
   "metadata": {},
   "outputs": [
    {
     "name": "stdout",
     "output_type": "stream",
     "text": [
      "[[1 0 0 0 0 0 0 0 0 0 0]\n",
      " [1 0 0 1 0 0 0 0 0 0 0]\n",
      " [1 0 0 1 0 0 0 0 0 0 0]\n",
      " [1 0 0 1 1 0 0 1 0 0 0]\n",
      " [1 0 0 1 1 0 0 1 0 0 0]\n",
      " [1 0 0 1 1 1 0 1 1 1 0]\n",
      " [1 0 1 1 1 1 1 1 1 1 1]]\n",
      "True\n"
     ]
    }
   ],
   "source": [
    "# Subset sum problem:\n",
    "arr=[3, 34, 4, 12, 5, 2]\n",
    "su=10\n",
    "\n",
    "import numpy as np\n",
    "r=len(arr)+1\n",
    "c=su+1\n",
    "v=[0]*(r)*(c)\n",
    "mat=np.array(v).reshape(r,c)\n",
    "\n",
    "for i in range(r):\n",
    "    for j in range(c):\n",
    "        if i==0:\n",
    "            mat[i][j]=False\n",
    "        if j==0:\n",
    "            mat[i][j]=True\n",
    "            \n",
    "for i in range(1,r):\n",
    "    for j in range(1,c):\n",
    "        if arr[i-1]<=j:\n",
    "            mat[i][j]=(mat[i-1][j-arr[i-1]]) or (mat[i-1][j])\n",
    "        else:\n",
    "            mat[i][j]=mat[i-1][j]\n",
    "\n",
    "print(mat)\n",
    "\n",
    "print(bool(mat[r-1][c-1]))"
   ]
  },
  {
   "cell_type": "code",
   "execution_count": 9,
   "metadata": {},
   "outputs": [
    {
     "data": {
      "text/plain": [
       "True"
      ]
     },
     "execution_count": 9,
     "metadata": {},
     "output_type": "execute_result"
    }
   ],
   "source": [
    "# Equal sum partition problem \n",
    "arr=[1,5,5,11]\n",
    "\n",
    "def subset_sum(arr,su):\n",
    "    import numpy as np\n",
    "    r=len(arr)+1\n",
    "    c=su+1\n",
    "    v=[0]*(r)*(c)\n",
    "    mat=np.array(v).reshape(r,c)\n",
    "\n",
    "    for i in range(r):\n",
    "        for j in range(c):\n",
    "            if i==0:\n",
    "                mat[i][j]=False\n",
    "            if j==0:\n",
    "                mat[i][j]=True\n",
    "\n",
    "    for i in range(1,r):\n",
    "        for j in range(1,c):\n",
    "            if arr[i-1]<=j:\n",
    "                mat[i][j]=(mat[i-1][j-arr[i-1]]) or (mat[i-1][j])\n",
    "            else:\n",
    "                mat[i][j]=mat[i-1][j]\n",
    "    return bool(mat[r-1][c-1])\n",
    "\n",
    "def equal(arr):\n",
    "    su=sum(arr)\n",
    "    if su%2!=0:\n",
    "        return False\n",
    "    else:\n",
    "        return subset_sum(arr,su//2)\n",
    "\n",
    "equal(arr)"
   ]
  },
  {
   "cell_type": "code",
   "execution_count": 5,
   "metadata": {},
   "outputs": [
    {
     "name": "stdout",
     "output_type": "stream",
     "text": [
      "[[1 0 0 0 0 0 0 0 0 0 0]\n",
      " [1 0 1 0 0 0 0 0 0 0 0]\n",
      " [1 0 1 1 0 1 0 0 0 0 0]\n",
      " [1 0 1 1 0 2 0 1 1 0 1]\n",
      " [1 0 1 1 0 2 1 1 2 1 1]\n",
      " [1 0 1 1 0 2 1 1 3 1 2]\n",
      " [1 0 1 1 0 2 1 1 3 1 3]]\n",
      "3\n"
     ]
    }
   ],
   "source": [
    "# Sub_set sum problem\n",
    "\n",
    "arr=[2,3,5,6,8,10]\n",
    "su=10\n",
    "\n",
    "import numpy as np\n",
    "r=len(arr)+1\n",
    "c=su+1\n",
    "v=[0]*(r)*(c)\n",
    "mat=np.array(v).reshape(r,c)\n",
    "\n",
    "for i in range(r):\n",
    "    for j in range(c):\n",
    "        if i==0:\n",
    "            mat[i][j]=False\n",
    "        if j==0:\n",
    "            mat[i][j]=True\n",
    "            \n",
    "for i in range(1,r):\n",
    "    for j in range(1,c):\n",
    "        if arr[i-1]<=j:\n",
    "            mat[i][j]=(mat[i-1][j-arr[i-1]]) + (mat[i-1][j])\n",
    "        else:\n",
    "            mat[i][j]=mat[i-1][j]\n",
    "\n",
    "print(mat)\n",
    "print(mat[r-1][c-1])"
   ]
  },
  {
   "cell_type": "code",
   "execution_count": null,
   "metadata": {},
   "outputs": [],
   "source": []
  },
  {
   "cell_type": "code",
   "execution_count": null,
   "metadata": {},
   "outputs": [],
   "source": []
  },
  {
   "cell_type": "code",
   "execution_count": null,
   "metadata": {},
   "outputs": [],
   "source": []
  },
  {
   "cell_type": "code",
   "execution_count": null,
   "metadata": {},
   "outputs": [],
   "source": []
  },
  {
   "cell_type": "code",
   "execution_count": null,
   "metadata": {},
   "outputs": [],
   "source": []
  },
  {
   "cell_type": "code",
   "execution_count": null,
   "metadata": {},
   "outputs": [],
   "source": []
  }
 ],
 "metadata": {
  "kernelspec": {
   "display_name": "Python 3 (ipykernel)",
   "language": "python",
   "name": "python3"
  },
  "language_info": {
   "codemirror_mode": {
    "name": "ipython",
    "version": 3
   },
   "file_extension": ".py",
   "mimetype": "text/x-python",
   "name": "python",
   "nbconvert_exporter": "python",
   "pygments_lexer": "ipython3",
   "version": "3.8.10"
  }
 },
 "nbformat": 4,
 "nbformat_minor": 4
}
