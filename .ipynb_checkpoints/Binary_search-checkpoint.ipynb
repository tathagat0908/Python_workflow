{
 "cells": [
  {
   "cell_type": "code",
   "execution_count": 4,
   "metadata": {},
   "outputs": [
    {
     "data": {
      "text/plain": [
       "9"
      ]
     },
     "execution_count": 4,
     "metadata": {},
     "output_type": "execute_result"
    }
   ],
   "source": [
    "# Binary Search in accending array \n",
    "arr=[1,2,3,4,5,6,7,8,9,10,11]\n",
    "start=0\n",
    "end=len(arr)-1\n",
    "x=10\n",
    "def bin_search(arr,start,end,x):\n",
    "    while(start<=end):\n",
    "        mid=(start+end)//2\n",
    "        if arr[mid]==x:\n",
    "            return mid \n",
    "        elif arr[mid]<x:\n",
    "            start=mid+1\n",
    "        else:\n",
    "            end=mid-1\n",
    "    return -1\n",
    "\n",
    "bin_search(arr,start,end,x)"
   ]
  },
  {
   "cell_type": "code",
   "execution_count": 7,
   "metadata": {},
   "outputs": [
    {
     "data": {
      "text/plain": [
       "0"
      ]
     },
     "execution_count": 7,
     "metadata": {},
     "output_type": "execute_result"
    }
   ],
   "source": [
    "# Binary Serch in decending array\n",
    "arr=[20,17,16,12,10,7,5,2,1]\n",
    "start=0\n",
    "end=len(arr)-1\n",
    "x=40\n",
    "def bin_search(arr,start,end,x):\n",
    "    while(start<=end):\n",
    "        mid=start+(end-start)//2\n",
    "        if arr[mid]==x:\n",
    "            return mid\n",
    "        elif arr[mid]>x:\n",
    "            start=mid+1\n",
    "        else:\n",
    "            end=mid-1\n",
    "\n",
    "    return -1\n",
    "\n",
    "bin_search(arr,start,end,x)"
   ]
  },
  {
   "cell_type": "code",
   "execution_count": null,
   "metadata": {},
   "outputs": [],
   "source": []
  }
 ],
 "metadata": {
  "kernelspec": {
   "display_name": "Python 3",
   "language": "python",
   "name": "python3"
  },
  "language_info": {
   "codemirror_mode": {
    "name": "ipython",
    "version": 3
   },
   "file_extension": ".py",
   "mimetype": "text/x-python",
   "name": "python",
   "nbconvert_exporter": "python",
   "pygments_lexer": "ipython3",
   "version": "3.8.10"
  }
 },
 "nbformat": 4,
 "nbformat_minor": 4
}
