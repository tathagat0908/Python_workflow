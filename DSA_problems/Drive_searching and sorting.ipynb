{
 "cells": [
  {
   "cell_type": "code",
   "execution_count": 12,
   "metadata": {},
   "outputs": [
    {
     "name": "stdout",
     "output_type": "stream",
     "text": [
      "1\n",
      "30 8\n",
      "1 1 1 2 3 3 3 4 4 4 4 4 5 5 6 7 7 7 8 8 8 8 9 9 9 9 9 10 10 10\n",
      "[18, 19, 20, 21]\n",
      "18 21\n"
     ]
    }
   ],
   "source": [
    "#1 Find first and last positions of an element in a sorted array\n",
    "\n",
    "def find(arr,n,x):\n",
    "    # code here\n",
    "    l=[];c=0\n",
    "    for i in range(n):\n",
    "        if arr[i]==x:\n",
    "            l.append(i)\n",
    "            c+=1\n",
    "    if c>0:\n",
    "        return l[0],l[-1]\n",
    "    else:\n",
    "        return [-1,-1]\n",
    "\n",
    "t=int(input())\n",
    "for _ in range(0,t):\n",
    "    l=list(map(int,input().split()))\n",
    "    n=l[0]\n",
    "    x=l[1]\n",
    "    arr=list(map(int,input().split()))\n",
    "    ans=find(arr,n,x)\n",
    "    print(*ans)\n",
    "# } Driver Code Ends"
   ]
  },
  {
   "cell_type": "code",
   "execution_count": 20,
   "metadata": {},
   "outputs": [
    {
     "name": "stdout",
     "output_type": "stream",
     "text": [
      "1\n",
      "5\n",
      "15 2 45 12 7\n",
      "2 \n"
     ]
    }
   ],
   "source": [
    "#2 Find a Fixed Point (Value equal to index) in a given array\n",
    "class Solution:\n",
    "\n",
    "    def valueEqualToIndex(self,arr, n):\n",
    "    # code here\n",
    "        ans=[]\n",
    "        for i in range(n):\n",
    "            if arr[i]==i+1:\n",
    "                ans.append(arr[i])\n",
    "        return ans\n",
    "\n",
    "if __name__ == '__main__':\n",
    "    tc = int(input())\n",
    "    while tc > 0:\n",
    "        n = int(input())\n",
    "        arr = list(map(int, input().strip().split()))\n",
    "        ob = Solution()\n",
    "        ans = ob.valueEqualToIndex(arr, n)\n",
    "        if len(ans) == 0:\n",
    "            print(\"Not Found\")\n",
    "        else:\n",
    "            for x in ans:\n",
    "                print(x, end=\" \")\n",
    "            print()\n",
    "        tc -= 1\n"
   ]
  },
  {
   "cell_type": "code",
   "execution_count": null,
   "metadata": {},
   "outputs": [],
   "source": [
    "#3 "
   ]
  }
 ],
 "metadata": {
  "kernelspec": {
   "display_name": "Python 3",
   "language": "python",
   "name": "python3"
  },
  "language_info": {
   "codemirror_mode": {
    "name": "ipython",
    "version": 3
   },
   "file_extension": ".py",
   "mimetype": "text/x-python",
   "name": "python",
   "nbconvert_exporter": "python",
   "pygments_lexer": "ipython3",
   "version": "3.8.10"
  }
 },
 "nbformat": 4,
 "nbformat_minor": 4
}
