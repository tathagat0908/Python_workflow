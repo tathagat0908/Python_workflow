{
 "cells": [
  {
   "cell_type": "code",
   "execution_count": 11,
   "metadata": {},
   "outputs": [
    {
     "data": {
      "text/plain": [
       "[1, 2, 3, 4, 5]"
      ]
     },
     "execution_count": 11,
     "metadata": {},
     "output_type": "execute_result"
    }
   ],
   "source": [
    "#1\n",
    "class Stack:\n",
    "    def __init__(self):\n",
    "        self.top=-1\n",
    "        self.arr=[]\n",
    "    \n",
    "    def isEmpty(self):\n",
    "        if self.top==-1:\n",
    "            return True\n",
    "        else:\n",
    "            return False\n",
    "    \n",
    "    def peek(self):\n",
    "        return self.arr[-1]\n",
    "    \n",
    "    def push(self,data):\n",
    "        self.top+=1\n",
    "        self.arr.append(data)\n",
    "        \n",
    "    def pop(self):\n",
    "        if self.isEmpty():\n",
    "            print(\"$\")\n",
    "        else:\n",
    "            self.top-=1\n",
    "            self.arr.pop()\n",
    "    \n",
    "    def show(self):\n",
    "        return self.arr\n",
    "\n",
    "obj=Stack()\n",
    "obj.push(1)\n",
    "obj.push(2)\n",
    "obj.push(3)\n",
    "obj.push(4)\n",
    "obj.push(5)\n",
    "obj.push(6)\n",
    "obj.pop()\n",
    "obj.show()\n",
    "            "
   ]
  },
  {
   "cell_type": "code",
   "execution_count": 8,
   "metadata": {},
   "outputs": [
    {
     "data": {
      "text/plain": [
       "[20, 30]"
      ]
     },
     "execution_count": 8,
     "metadata": {},
     "output_type": "execute_result"
    }
   ],
   "source": [
    "#2\n",
    "class Queue:\n",
    "    \n",
    "    def __init__(self):\n",
    "        self.arr=[]\n",
    "        self.front=-1\n",
    "        self.rear=-1\n",
    "    \n",
    "    def isEmpty(self):\n",
    "        if len(self.arr)==0:\n",
    "            return True\n",
    "        else:\n",
    "            return False\n",
    "    \n",
    "    def enque(self,data):\n",
    "        self.rear+=1\n",
    "        self.arr.insert(self.rear,data)\n",
    "        \n",
    "    \n",
    "    def deque(self):\n",
    "        if self.isEmpty():\n",
    "            return \"$\"\n",
    "        else:\n",
    "            self.front+=1\n",
    "            self.arr.pop(self.front)\n",
    "            \n",
    "            \n",
    "    def show(self):\n",
    "        return self.arr\n",
    "    \n",
    "    def show_front(self):\n",
    "        return self.arr[self.front]\n",
    "    \n",
    "    def show_rear(self):\n",
    "        return self.arr[self.rear]\n",
    "    \n",
    "obj1=Queue()\n",
    "obj1.enque(10)\n",
    "obj1.enque(20)\n",
    "obj1.enque(30)\n",
    "obj1.deque()\n",
    "obj1.show_front()\n",
    "obj1.show()"
   ]
  },
  {
   "cell_type": "code",
   "execution_count": 9,
   "metadata": {},
   "outputs": [
    {
     "data": {
      "text/plain": [
       "[3, 2, 1, 7, 8]"
      ]
     },
     "execution_count": 9,
     "metadata": {},
     "output_type": "execute_result"
    }
   ],
   "source": [
    "#4. find the middle element of a stack\n",
    "\n",
    "stack=[3,2,1,5,7,8]\n",
    "size=len(stack)\n",
    "def deel(stack):\n",
    "    if len(stack)==0:\n",
    "        return stack\n",
    "    k=(size+1)//2\n",
    "    \n",
    "    sol(stack,k)\n",
    "    return stack\n",
    "\n",
    "def sol(stack,k):\n",
    "    if k==1:\n",
    "\n",
    "        stack.pop()\n",
    "        return\n",
    "    temp=stack.pop()\n",
    "    sol(stack,k-1)\n",
    "    stack.append(temp)\n",
    "    return \n",
    "\n",
    "deel(stack)"
   ]
  },
  {
   "cell_type": "code",
   "execution_count": 25,
   "metadata": {},
   "outputs": [
    {
     "data": {
      "text/plain": [
       "False"
      ]
     },
     "execution_count": 25,
     "metadata": {},
     "output_type": "execute_result"
    }
   ],
   "source": [
    "#6 Check the expression has valid or Balanced parenthesis or not.\n",
    "\n",
    "x=\"{}{(}))}\"\n",
    "\n",
    "def ispar(x):\n",
    "    stack=[]\n",
    "    for i in x:\n",
    "        if i == \"[\" or i==\"{\" or i==\"(\":\n",
    "            stack.append(i)\n",
    "        elif len(stack)!=0:\n",
    "            if (i==\")\" and stack[-1]==\"(\") or (i==\"}\" and stack[-1]==\"{\") or (i==\"]\" and stack[-1]==\"[\"):\n",
    "                stack.pop()\n",
    "            else:\n",
    "                return False\n",
    "        else:\n",
    "            return False\n",
    "        \n",
    "    if len(stack)==0:\n",
    "        return True\n",
    "    else:\n",
    "        return False\n",
    "ispar(x)"
   ]
  },
  {
   "cell_type": "code",
   "execution_count": 24,
   "metadata": {},
   "outputs": [
    {
     "name": "stdout",
     "output_type": "stream",
     "text": [
      "limag@liamg\n"
     ]
    }
   ],
   "source": [
    "#6 Reverse a String using Stack\n",
    "S=\"gmail@gamil\"\n",
    "s=\"\"\n",
    "stack=[]\n",
    "for i in S:\n",
    "    stack.append(i)\n",
    "\n",
    "while(len(stack)!=0):\n",
    "    temp=stack.pop()\n",
    "    s+=temp\n",
    "print(s)\n"
   ]
  },
  {
   "cell_type": "code",
   "execution_count": 27,
   "metadata": {},
   "outputs": [
    {
     "name": "stdout",
     "output_type": "stream",
     "text": [
      "1\n",
      "4\n",
      "1 2 3 4\n",
      "1\n"
     ]
    }
   ],
   "source": [
    "#7 Design a Stack that supports getMin() in O(1) time and O(1) extra space.\n",
    "def push(arr, ele):\n",
    "    # Code here\n",
    "    arr.append(ele)\n",
    "\n",
    "# Function should pop an element from stack\n",
    "def pop(arr):\n",
    "    # Code here\n",
    "    arr.pop()\n",
    "\n",
    "# function should return 1/0 or True/False\n",
    "def isFull(n, arr):\n",
    "    # Code here\n",
    "    if n==len(arr):\n",
    "        return True\n",
    "    else:\n",
    "        return False\n",
    "\n",
    "# function should return 1/0 or True/False\n",
    "def isEmpty(arr):\n",
    "    #Code here\n",
    "    if len(arr)==0:\n",
    "        return True\n",
    "    else:\n",
    "        return False\n",
    "\n",
    "# function should return minimum element from the stack\n",
    "def getMin(n, arr):\n",
    "    # Code here\n",
    "    return min(arr)\n",
    "\n",
    "#{ \n",
    "#  Driver Code Starts\n",
    "if __name__=='__main__':\n",
    "    t = int(input())\n",
    "    for i in range(t):\n",
    "        n = int(input())\n",
    "        arr = list(map(int, input().strip().split()))\n",
    "        stack = []\n",
    "        while(not isEmpty(stack)):\n",
    "            pop(stack)\n",
    "            \n",
    "        for i in range(n):\n",
    "            push(stack, arr[i])\n",
    "        print(getMin(n, stack))"
   ]
  },
  {
   "cell_type": "code",
   "execution_count": null,
   "metadata": {},
   "outputs": [
    {
     "name": "stdout",
     "output_type": "stream",
     "text": [
      "4\n",
      "4\n",
      "1 3 2 4\n",
      "3 4 4 -1 \n"
     ]
    }
   ],
   "source": [
    "#8 Next Greatest Element\n",
    "\n",
    "def nextLargerElement(arr,n):\n",
    "    #code here\n",
    "    l=[]\n",
    "    stack=[]\n",
    "    for i in range(n-1,-1,-1):\n",
    "        if len(stack)==0:\n",
    "            l.append(-1)\n",
    "        elif len(stack)>0 and arr[i]<stack[-1]:\n",
    "            l.append(stack[-1])\n",
    "        elif len(stack)>0 and arr[i]>=stack[-1]:\n",
    "            while(len(stack)==0 or arr[i]>=stack[-1]):\n",
    "                stack.pop()\n",
    "                if len(stack)==0:\n",
    "                    break\n",
    "            if len(stack)==0:\n",
    "                l.append(-1)\n",
    "            else:\n",
    "                l.append(stack[-1])\n",
    "\n",
    "        stack.append(arr[i])\n",
    "    l.reverse()\n",
    "\n",
    "    return l                \n",
    "\n",
    "\n",
    "test_cases = int(input())\n",
    "for cases in range(test_cases) :\n",
    "    n = int(input())\n",
    "\n",
    "    a = list(map(int,input().strip().split()))\n",
    "    res = nextLargerElement(a,n)\n",
    "    for i in range (len (res)):\n",
    "        print (res[i], end = \" \")\n",
    "    print ()\n",
    "# } Driver Code Ends"
   ]
  },
  {
   "cell_type": "code",
   "execution_count": null,
   "metadata": {},
   "outputs": [],
   "source": [
    "#9 "
   ]
  },
  {
   "cell_type": "code",
   "execution_count": null,
   "metadata": {},
   "outputs": [],
   "source": []
  },
  {
   "cell_type": "code",
   "execution_count": null,
   "metadata": {},
   "outputs": [],
   "source": []
  },
  {
   "cell_type": "code",
   "execution_count": null,
   "metadata": {},
   "outputs": [],
   "source": []
  },
  {
   "cell_type": "code",
   "execution_count": null,
   "metadata": {},
   "outputs": [],
   "source": []
  },
  {
   "cell_type": "code",
   "execution_count": null,
   "metadata": {},
   "outputs": [],
   "source": []
  },
  {
   "cell_type": "code",
   "execution_count": null,
   "metadata": {},
   "outputs": [],
   "source": []
  },
  {
   "cell_type": "code",
   "execution_count": null,
   "metadata": {},
   "outputs": [],
   "source": []
  },
  {
   "cell_type": "code",
   "execution_count": null,
   "metadata": {},
   "outputs": [],
   "source": []
  }
 ],
 "metadata": {
  "kernelspec": {
   "display_name": "Python 3",
   "language": "python",
   "name": "python3"
  },
  "language_info": {
   "codemirror_mode": {
    "name": "ipython",
    "version": 3
   },
   "file_extension": ".py",
   "mimetype": "text/x-python",
   "name": "python",
   "nbconvert_exporter": "python",
   "pygments_lexer": "ipython3",
   "version": "3.8.10"
  }
 },
 "nbformat": 4,
 "nbformat_minor": 4
}
