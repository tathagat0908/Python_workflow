{
 "cells": [
  {
   "cell_type": "code",
   "execution_count": 1,
   "metadata": {},
   "outputs": [
    {
     "name": "stdout",
     "output_type": "stream",
     "text": [
      "3\n",
      "1 3 5 7 9 2 4 6 8\n",
      "1 3 5 2 8 6 4 7 9 "
     ]
    }
   ],
   "source": [
    "#1\n",
    "import numpy as np\n",
    "\n",
    "def sprical(mat,n):\n",
    "    top=0;down=n-1;left=0;right=n-1;dr=0\n",
    "    while(top<=down and left<=right):\n",
    "        if dr==0:\n",
    "            for i in range(left,right+1):\n",
    "                print(mat[top][i],end=\" \")\n",
    "            top+=1\n",
    "        elif dr==1:\n",
    "            for i in range(top,down+1):\n",
    "                print(mat[i][right],end=\" \")\n",
    "            right-=1\n",
    "        elif dr==2:\n",
    "            for i in range(right,left-1,-1):\n",
    "                print(mat[down][i],end=\" \")\n",
    "            down-=1\n",
    "        elif dr==3:\n",
    "            for i in range(down,top-1,-1):\n",
    "                print(mat[i][left],end=\" \")\n",
    "            left+=1\n",
    "        dr=(dr+1)%4\n",
    "    \n",
    "n=int(input())\n",
    "val=list(map(int,input().split()))\n",
    "mat=np.array(val).reshape((n,n))\n",
    "sprical(mat,n)"
   ]
  },
  {
   "cell_type": "code",
   "execution_count": 3,
   "metadata": {},
   "outputs": [
    {
     "name": "stdout",
     "output_type": "stream",
     "text": [
      "3\n",
      "3\n",
      "1 2 3 12 13 14 23 34 45\n"
     ]
    },
    {
     "data": {
      "text/plain": [
       "True"
      ]
     },
     "execution_count": 3,
     "metadata": {},
     "output_type": "execute_result"
    }
   ],
   "source": [
    "#2\n",
    "import numpy as np\n",
    "\n",
    "def search(mat,key,r,c):\n",
    "    t=0\n",
    "    for i in range(r):\n",
    "        \n",
    "        if (mat[i][0]<=key and mat[i][c-1]>=key):\n",
    "    \n",
    "            for j in range(c):\n",
    "       \n",
    "                if mat[i][j]==key:\n",
    "                    t+=1\n",
    "    if(t>0):\n",
    "        return True\n",
    "    else:\n",
    "        return False\n",
    "\n",
    "\n",
    "r=int(input());c=int(input())\n",
    "val=list(map(int,input().split()))\n",
    "mat=np.array(val).reshape((r,c))\n",
    "key=12\n",
    "search(mat,key,r,c)"
   ]
  },
  {
   "cell_type": "code",
   "execution_count": 8,
   "metadata": {},
   "outputs": [
    {
     "name": "stdout",
     "output_type": "stream",
     "text": [
      "2\n",
      "2\n",
      "1 2 3 4\n"
     ]
    },
    {
     "data": {
      "text/plain": [
       "2.5"
      ]
     },
     "execution_count": 8,
     "metadata": {},
     "output_type": "execute_result"
    }
   ],
   "source": [
    "#3 \n",
    "\n",
    "import statistics as sta \n",
    "\n",
    "def median(mat,r,c):\n",
    "    a=[]\n",
    "    for i in range(r):\n",
    "        for j in range(c):\n",
    "            a.append(mat[i][j])\n",
    "    a.sort()\n",
    "    return sta.median(a)\n",
    "r=int(input());c=int(input())\n",
    "val=list(map(int,input().split()))\n",
    "mat=np.array(val).reshape((r,c))\n",
    "median(mat,r,c)"
   ]
  },
  {
   "cell_type": "code",
   "execution_count": 14,
   "metadata": {},
   "outputs": [
    {
     "name": "stdout",
     "output_type": "stream",
     "text": [
      "2\n",
      "2\n",
      "0 0 1 1\n"
     ]
    },
    {
     "data": {
      "text/plain": [
       "1"
      ]
     },
     "execution_count": 14,
     "metadata": {},
     "output_type": "execute_result"
    }
   ],
   "source": [
    "#4\n",
    "\n",
    "import numpy as np\n",
    "def max1(mat,r,c):\n",
    "    \n",
    "    a=[]\n",
    "    for i in range(r):\n",
    "        t=0\n",
    "        for j in range(c):\n",
    "            if mat[i][j]==1:\n",
    "                t+=1\n",
    "        a.append(t)\n",
    "    if sum(a)==0:\n",
    "        return -1\n",
    "    else:\n",
    "        return a.index(max(a))\n",
    "r=int(input());c=int(input())\n",
    "val=list(map(int,input().split()))\n",
    "mat=np.array(val).reshape((r,c))\n",
    "max1(mat,r,c)"
   ]
  },
  {
   "cell_type": "code",
   "execution_count": 14,
   "metadata": {
    "scrolled": true
   },
   "outputs": [
    {
     "name": "stdout",
     "output_type": "stream",
     "text": [
      "4\n",
      "10 20 30 40 15 25 35 45 27 29 37 48 32 33 39 50\n",
      "10 15 20 25 \n",
      "27 29 30 32 \n",
      "33 35 37 39 \n",
      "40 45 48 50 \n"
     ]
    }
   ],
   "source": [
    "#5\n",
    "import numpy as np\n",
    "def sortmat(mat,n):\n",
    "    a=[]\n",
    "    for i in range(n):\n",
    "        for j in range(n):\n",
    "            a.append(mat[i][j])\n",
    "    a.sort()\n",
    "    t=n\n",
    "    for i in range(0,len(a),n):\n",
    "        for j in range(i,t):\n",
    "            print(a[j],end=\" \")\n",
    "        print()\n",
    "        t+=n\n",
    "    \n",
    "\n",
    "n=int(input())\n",
    "val=list(map(int,input().split()))\n",
    "mat=np.array(val).reshape((n,n))\n",
    "sortmat(mat,n)"
   ]
  },
  {
   "cell_type": "code",
   "execution_count": 15,
   "metadata": {},
   "outputs": [
    {
     "name": "stdout",
     "output_type": "stream",
     "text": [
      "4\n",
      "10 20 30 40 15 25 35 45 27 29 37 48 32 33 39 50\n"
     ]
    },
    {
     "data": {
      "text/plain": [
       "array([[10, 15, 20, 25],\n",
       "       [27, 29, 30, 32],\n",
       "       [33, 35, 37, 39],\n",
       "       [40, 45, 48, 50]])"
      ]
     },
     "execution_count": 15,
     "metadata": {},
     "output_type": "execute_result"
    }
   ],
   "source": [
    "#5\n",
    "import numpy as np\n",
    "def sortmat(mat,n):\n",
    "    a=[]\n",
    "    for i in range(n):\n",
    "        for j in range(n):\n",
    "            a.append(mat[i][j])\n",
    "    a.sort()\n",
    "    mat1=np.array(a).reshape((n,n))\n",
    "    return mat1\n",
    "\n",
    "n=int(input())\n",
    "val=list(map(int,input().split()))\n",
    "mat=np.array(val).reshape((n,n))\n",
    "sortmat(mat,n)"
   ]
  },
  {
   "cell_type": "code",
   "execution_count": null,
   "metadata": {},
   "outputs": [],
   "source": []
  },
  {
   "cell_type": "code",
   "execution_count": null,
   "metadata": {},
   "outputs": [],
   "source": [
    " "
   ]
  },
  {
   "cell_type": "code",
   "execution_count": null,
   "metadata": {},
   "outputs": [],
   "source": []
  }
 ],
 "metadata": {
  "kernelspec": {
   "display_name": "Python 3",
   "language": "python",
   "name": "python3"
  },
  "language_info": {
   "codemirror_mode": {
    "name": "ipython",
    "version": 3
   },
   "file_extension": ".py",
   "mimetype": "text/x-python",
   "name": "python",
   "nbconvert_exporter": "python",
   "pygments_lexer": "ipython3",
   "version": "3.8.10"
  }
 },
 "nbformat": 4,
 "nbformat_minor": 4
}
