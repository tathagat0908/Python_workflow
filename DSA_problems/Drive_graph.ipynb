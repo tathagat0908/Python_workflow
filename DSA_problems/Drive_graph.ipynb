{
 "cells": [
  {
   "cell_type": "code",
   "execution_count": 24,
   "metadata": {},
   "outputs": [
    {
     "name": "stdout",
     "output_type": "stream",
     "text": [
      "A : ['B']\n",
      "B : ['A', 'C', 'D']\n",
      "C : ['B']\n",
      "D : ['B']\n"
     ]
    }
   ],
   "source": [
    "#1 Create a Graph, print it\n",
    "\n",
    "graph={}\n",
    "\n",
    "def add_node(V):\n",
    "    if V in graph:\n",
    "        print(\"Node already exist\")\n",
    "    else:\n",
    "        graph[V]=[]\n",
    "\n",
    "def add_edge(V1,V2):\n",
    "    if V1 not in graph:\n",
    "        print(\"Edge can not be created\")\n",
    "    elif V2 not in graph:\n",
    "        print(\"Edge can not be created\")\n",
    "    else:\n",
    "        graph[V1].append(V2)\n",
    "        graph[V2].append(V1)\n",
    "        \n",
    "def delete_node(V):\n",
    "    if V not in graph:\n",
    "        print(\"Node already does not exist\")\n",
    "    else:\n",
    "        graph.pop(V)\n",
    "        for i in graph:\n",
    "            lis=graph[i]\n",
    "            if V in lis:\n",
    "                lis.remove(V)\n",
    "\n",
    "def delete_edge(V1,V2):\n",
    "    if V1 not in graph:\n",
    "        print(\"Edge can not be created\")\n",
    "    elif V2 not in graph:\n",
    "        print(\"Edge can not be created\")\n",
    "    else:\n",
    "        graph[V1].remove(V2)\n",
    "        graph[V2].remove(V1)\n",
    "        \n",
    "    \n",
    "add_node(\"A\")\n",
    "add_node(\"B\")\n",
    "add_node(\"C\")\n",
    "add_node(\"D\")\n",
    "add_edge(\"A\",\"B\")\n",
    "add_edge(\"B\",\"C\")\n",
    "add_edge(\"B\",\"D\")\n",
    "# delete_edge(\"A\",\"B\")\n",
    "for i in graph:\n",
    "    print(i,\":\",graph[i])\n"
   ]
  },
  {
   "cell_type": "code",
   "execution_count": 22,
   "metadata": {},
   "outputs": [
    {
     "name": "stdout",
     "output_type": "stream",
     "text": [
      "1\n",
      "5 4\n",
      "0 1\n",
      "0 2\n",
      "0 3\n",
      "2 4\n",
      "0 1 2 3 4 \n"
     ]
    }
   ],
   "source": [
    "#2 Implement BFS algorithm \n",
    "\n",
    "from collections import deque\n",
    "class Solution:\n",
    "    \n",
    "    #Function to return Breadth First Traversal of given graph.\n",
    "    def bfsOfGraph(self, V, adj):\n",
    "        vis=[False]*V\n",
    "        que=deque()\n",
    "        que.append(0)\n",
    "        vis[0]=True\n",
    "        \n",
    "        result=[]\n",
    "        \n",
    "        while(que):\n",
    "            curr=que.popleft()\n",
    "            result.append(curr)\n",
    "            for i in range(len(adj[curr])):\n",
    "                if(vis[adj[curr][i]]==False):\n",
    "                    que.append(adj[curr][i])\n",
    "                    vis[adj[curr][i]]=True\n",
    "        \n",
    "        return result\n",
    "    \n",
    "if __name__ == '__main__':\n",
    "\tT=int(input())\n",
    "\tfor i in range(T):\n",
    "\t\tV, E = map(int, input().split())\n",
    "\t\tadj = [[] for i in range(V)]\n",
    "\t\tfor _ in range(E):\n",
    "\t\t\tu, v = map(int, input().split())\n",
    "\t\t\tadj[u].append(v)\n",
    "\t\tob = Solution()\n",
    "\t\tans = ob.bfsOfGraph(V, adj)\n",
    "\t\tfor i in range(len(ans)):\n",
    "\t\t    print(ans[i], end = \" \")\n",
    "\t\tprint()\n"
   ]
  },
  {
   "cell_type": "code",
   "execution_count": 32,
   "metadata": {},
   "outputs": [
    {
     "data": {
      "text/plain": [
       "[3, 2.3000000000000007]"
      ]
     },
     "execution_count": 32,
     "metadata": {},
     "output_type": "execute_result"
    }
   ],
   "source": [
    "def su(n):\n",
    "    ans=[]\n",
    "    while(n>10):\n",
    "        ans.append(n%10)\n",
    "        n/=10\n",
    "    return ans\n",
    "\n",
    "su(123)"
   ]
  },
  {
   "cell_type": "code",
   "execution_count": null,
   "metadata": {},
   "outputs": [],
   "source": []
  }
 ],
 "metadata": {
  "kernelspec": {
   "display_name": "Python 3",
   "language": "python",
   "name": "python3"
  },
  "language_info": {
   "codemirror_mode": {
    "name": "ipython",
    "version": 3
   },
   "file_extension": ".py",
   "mimetype": "text/x-python",
   "name": "python",
   "nbconvert_exporter": "python",
   "pygments_lexer": "ipython3",
   "version": "3.8.10"
  }
 },
 "nbformat": 4,
 "nbformat_minor": 4
}
