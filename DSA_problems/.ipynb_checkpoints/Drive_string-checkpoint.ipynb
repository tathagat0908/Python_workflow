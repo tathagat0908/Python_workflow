{
 "cells": [
  {
   "cell_type": "code",
   "execution_count": 3,
   "metadata": {},
   "outputs": [
    {
     "name": "stdout",
     "output_type": "stream",
     "text": [
      "['t', 'a', 'g', 'a', 'h', 't', 'a', 't']\n"
     ]
    }
   ],
   "source": [
    "#1 Reverse a String\n",
    "s=\"tathagat\"\n",
    "s=list(s)\n",
    "# s.reverse()\n",
    "f=0;l=len(s)\n",
    "while(f<l):\n",
    "    s[f],s[l-1]=s[l-1],s[f]\n",
    "    f+=1\n",
    "    l-=1\n",
    "print(s)"
   ]
  },
  {
   "cell_type": "code",
   "execution_count": 12,
   "metadata": {},
   "outputs": [
    {
     "name": "stdout",
     "output_type": "stream",
     "text": [
      "0\n"
     ]
    }
   ],
   "source": [
    "#2 Check whether a String is Palindrome or not\n",
    "S=\"rhar\"\n",
    "S=list(S)\n",
    "f=0;l=len(S);temp=0\n",
    "while(f<=l):\n",
    "    if S[f]==S[l-1]:\n",
    "        temp+=1\n",
    "        f+=1\n",
    "        l-=1\n",
    "    else:\n",
    "        temp=0\n",
    "        break\n",
    "\n",
    "if temp>0:\n",
    "    print(1)\n",
    "else:\n",
    "    print(0)"
   ]
  },
  {
   "cell_type": "code",
   "execution_count": 33,
   "metadata": {},
   "outputs": [
    {
     "name": "stdout",
     "output_type": "stream",
     "text": [
      "count g = 2\n",
      "count e = 4\n",
      "count k = 2\n",
      "count s = 2\n",
      "count f = 1\n",
      "count o = 1\n",
      "count r = 1\n"
     ]
    }
   ],
   "source": [
    "#3 Find Duplicate characters in a string\n",
    "\n",
    "from collections import Counter\n",
    "S=\"geeksforgeeks\" \n",
    "c=Counter(S)\n",
    "c=dict(c)\n",
    "\n",
    "for i in c:\n",
    "    print(\"count\",i,\"=\",c[i])\n",
    "    \n",
    "# x = [\"a\", \"b\", \"a\"]\n",
    "# a=\"geeksforgeeks\" \n",
    "# result = dict((i, a.count(i)) for i in a)\n",
    "# print( result)\n"
   ]
  },
  {
   "cell_type": "code",
   "execution_count": 18,
   "metadata": {},
   "outputs": [
    {
     "name": "stdout",
     "output_type": "stream",
     "text": [
      "[1, 2, 3, 4, 5, 6, 9]\n",
      "0\n"
     ]
    }
   ],
   "source": [
    "#4 \n",
    "arr=[2,6,1,9,4,5,3]\n",
    "\n",
    "arr=list(set(arr))\n",
    "arr.sort()\n",
    "i=0\n",
    "c=0\n",
    "print(arr)\n",
    "while i<len(arr)-1:\n",
    "    if arr[i]==(arr[i+1]-1):\n",
    "        c+=1\n",
    "        i+=1\n",
    "    else:\n",
    "        c=0\n",
    "        i+=1\n",
    "\n",
    "print(c)\n",
    "\n"
   ]
  },
  {
   "cell_type": "code",
   "execution_count": 16,
   "metadata": {},
   "outputs": [
    {
     "name": "stdout",
     "output_type": "stream",
     "text": [
      "8\n"
     ]
    },
    {
     "data": {
      "text/plain": [
       "'1113213211'"
      ]
     },
     "execution_count": 16,
     "metadata": {},
     "output_type": "execute_result"
    }
   ],
   "source": [
    "#7 Count and Say problem\n",
    "\n",
    "ip=\"1\"\n",
    "op=\"\"\n",
    "N=int(input())\n",
    "def sol(N,ip,op):\n",
    "    if N==0:\n",
    "        \n",
    "        return op[:-1]\n",
    "    \n",
    "    op=ip+\"$\"\n",
    "    ip=\"\"\n",
    "    i=0;c=1\n",
    "    while(op[i]!=\"$\"):\n",
    "    \n",
    "        ch=\"\"\n",
    "        if op[i]==op[i+1]:\n",
    "            c+=1\n",
    "\n",
    "        else:\n",
    "            ch=op[i]\n",
    "\n",
    "            ip+=str(c)+ch\n",
    "            c=1\n",
    "        i+=1\n",
    "    \n",
    "    return sol(N-1,ip,op)\n",
    "\n",
    "sol(N,ip,op)"
   ]
  },
  {
   "cell_type": "code",
   "execution_count": 14,
   "metadata": {},
   "outputs": [
    {
     "name": "stdout",
     "output_type": "stream",
     "text": [
      "5\n"
     ]
    },
    {
     "data": {
      "text/plain": [
       "'111221'"
      ]
     },
     "execution_count": 14,
     "metadata": {},
     "output_type": "execute_result"
    }
   ],
   "source": [
    "#7 Count and Say problem\n",
    "\n",
    "N=int(input())\n",
    "def sol(N):\n",
    "    ip=\"1\"\n",
    "    op=\"\"\n",
    "    for i in range(N):\n",
    "        op=ip+\"$\"\n",
    "    \n",
    "        ip=\"\"\n",
    "        i=0;c=1\n",
    "        while(op[i]!=\"$\"):\n",
    "\n",
    "            ch=\"\"\n",
    "            if op[i]==op[i+1]:\n",
    "                c+=1\n",
    "\n",
    "            else:\n",
    "                ch=op[i]\n",
    "\n",
    "                ip+=str(c)+ch\n",
    "                c=1\n",
    "            i+=1\n",
    "    return op[:-1]\n",
    "\n",
    "sol(N)\n",
    "    "
   ]
  },
  {
   "cell_type": "code",
   "execution_count": null,
   "metadata": {},
   "outputs": [],
   "source": []
  },
  {
   "cell_type": "code",
   "execution_count": null,
   "metadata": {},
   "outputs": [],
   "source": []
  },
  {
   "cell_type": "code",
   "execution_count": null,
   "metadata": {},
   "outputs": [],
   "source": []
  },
  {
   "cell_type": "code",
   "execution_count": null,
   "metadata": {},
   "outputs": [],
   "source": []
  },
  {
   "cell_type": "code",
   "execution_count": null,
   "metadata": {},
   "outputs": [],
   "source": []
  },
  {
   "cell_type": "code",
   "execution_count": null,
   "metadata": {},
   "outputs": [],
   "source": []
  },
  {
   "cell_type": "code",
   "execution_count": null,
   "metadata": {},
   "outputs": [],
   "source": []
  },
  {
   "cell_type": "code",
   "execution_count": null,
   "metadata": {},
   "outputs": [],
   "source": []
  },
  {
   "cell_type": "code",
   "execution_count": null,
   "metadata": {},
   "outputs": [],
   "source": []
  },
  {
   "cell_type": "code",
   "execution_count": null,
   "metadata": {},
   "outputs": [],
   "source": []
  },
  {
   "cell_type": "code",
   "execution_count": null,
   "metadata": {},
   "outputs": [],
   "source": []
  }
 ],
 "metadata": {
  "kernelspec": {
   "display_name": "Python 3 (ipykernel)",
   "language": "python",
   "name": "python3"
  },
  "language_info": {
   "codemirror_mode": {
    "name": "ipython",
    "version": 3
   },
   "file_extension": ".py",
   "mimetype": "text/x-python",
   "name": "python",
   "nbconvert_exporter": "python",
   "pygments_lexer": "ipython3",
   "version": "3.8.10"
  }
 },
 "nbformat": 4,
 "nbformat_minor": 4
}
