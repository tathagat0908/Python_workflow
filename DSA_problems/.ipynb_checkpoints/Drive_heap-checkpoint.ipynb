{
 "cells": [
  {
   "cell_type": "code",
   "execution_count": 18,
   "metadata": {},
   "outputs": [
    {
     "name": "stdout",
     "output_type": "stream",
     "text": [
      "min heap: [1, 3, 5, 23, 32, 456, 34, 678, 7879, 46545, 43]\n",
      "max heap: [-46545, -7879, -34, -456, -678, -3, -32, -1, -23, -5, -43]\n"
     ]
    }
   ],
   "source": [
    "#1: Implement a Maxheap/MinHeap using arrays and recursion.\n",
    "import heapq\n",
    "arr=[1,32,34,23,43,456,5,678,7879,46545,3]\n",
    "heapq.heapify(arr)\n",
    "print(\"min heap:\",arr)\n",
    "h=[]\n",
    "for i in arr:\n",
    "    \n",
    "    heapq.heappush(h,-i)\n",
    "print(\"max heap:\",h)"
   ]
  },
  {
   "cell_type": "code",
   "execution_count": 23,
   "metadata": {},
   "outputs": [
    {
     "name": "stdout",
     "output_type": "stream",
     "text": [
      "[1, 2, 4, 3, 5, 10, 20, 21, 40]\n"
     ]
    }
   ],
   "source": [
    "#2: Sort an Array using heap. (HeapSort)\n",
    "\n",
    "lis=[1, 2, 10, 4, 20, 5, 3, 21, 40]\n",
    "h=[]\n",
    "while lis:\n",
    "    h.append(heapq.heappop(lis))\n",
    "print(h)"
   ]
  },
  {
   "cell_type": "code",
   "execution_count": 29,
   "metadata": {},
   "outputs": [
    {
     "name": "stdout",
     "output_type": "stream",
     "text": [
      "1 1 1 2 2 2 3 3 3 1 1 1 4 4 4 5 5 5 2 2 2 3 3 3 6 6 6 "
     ]
    }
   ],
   "source": [
    "#3:\n",
    "\n",
    "arr=[1, 2, 3, 1, 4, 5, 2, 3, 6];k=3\n",
    "\n",
    "for i in range(len(arr)):\n",
    "    h=[]\n",
    "    j=0\n",
    "    while j<k:\n",
    "        print(arr[i],end=\" \")\n",
    "        heapq.heappush(h,arr[i])\n",
    "        j+=1\n",
    "    "
   ]
  },
  {
   "cell_type": "code",
   "execution_count": null,
   "metadata": {},
   "outputs": [],
   "source": []
  }
 ],
 "metadata": {
  "kernelspec": {
   "display_name": "Python 3",
   "language": "python",
   "name": "python3"
  },
  "language_info": {
   "codemirror_mode": {
    "name": "ipython",
    "version": 3
   },
   "file_extension": ".py",
   "mimetype": "text/x-python",
   "name": "python",
   "nbconvert_exporter": "python",
   "pygments_lexer": "ipython3",
   "version": "3.8.10"
  }
 },
 "nbformat": 4,
 "nbformat_minor": 4
}
