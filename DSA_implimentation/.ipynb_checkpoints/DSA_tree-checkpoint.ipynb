{
 "cells": [
  {
   "cell_type": "code",
   "execution_count": 1,
   "metadata": {},
   "outputs": [],
   "source": [
    "#Tree\n",
    "# --> Non-linear data structure\n",
    "# --> Represents relation between nodes\n",
    "# --> Collection of entities called Nodes\n",
    "# --> Nodes are connected by edges"
   ]
  },
  {
   "cell_type": "code",
   "execution_count": 2,
   "metadata": {},
   "outputs": [],
   "source": [
    "# keywords in tree data structure:\n",
    "#     1. Node\n",
    "#     2. Root\n",
    "#     3. Edge/link\n",
    "#     4. Parent Node/Parent\n",
    "#     5. Child node\n",
    "#     4. Siblings: parent are same\n",
    "#     5. Leaf Node/Leaf/External Node/Terminal Node\n",
    "#     6. Internal Node/Non-Terminal Node"
   ]
  },
  {
   "cell_type": "code",
   "execution_count": 3,
   "metadata": {},
   "outputs": [],
   "source": [
    "# #Properties of Tree\n",
    "# 1. Must have root node\n",
    "# 2. if tree have N nodes then no. of edges N-1\n",
    "# 3. every child have one parent node\n",
    "# 4. tree is a recussive data structure\n",
    "\n",
    "\n",
    "# Degree of a node: no. of children it have\n",
    "# Degree of a tree: which node have highest degree \n",
    "# Level: it start form top with 0\n",
    "# Height of a node: find out the longest path node to leaf\n",
    "# Height of tree: height of root node \n",
    "# Depth of node: fact(depth of root node is always zero)"
   ]
  },
  {
   "cell_type": "code",
   "execution_count": 1,
   "metadata": {},
   "outputs": [],
   "source": [
    "# general tree: it has no condition\n",
    "# binary tree: it has only 1,2 and 3 child node.\n",
    "    \n",
    "# types of binary Tree:\n",
    "#   1.full binary tree: in there every node have zero or two child.\n",
    "#   2.complete binary tree: all the level except last level filled with nodes, and the last level filled completely or left to right.\n",
    "#   3.perfect binary tree: in which all internal node contain 2 children and all leaf nodes are present in same level\n",
    "#   4.balance binary tree: in which, the left and right sub-tree node made difference most 1\n",
    "#   5.pathlogical binary tree: every parent node have one child node.\n"
   ]
  },
  {
   "cell_type": "code",
   "execution_count": 6,
   "metadata": {},
   "outputs": [
    {
     "name": "stdout",
     "output_type": "stream",
     "text": [
      "InOrder------->\n",
      "2\n",
      "5\n",
      "6\n",
      "7\n",
      "8\n",
      "10\n",
      "12\n",
      "15\n",
      "20\n",
      "30\n"
     ]
    }
   ],
   "source": [
    "# BST\n",
    "\n",
    "class Node:\n",
    "    def __init__(self,value):\n",
    "        self.left=None\n",
    "        self.data=value\n",
    "        self.right=None\n",
    "\n",
    "class Tree:\n",
    "    def creatNode(self,data):\n",
    "        return Node(data)\n",
    "    \n",
    "    def insert(self,node,data):\n",
    "        if node is None:\n",
    "            return self.creatNode(data)\n",
    "        elif data < node.data:\n",
    "            node.left = self.insert(node.left,data)\n",
    "        else:\n",
    "            node.right = self.insert(node.right,data)\n",
    "        return node\n",
    "    \n",
    "    def inOrder(self,root):\n",
    "        if root != None:\n",
    "            self.inOrder(root.left)\n",
    "            print(root.data)\n",
    "            self.inOrder(root.right)\n",
    "    \n",
    "arr=[5,2,10,7,15,12,20,30,6,8]\n",
    "T1=Tree()\n",
    "root = T1.creatNode(5) \n",
    "for i in range(1,len(arr)):\n",
    "    T1.insert(root,arr[i])\n",
    "    \n",
    "print(\"InOrder------->\")\n",
    "T1.inOrder(root)"
   ]
  },
  {
   "cell_type": "code",
   "execution_count": 10,
   "metadata": {},
   "outputs": [
    {
     "name": "stdout",
     "output_type": "stream",
     "text": [
      "1\n",
      "1 2 3 4\n",
      "1 "
     ]
    }
   ],
   "source": [
    "# https://www.hackerrank.com/challenges/binary-search-tree-insertion/problem\n",
    "# HackerRank Challenge\n",
    "\n",
    "class Node:\n",
    "    def __init__(self, info):\n",
    "        self.info = info  \n",
    "        self.left = None  \n",
    "        self.right = None \n",
    "        self.level = None \n",
    "\n",
    "    def __str__(self):\n",
    "        return str(self.info) \n",
    "\n",
    "def preOrder(root):\n",
    "    if root == None:\n",
    "        return\n",
    "    print (root.info, end=\" \")\n",
    "    preOrder(root.left)\n",
    "    preOrder(root.right)\n",
    "    \n",
    "class BinarySearchTree:\n",
    "    def __init__(self): \n",
    "        self.root = None\n",
    "        \n",
    "    \n",
    "#Node is defined as\n",
    "#self.left (the left child of the node)\n",
    "#self.right (the right child of the node)\n",
    "#self.info (the value of the node)\n",
    "\n",
    "    def insert(self, val):\n",
    "        if self.root == None:\n",
    "            self.root = Node(val)\n",
    "            return\n",
    "        root=self.root\n",
    "        while True:\n",
    "            if val<root.info:\n",
    "                if root.left is not None:\n",
    "                    root=root.left\n",
    "                else:\n",
    "                    root.left=Node(val)\n",
    "                    break\n",
    "            elif val>=root.info:\n",
    "                if root.right is not None:\n",
    "                    root = root.right\n",
    "                else:\n",
    "                    root.right=Node(val)\n",
    "                    break\n",
    "        \n",
    "\n",
    "tree = BinarySearchTree()\n",
    "t = int(input())\n",
    "\n",
    "arr = list(map(int, input().split()))\n",
    "\n",
    "for i in range(t):\n",
    "    tree.insert(arr[i])\n",
    "\n",
    "preOrder(tree.root)\n"
   ]
  },
  {
   "cell_type": "code",
   "execution_count": null,
   "metadata": {},
   "outputs": [],
   "source": []
  },
  {
   "cell_type": "code",
   "execution_count": null,
   "metadata": {},
   "outputs": [],
   "source": []
  },
  {
   "cell_type": "code",
   "execution_count": null,
   "metadata": {},
   "outputs": [],
   "source": []
  },
  {
   "cell_type": "code",
   "execution_count": null,
   "metadata": {},
   "outputs": [],
   "source": []
  },
  {
   "cell_type": "code",
   "execution_count": null,
   "metadata": {},
   "outputs": [],
   "source": []
  },
  {
   "cell_type": "code",
   "execution_count": null,
   "metadata": {},
   "outputs": [],
   "source": []
  },
  {
   "cell_type": "code",
   "execution_count": null,
   "metadata": {},
   "outputs": [],
   "source": []
  },
  {
   "cell_type": "code",
   "execution_count": null,
   "metadata": {},
   "outputs": [],
   "source": []
  },
  {
   "cell_type": "code",
   "execution_count": null,
   "metadata": {},
   "outputs": [],
   "source": []
  },
  {
   "cell_type": "code",
   "execution_count": null,
   "metadata": {},
   "outputs": [],
   "source": []
  },
  {
   "cell_type": "code",
   "execution_count": null,
   "metadata": {},
   "outputs": [],
   "source": []
  },
  {
   "cell_type": "code",
   "execution_count": null,
   "metadata": {},
   "outputs": [],
   "source": []
  },
  {
   "cell_type": "code",
   "execution_count": null,
   "metadata": {},
   "outputs": [],
   "source": []
  },
  {
   "cell_type": "code",
   "execution_count": null,
   "metadata": {},
   "outputs": [],
   "source": []
  },
  {
   "cell_type": "code",
   "execution_count": null,
   "metadata": {},
   "outputs": [],
   "source": []
  },
  {
   "cell_type": "code",
   "execution_count": null,
   "metadata": {},
   "outputs": [],
   "source": []
  },
  {
   "cell_type": "code",
   "execution_count": null,
   "metadata": {},
   "outputs": [],
   "source": []
  },
  {
   "cell_type": "code",
   "execution_count": null,
   "metadata": {},
   "outputs": [],
   "source": []
  },
  {
   "cell_type": "code",
   "execution_count": null,
   "metadata": {},
   "outputs": [],
   "source": []
  }
 ],
 "metadata": {
  "kernelspec": {
   "display_name": "Python 3 (ipykernel)",
   "language": "python",
   "name": "python3"
  },
  "language_info": {
   "codemirror_mode": {
    "name": "ipython",
    "version": 3
   },
   "file_extension": ".py",
   "mimetype": "text/x-python",
   "name": "python",
   "nbconvert_exporter": "python",
   "pygments_lexer": "ipython3",
   "version": "3.8.10"
  }
 },
 "nbformat": 4,
 "nbformat_minor": 4
}
