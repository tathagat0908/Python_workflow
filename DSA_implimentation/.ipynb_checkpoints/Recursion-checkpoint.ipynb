{
 "cells": [
  {
   "cell_type": "code",
   "execution_count": 3,
   "metadata": {},
   "outputs": [
    {
     "name": "stdout",
     "output_type": "stream",
     "text": [
      "10 9 8 7 6 5 4 3 2 1 "
     ]
    }
   ],
   "source": [
    "import sys\n",
    "x=100000000\n",
    "sys.setrecursionlimit(x)\n",
    "\n",
    "def counting(n):\n",
    "    if n<=0:\n",
    "        return\n",
    "    print(n,end=\" \")\n",
    "    counting(n-1)\n",
    "    \n",
    "counting(10)\n",
    "    "
   ]
  },
  {
   "cell_type": "code",
   "execution_count": 4,
   "metadata": {},
   "outputs": [
    {
     "name": "stdout",
     "output_type": "stream",
     "text": [
      "1 2 3 4 5 6 7 8 9 10 "
     ]
    }
   ],
   "source": [
    "def counting(n):\n",
    "    if n<=0:\n",
    "        return\n",
    "    counting(n-1)\n",
    "    print(n,end=\" \")\n",
    "    \n",
    "    \n",
    "counting(10)"
   ]
  },
  {
   "cell_type": "code",
   "execution_count": 1,
   "metadata": {},
   "outputs": [
    {
     "data": {
      "text/plain": [
       "479001600"
      ]
     },
     "execution_count": 1,
     "metadata": {},
     "output_type": "execute_result"
    }
   ],
   "source": [
    "def fact(n):\n",
    "    if n==0 or n==1:\n",
    "        return 1\n",
    "    return fact(n-1)*n\n",
    "\n",
    "fact(12)"
   ]
  },
  {
   "cell_type": "code",
   "execution_count": 17,
   "metadata": {},
   "outputs": [
    {
     "name": "stdout",
     "output_type": "stream",
     "text": [
      "0 1 1 2 3 5 8 13 21 34 "
     ]
    }
   ],
   "source": [
    "def fibo(n):\n",
    "    if n==0 or n==1:\n",
    "        return n\n",
    "    return fibo(n-1)+fibo(n-2)\n",
    "for i in range(10):\n",
    "    print(fibo(i),end=\" \")\n",
    "    "
   ]
  },
  {
   "cell_type": "code",
   "execution_count": 18,
   "metadata": {},
   "outputs": [
    {
     "name": "stdout",
     "output_type": "stream",
     "text": [
      "Five Zero Zero "
     ]
    }
   ],
   "source": [
    "def print_spell(n,store):\n",
    "    if n==0:\n",
    "        return\n",
    "    print_spell(int(n/10),store)\n",
    "    print(store[n%10],end=\" \")\n",
    "\n",
    "store={0:\"Zero\",1:\"One\",2:\"Two\",3:\"Three\",4:\"Four\",5:\"Five\",6:\"Six\",7:\"Seven\",8:\"Eight\",9:\"Nine\"}\n",
    "print_spell(500,store)"
   ]
  },
  {
   "cell_type": "code",
   "execution_count": 60,
   "metadata": {},
   "outputs": [
    {
     "data": {
      "text/plain": [
       "8"
      ]
     },
     "execution_count": 60,
     "metadata": {},
     "output_type": "execute_result"
    }
   ],
   "source": [
    "# O(n)\n",
    "def poo(p,q):\n",
    "    if q==0:\n",
    "        return 1\n",
    "    return p*poo(p,q-1)\n",
    "\n",
    "poo(2,3)"
   ]
  },
  {
   "cell_type": "code",
   "execution_count": 61,
   "metadata": {},
   "outputs": [
    {
     "data": {
      "text/plain": [
       "8"
      ]
     },
     "execution_count": 61,
     "metadata": {},
     "output_type": "execute_result"
    }
   ],
   "source": [
    "# O(n/2)\n",
    "def poo_pro(p,q):\n",
    "    if q==0:\n",
    "        return 1\n",
    "    ans=poo_pro(p,q//2)\n",
    "    if q%2!=0:\n",
    "        return p*ans*ans\n",
    "    else:\n",
    "        return ans*ans\n",
    "\n",
    "poo_pro(2,3)"
   ]
  },
  {
   "cell_type": "code",
   "execution_count": 77,
   "metadata": {},
   "outputs": [
    {
     "data": {
      "text/plain": [
       "'not sorted'"
      ]
     },
     "execution_count": 77,
     "metadata": {},
     "output_type": "execute_result"
    }
   ],
   "source": [
    "def sorted_or_not(arr,n):\n",
    "    if n>=len(arr):\n",
    "        return \"sorted\"\n",
    "    \n",
    "    if arr[n]<arr[n-1]:\n",
    "        return \"not sorted\"\n",
    "    \n",
    "    return sorted_or_not(arr,n+1)\n",
    "arr=[10,2,3,4,1]\n",
    "sorted_or_not(arr,1)"
   ]
  },
  {
   "cell_type": "code",
   "execution_count": 12,
   "metadata": {},
   "outputs": [
    {
     "name": "stdout",
     "output_type": "stream",
     "text": [
      "[[], [1], [2], [1, 2], [3], [1, 3], [2, 3], [1, 2, 3]]\n"
     ]
    }
   ],
   "source": [
    "def powerSet(L):\n",
    "    if len(L)==0:\n",
    "        return [[]]\n",
    "    else:\n",
    "        base=powerSet(L[:-1])\n",
    "        op=L[-1:]\n",
    "        x=[]\n",
    "        for i in base:\n",
    "            x.append(i+op)\n",
    "        return base+x\n",
    "\n",
    "L = [1,2,3]\n",
    "print(powerSet(L))"
   ]
  },
  {
   "cell_type": "code",
   "execution_count": 27,
   "metadata": {},
   "outputs": [
    {
     "data": {
      "text/plain": [
       "13"
      ]
     },
     "execution_count": 27,
     "metadata": {},
     "output_type": "execute_result"
    }
   ],
   "source": [
    "def count_step(n):\n",
    "    if n<0: return 0\n",
    "    if n==0: return 1\n",
    "    return count_step(n-1)+count_step(n-2)+count_step(n-3)\n",
    "count_step(5)"
   ]
  },
  {
   "cell_type": "code",
   "execution_count": 32,
   "metadata": {},
   "outputs": [
    {
     "name": "stdout",
     "output_type": "stream",
     "text": [
      "c\n",
      "b\n",
      "bc\n",
      "a\n",
      "ac\n",
      "ab\n",
      "abc\n"
     ]
    }
   ],
   "source": [
    "def sub_seq(s,ind,S):\n",
    "    if ind==len(s):\n",
    "        return\n",
    "    \n",
    "    sub_seq(s,ind+1,S)\n",
    "    \n",
    "    S+=s[ind]\n",
    "    print(S)\n",
    "    sub_seq(s,ind+1,S)\n",
    "\n",
    "s=\"abc\"\n",
    "sub_seq(s,0,\"\")"
   ]
  },
  {
   "cell_type": "code",
   "execution_count": 6,
   "metadata": {},
   "outputs": [
    {
     "name": "stdout",
     "output_type": "stream",
     "text": [
      "abc\n",
      "abc\n",
      "abc\n",
      "abc\n",
      "abc\n",
      "abc\n"
     ]
    }
   ],
   "source": [
    "#wrong\n",
    "\n",
    "def swap(x,y):\n",
    "    t=x\n",
    "    x=y\n",
    "    y=t\n",
    "\n",
    "def permu(n,ind):\n",
    "    if ind==len(n):\n",
    "        print(n)\n",
    "        return\n",
    "    for i in range(ind,len(n)):\n",
    "        swap=(n[ind],n[i])\n",
    "        permu(n,ind+1)\n",
    "        swap=(n[ind],n[i])\n",
    "        \n",
    "permu(\"abc\",0)"
   ]
  },
  {
   "cell_type": "code",
   "execution_count": 9,
   "metadata": {},
   "outputs": [
    {
     "data": {
      "text/plain": [
       "50"
      ]
     },
     "execution_count": 9,
     "metadata": {},
     "output_type": "execute_result"
    }
   ],
   "source": [
    "100>>1"
   ]
  },
  {
   "cell_type": "code",
   "execution_count": 4,
   "metadata": {},
   "outputs": [
    {
     "name": "stdout",
     "output_type": "stream",
     "text": [
      "Move one disk source S to destination\n",
      "move disk 2 from source S to destnation\n",
      "Move one disk source D to destination\n",
      "move disk 3 from source S to destnation\n",
      "Move one disk source H to destination\n",
      "move disk 2 from source H to destnation\n",
      "Move one disk source S to destination\n"
     ]
    }
   ],
   "source": [
    "#TOH\n",
    "def TOH(n,S,D,H):\n",
    "    if n==1:\n",
    "        print(\"Move one disk source\" ,S, \"to destination\")\n",
    "        return\n",
    "    TOH(n-1,S,H,D)\n",
    "    print(\"move disk\",n,\"from source\",S,\"to destnation\")\n",
    "    TOH(n-1,H,D,S)\n",
    "    \n",
    "n=3\n",
    "TOH(n,\"S\",\"D\",\"H\")\n"
   ]
  },
  {
   "cell_type": "code",
   "execution_count": 14,
   "metadata": {},
   "outputs": [
    {
     "name": "stdout",
     "output_type": "stream",
     "text": [
      "a>b\n",
      "a>b\n",
      "a<b\n",
      "a<b\n",
      "a<b\n",
      "ok\n",
      "5\n"
     ]
    },
    {
     "data": {
      "text/plain": [
       "1"
      ]
     },
     "execution_count": 14,
     "metadata": {},
     "output_type": "execute_result"
    }
   ],
   "source": [
    "c=0\n",
    "def count(a,b,c):\n",
    "    \n",
    "    if a==1 and b==1:\n",
    "        print(\"ok\")\n",
    "        print(c)\n",
    "        return c\n",
    "    elif a>b:\n",
    "        c+=1\n",
    "        \n",
    "        print(\"a>b\")\n",
    "        count(a-b,b,c)\n",
    "    elif a<b:\n",
    "        c+=1\n",
    "\n",
    "        print(\"a<b\")\n",
    "        count(a,b-a,c)\n",
    "    elif a==b:\n",
    "        return -1\n",
    "    \n",
    "a=9\n",
    "b=4\n",
    "count(a,b,0)"
   ]
  },
  {
   "cell_type": "code",
   "execution_count": 19,
   "metadata": {},
   "outputs": [
    {
     "name": "stdout",
     "output_type": "stream",
     "text": [
      "1 2 3 4 5 6 7 8 9 10 "
     ]
    }
   ],
   "source": [
    "n=10\n",
    "def count(n):\n",
    "    if n==1:\n",
    "        print(n,end=\" \")\n",
    "        return \n",
    "    count(n-1)\n",
    "    print(n,end=\" \")\n",
    "\n",
    "count(n)"
   ]
  },
  {
   "cell_type": "code",
   "execution_count": 22,
   "metadata": {},
   "outputs": [
    {
     "name": "stdout",
     "output_type": "stream",
     "text": [
      "10 9 8 7 6 5 4 3 2 1 "
     ]
    }
   ],
   "source": [
    "n=10\n",
    "def count(n):\n",
    "    if n==0:\n",
    "        return\n",
    "    print(n,end=\" \")\n",
    "    count(n-1)\n",
    "\n",
    "count(n)"
   ]
  },
  {
   "cell_type": "code",
   "execution_count": 6,
   "metadata": {},
   "outputs": [
    {
     "name": "stdout",
     "output_type": "stream",
     "text": [
      "None\n"
     ]
    }
   ],
   "source": [
    "#sort an array:\n",
    "\n",
    "def sort(arr):\n",
    "    if len(arr)==1:\n",
    "        return\n",
    "    temp=arr[len(arr)-1]\n",
    "    arr.pop()\n",
    "    sort(arr)\n",
    "    insert(arr,temp)\n",
    "    return\n",
    "\n",
    "def insert(arr,temp):\n",
    "    if len(arr)==0 or arr[len(arr)-1]<=temp:\n",
    "        arr.append(temp)\n",
    "        return\n",
    "    val=arr[len(arr)-1]\n",
    "    arr.pop()\n",
    "    insert(arr,temp)\n",
    "    arr.append(val)\n",
    "\n",
    "arr=[1,2,6,4,3,5]\n",
    "sort(arr)\n",
    "print(arr)"
   ]
  },
  {
   "cell_type": "code",
   "execution_count": 1,
   "metadata": {},
   "outputs": [
    {
     "name": "stdout",
     "output_type": "stream",
     "text": [
      "[3, 2, 1, 7, 8]\n"
     ]
    }
   ],
   "source": [
    "# delete the middle element from stack\n",
    "\n",
    "def deel(stack,size):\n",
    "    if size==0:\n",
    "        return stack\n",
    "    k=(size+1)//2\n",
    "    sol(stack,k)\n",
    "    return stack\n",
    "\n",
    "def sol(stack,k):\n",
    "    if k==1:\n",
    "        stack.pop()\n",
    "        return\n",
    "    val=stack.pop()\n",
    "    sol(stack,k-1)\n",
    "    stack.append(val)\n",
    "    return \n",
    "\n",
    "stack=[3,2,1,5,7,8]\n",
    "size=len(stack)\n",
    "deel(stack,size)\n",
    "print(stack)"
   ]
  },
  {
   "cell_type": "code",
   "execution_count": 6,
   "metadata": {},
   "outputs": [
    {
     "name": "stdout",
     "output_type": "stream",
     "text": [
      "[5, 4, 3, 2, 1]\n"
     ]
    }
   ],
   "source": [
    "# reverse an array using extra space\n",
    "\n",
    "Arr=[]\n",
    "def rev(arr):\n",
    "    if len(arr)==0:\n",
    "        return\n",
    "    ele=arr.pop()\n",
    "    Arr.append(ele)\n",
    "    rev(arr)\n",
    "    return Arr\n",
    "\n",
    "arr=[1,2,3,4,5]\n",
    "print(rev(arr))"
   ]
  },
  {
   "cell_type": "code",
   "execution_count": 5,
   "metadata": {},
   "outputs": [
    {
     "name": "stdout",
     "output_type": "stream",
     "text": [
      "[1, 2, 3, 4, 5]\n"
     ]
    }
   ],
   "source": [
    "# reverse a stack\n",
    "\n",
    "def rev(stack):\n",
    "    if len(stack)==1:\n",
    "        return \n",
    "    temp=stack.pop()\n",
    "    rev(stack)\n",
    "    insert(stack,temp)\n",
    "    return \n",
    "\n",
    "def insert(stack,temp):\n",
    "    if len(stack)==0:\n",
    "        stack.append(temp)\n",
    "        return\n",
    "    ele=stack.pop()\n",
    "    insert(stack,temp)\n",
    "    stack.append(ele)\n",
    "    return \n",
    "\n",
    "stack=[5,4,3,2,1]\n",
    "rev(stack)\n",
    "print(stack)"
   ]
  },
  {
   "cell_type": "code",
   "execution_count": 18,
   "metadata": {},
   "outputs": [
    {
     "name": "stdout",
     "output_type": "stream",
     "text": [
      "1\n"
     ]
    }
   ],
   "source": [
    "# if n=1 and k=1 return 0\n",
    "# if n=2 and k=? return 0 1\n",
    "# if n=3 and k=? return 0 1 1 0\n",
    "# if n=4 and k=? return 0 1 1 0 1 0 0 1\n",
    "\n",
    "def solve(n,k):\n",
    "    if n==1 and k==1:\n",
    "        return 0\n",
    "    mid= (2**(n-1))//2\n",
    "    if k<=mid:\n",
    "        return solve(n-1,k)\n",
    "    else:\n",
    "        return int(not(solve(n-1,k-mid)))\n",
    "    \n",
    "print(solve(4,5))"
   ]
  },
  {
   "cell_type": "code",
   "execution_count": 50,
   "metadata": {},
   "outputs": [
    {
     "name": "stdout",
     "output_type": "stream",
     "text": [
      "--> ab\n",
      "--> a\n",
      "--> b\n",
      "--> \n"
     ]
    }
   ],
   "source": [
    "# power set\n",
    "\n",
    "def sol(ip,ind,op):\n",
    "    \n",
    "    if len(ip)==ind:\n",
    "        print(\"-->\",op)\n",
    "        return\n",
    "    \n",
    "    sol(ip,ind+1,op+ip[ind])\n",
    "    sol(ip,ind+1,op)\n",
    "    return\n",
    "\n",
    "ip=\"ab\"\n",
    "op=\"\"\n",
    "ind=0\n",
    "sol(ip,ind,op)"
   ]
  },
  {
   "cell_type": "code",
   "execution_count": 4,
   "metadata": {},
   "outputs": [
    {
     "name": "stdout",
     "output_type": "stream",
     "text": [
      "--> \n",
      "--> b\n",
      "--> a\n",
      "--> ab\n"
     ]
    }
   ],
   "source": [
    "# power set same above code: \n",
    "\n",
    "def sol(ip,op):\n",
    "    if ip==\"\":\n",
    "        print(\"-->\",op)\n",
    "        return\n",
    "    op1=op\n",
    "    op2=op\n",
    "    op2=op2+ip[0]\n",
    "    ip=ip[1:]\n",
    "    sol(ip,op1)\n",
    "    sol(ip,op2)\n",
    "    return\n",
    "\n",
    "ip=\"ab\"\n",
    "op=\"\"\n",
    "sol(ip,op)"
   ]
  },
  {
   "cell_type": "code",
   "execution_count": 3,
   "metadata": {},
   "outputs": [
    {
     "name": "stdout",
     "output_type": "stream",
     "text": [
      "\n",
      "b\n",
      "a\n",
      "ab\n",
      "a\n",
      "ab\n",
      "aa\n",
      "aab\n",
      "{'', 'aa', 'aab', 'ab', 'b', 'a'}\n"
     ]
    }
   ],
   "source": [
    "#print uni_power set :\n",
    "\n",
    "def uni_sol(ip,op):\n",
    "    if ip==\"\":\n",
    "        print(op)\n",
    "        lis.append(op)\n",
    "        return\n",
    "    op1=op\n",
    "    op2=op\n",
    "    op2=op2+ip[0]\n",
    "    ip=ip[1:]\n",
    "    uni_sol(ip,op1)\n",
    "    uni_sol(ip,op2)\n",
    "    \n",
    "ip=\"aab\"\n",
    "op=\"\"\n",
    "lis=[]\n",
    "uni_sol(ip,op)\n",
    "print(set(lis))"
   ]
  },
  {
   "cell_type": "code",
   "execution_count": 5,
   "metadata": {},
   "outputs": [
    {
     "name": "stdout",
     "output_type": "stream",
     "text": [
      "A_B_C\n",
      "A_BC\n",
      "AB_C\n",
      "ABC\n"
     ]
    }
   ],
   "source": [
    "# ABC : A_BC, AB_C, A_B_C, ABC\n",
    "\n",
    "def sol(ip,op):\n",
    "    if ip==\"\":\n",
    "        print(op)\n",
    "        return \n",
    "    op1=op\n",
    "    op2=op\n",
    "    op1=op1+\"_\"\n",
    "    op1=op1+ip[0]\n",
    "    op2=op2+ip[0]\n",
    "    ip=ip[1:]\n",
    "    sol(ip,op1)\n",
    "    sol(ip,op2)\n",
    "    return\n",
    "\n",
    "\n",
    "ip=\"ABC\"\n",
    "op=\"\"\n",
    "op=op+ip[0]\n",
    "ip=ip[1:]\n",
    "sol(ip,op)"
   ]
  },
  {
   "cell_type": "code",
   "execution_count": 17,
   "metadata": {},
   "outputs": [
    {
     "name": "stdout",
     "output_type": "stream",
     "text": [
      "AB\n",
      "Ab\n",
      "aB\n",
      "ab\n"
     ]
    }
   ],
   "source": [
    "# change in case\n",
    "def sol(ip,op):\n",
    "    if ip==\"\":\n",
    "        print(op)\n",
    "        return\n",
    "    op1=op\n",
    "    op2=op\n",
    "    op1=op1+ip[0].upper()\n",
    "    op2=op2+ip[0]\n",
    "    ip=ip[1:]\n",
    "    sol(ip,op1)\n",
    "    sol(ip,op2)\n",
    "    return\n",
    "\n",
    "    \n",
    "if __name__==\"__main__\":\n",
    "    ip=\"ab\"\n",
    "    op=\"\"\n",
    "    sol(ip,op)"
   ]
  },
  {
   "cell_type": "code",
   "execution_count": 54,
   "metadata": {},
   "outputs": [
    {
     "name": "stdout",
     "output_type": "stream",
     "text": [
      "A1B2\n",
      "A1b2\n",
      "a1B2\n",
      "a1b2\n"
     ]
    }
   ],
   "source": [
    "def sol(ip,op):\n",
    "    lis=[]\n",
    "    if ip==\"\":\n",
    "        print(op)\n",
    "        lis.append(op)\n",
    "        return\n",
    "    \n",
    "    if ip[0].isalpha():\n",
    "        op1=op\n",
    "        op2=op\n",
    "        op1=op1+ip[0].upper()\n",
    "        op2=op2+ip[0].lower()\n",
    "        ip=ip[1:]\n",
    "        sol(ip,op1)\n",
    "        sol(ip,op2)\n",
    "    else:\n",
    "        op=op+ip[0]\n",
    "        ip=ip[1:]\n",
    "        sol(ip,op)\n",
    "        \n",
    "if __name__==\"__main__\":\n",
    "    ip=\"a1b2\"\n",
    "    op=\"\"\n",
    "    sol(ip,op)"
   ]
  },
  {
   "cell_type": "code",
   "execution_count": 1,
   "metadata": {},
   "outputs": [
    {
     "name": "stdout",
     "output_type": "stream",
     "text": [
      "3\n"
     ]
    },
    {
     "data": {
      "text/plain": [
       "['((()))', '(()())', '(())()', '()(())', '()()()']"
      ]
     },
     "execution_count": 1,
     "metadata": {},
     "output_type": "execute_result"
    }
   ],
   "source": [
    "# Generate all Balanced Parentheses\n",
    "\n",
    "N=int(input())\n",
    "o=N\n",
    "c=N\n",
    "lis=[]\n",
    "op=\"\"\n",
    "def sol(o,c,op,lis):\n",
    "    if o==0 and c==0:\n",
    "        lis.append(op)\n",
    "        return\n",
    "    if o!=0:\n",
    "        op1=op\n",
    "        op1=op1+\"(\"\n",
    "        sol(o-1,c,op1,lis)\n",
    "    if o<c:\n",
    "        op2=op\n",
    "        op2=op2+\")\"\n",
    "        sol(o,c-1,op2,lis)\n",
    "    return lis\n",
    "\n",
    "sol(o,c,op,lis)"
   ]
  },
  {
   "cell_type": "code",
   "execution_count": 1,
   "metadata": {},
   "outputs": [
    {
     "name": "stdout",
     "output_type": "stream",
     "text": [
      "3\n",
      "111\n",
      "110\n",
      "101\n"
     ]
    }
   ],
   "source": [
    "# Print N-bit binary numbers having more 1’s than 0’s for any prefix\n",
    "\n",
    "N=int(input())\n",
    "zero=0\n",
    "one=0\n",
    "op=\"\"\n",
    "\n",
    "def sol(zero,one,N,op):\n",
    "    if N==0:\n",
    "        print(op)\n",
    "        return\n",
    "    op1=op\n",
    "    op1+=\"1\"\n",
    "    sol(zero,one+1,N-1,op1)\n",
    "    if one>zero:\n",
    "        op2=op\n",
    "        op2+=\"0\"\n",
    "        sol(zero+1,one,N-1,op2)\n",
    "    return\n",
    "\n",
    "sol(zero,one,N,op)"
   ]
  },
  {
   "cell_type": "code",
   "execution_count": 16,
   "metadata": {},
   "outputs": [
    {
     "name": "stdout",
     "output_type": "stream",
     "text": [
      "40 7\n",
      "24\n"
     ]
    }
   ],
   "source": [
    "# Josephus problem:\n",
    "\n",
    "N,k=map(int,input().split())\n",
    "arr=[i for i in range(1,N+1)]\n",
    "k=k-1\n",
    "\n",
    "ind=0\n",
    "def josephus(arr,N,k,ind):\n",
    "    res=-1\n",
    "    if len(arr)==1:\n",
    "        res=arr[0]\n",
    "        print(res)\n",
    "        return \n",
    "    ind=(ind+k)%len(arr)\n",
    "    arr.pop(ind)\n",
    "    josephus(arr,N,k,ind)\n",
    "    return \n",
    "\n",
    "josephus(arr,N,k,ind)"
   ]
  },
  {
   "cell_type": "code",
   "execution_count": null,
   "metadata": {},
   "outputs": [],
   "source": []
  },
  {
   "cell_type": "code",
   "execution_count": null,
   "metadata": {},
   "outputs": [],
   "source": []
  },
  {
   "cell_type": "code",
   "execution_count": null,
   "metadata": {},
   "outputs": [],
   "source": []
  },
  {
   "cell_type": "code",
   "execution_count": null,
   "metadata": {},
   "outputs": [],
   "source": []
  },
  {
   "cell_type": "code",
   "execution_count": null,
   "metadata": {},
   "outputs": [],
   "source": []
  }
 ],
 "metadata": {
  "kernelspec": {
   "display_name": "Python 3",
   "language": "python",
   "name": "python3"
  },
  "language_info": {
   "codemirror_mode": {
    "name": "ipython",
    "version": 3
   },
   "file_extension": ".py",
   "mimetype": "text/x-python",
   "name": "python",
   "nbconvert_exporter": "python",
   "pygments_lexer": "ipython3",
   "version": "3.8.10"
  }
 },
 "nbformat": 4,
 "nbformat_minor": 4
}
