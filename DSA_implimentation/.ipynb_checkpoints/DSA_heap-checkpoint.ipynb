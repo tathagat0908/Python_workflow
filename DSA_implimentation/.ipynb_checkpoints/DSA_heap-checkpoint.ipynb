{
 "cells": [
  {
   "cell_type": "code",
   "execution_count": 1,
   "metadata": {},
   "outputs": [
    {
     "name": "stdout",
     "output_type": "stream",
     "text": [
      "[1, 10, 5]\n",
      "[5, 10]\n"
     ]
    }
   ],
   "source": [
    "import heapq\n",
    "ok=[]\n",
    "heapq.heappush(ok,10)     #push any element in heap\n",
    "heapq.heappush(ok,1)\n",
    "heapq.heappush(ok,5)\n",
    "print(ok)\n",
    "heapq.heappop(ok)       #pop is only remove root element of the heap\n",
    "print(ok)"
   ]
  },
  {
   "cell_type": "code",
   "execution_count": 2,
   "metadata": {},
   "outputs": [
    {
     "name": "stdout",
     "output_type": "stream",
     "text": [
      "[1, 2, 5, 3, 4, 6]\n",
      "[2, 3, 5, 89, 4, 6]\n"
     ]
    }
   ],
   "source": [
    "list1=[1,3,5,2,4,6]\n",
    "heapq.heapify(list1)          #heapify: any unordered list convert into a heap\n",
    "print(list1)\n",
    "heapq.heappushpop(list1,89)   #heappushpop: it work in one go push an element and remove as well\n",
    "print(list1)"
   ]
  },
  {
   "cell_type": "code",
   "execution_count": 3,
   "metadata": {},
   "outputs": [
    {
     "name": "stdout",
     "output_type": "stream",
     "text": [
      "[3, 4, 5, 89, 100, 6]\n"
     ]
    }
   ],
   "source": [
    "heapq.heapreplace(list1,100)  #heapreplace is use to remove than push the element.\n",
    "print(list1)\n"
   ]
  },
  {
   "cell_type": "code",
   "execution_count": 4,
   "metadata": {},
   "outputs": [
    {
     "data": {
      "text/plain": [
       "[3, 4]"
      ]
     },
     "execution_count": 4,
     "metadata": {},
     "output_type": "execute_result"
    }
   ],
   "source": [
    "heapq.nsmallest(2,list1)      #nsmallest: (n: no. of elements,list,key=None)"
   ]
  },
  {
   "cell_type": "code",
   "execution_count": 5,
   "metadata": {},
   "outputs": [
    {
     "data": {
      "text/plain": [
       "[100, 89, 6]"
      ]
     },
     "execution_count": 5,
     "metadata": {},
     "output_type": "execute_result"
    }
   ],
   "source": [
    "heapq.nlargest(3,list1)     \n"
   ]
  },
  {
   "cell_type": "code",
   "execution_count": 6,
   "metadata": {},
   "outputs": [
    {
     "name": "stdout",
     "output_type": "stream",
     "text": [
      "[(1, 'tathagat'), (4, 'sia'), (3, 'gia')]\n"
     ]
    }
   ],
   "source": [
    "tup=[(1,\"tathagat\"),(4,\"sia\"),(3,\"gia\")]\n",
    "heapq.heapify(tup)\n",
    "print(tup)"
   ]
  },
  {
   "cell_type": "code",
   "execution_count": 7,
   "metadata": {},
   "outputs": [
    {
     "name": "stdout",
     "output_type": "stream",
     "text": [
      "(1, 'tathagat')\n",
      "(3, 'gia')\n",
      "(4, 'sia')\n"
     ]
    }
   ],
   "source": [
    "for i in range(len(tup)):\n",
    "    print(heapq.heappop(tup))"
   ]
  },
  {
   "cell_type": "code",
   "execution_count": 27,
   "metadata": {},
   "outputs": [
    {
     "name": "stdout",
     "output_type": "stream",
     "text": [
      "[0, 3, 4, 7, 10, 15, 20]\n"
     ]
    }
   ],
   "source": [
    "lis=[7,10,4,3,20,15,0]\n",
    "heapq.heapify(lis)\n",
    "arr=[]\n",
    "while lis:\n",
    "    arr.append(heapq.heappop(lis))\n",
    "print(arr)"
   ]
  },
  {
   "cell_type": "code",
   "execution_count": null,
   "metadata": {},
   "outputs": [],
   "source": [
    "arr=[7,10,4,3,20,15,0]\n",
    "def merge_sort(arr):\n",
    "    if 1<len(arr):\n",
    "        mid=len(arr)//2\n",
    "        L=[mid:]\n",
    "        R=[:mid]\n",
    "        merge_sort(L)\n",
    "        merge_sort(R)\n",
    "        "
   ]
  }
 ],
 "metadata": {
  "kernelspec": {
   "display_name": "Python 3",
   "language": "python",
   "name": "python3"
  },
  "language_info": {
   "codemirror_mode": {
    "name": "ipython",
    "version": 3
   },
   "file_extension": ".py",
   "mimetype": "text/x-python",
   "name": "python",
   "nbconvert_exporter": "python",
   "pygments_lexer": "ipython3",
   "version": "3.8.10"
  }
 },
 "nbformat": 4,
 "nbformat_minor": 4
}
