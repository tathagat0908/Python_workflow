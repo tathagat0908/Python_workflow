{
 "cells": [
  {
   "cell_type": "code",
   "execution_count": 11,
   "metadata": {},
   "outputs": [
    {
     "name": "stdout",
     "output_type": "stream",
     "text": [
      "[1, 2, 3, 4, 5, 6] ['a', 'b', 'c', 'd']\n",
      "\n",
      "Element found\n",
      "Element not found\n",
      "Element not found\n",
      "Element not found\n",
      "\n",
      "Element not found\n",
      "Element found\n",
      "Element not found\n",
      "Element not found\n"
     ]
    }
   ],
   "source": [
    "#introduction to array\n",
    "\n",
    "a=[1,2,3,4,5,6]\n",
    "b=[\"a\",\"b\",\"c\",\"d\"]\n",
    "print(a,b)\n",
    "\n",
    "#searching in array\n",
    "print()\n",
    "\n",
    "for i in range(len(b)):\n",
    "    if b[i]==\"a\":\n",
    "        print(\"Element found\")\n",
    "    else:\n",
    "        print(\"Element not found\")\n",
    "\n",
    "print()\n",
    "for i in b:\n",
    "    if i==\"b\":\n",
    "        print(\"Element found\")\n",
    "    else:\n",
    "        print(\"Element not found\")"
   ]
  },
  {
   "cell_type": "code",
   "execution_count": 36,
   "metadata": {},
   "outputs": [
    {
     "name": "stdout",
     "output_type": "stream",
     "text": [
      "[1, 2, 3, 4, 5, 6, 7, 8, 9]\n",
      "[1, 2, 3, 4, 10, 5, 6, 7, 8, 9]\n",
      "remove:  [2, 3, 4, 10, 5, 6, 7, 8, 9]\n",
      "pop:  [2, 4, 10, 5, 6, 7, 8, 9]\n",
      "del:  [2, 4, 10, 5, 6, 8, 9]\n",
      "clear:  []\n"
     ]
    }
   ],
   "source": [
    "#Insertion in array\n",
    "\n",
    "A=[1,2,3,4,5,6,7,8]\n",
    "#list.append(element)\n",
    "A.append(9)\n",
    "print(A)\n",
    "#list.insert(index)\n",
    "A.insert(4,10)\n",
    "print(A)\n",
    "\n",
    "#Delection in array\n",
    "\n",
    "#list.remove(element)\n",
    "A.remove(1)\n",
    "print(\"remove: \",A)\n",
    "#list.pop(index)\n",
    "A.pop(1)\n",
    "print(\"pop: \",A)\n",
    "#del list[index]\n",
    "del A[5]\n",
    "print(\"del: \",A)\n",
    "#clear list\n",
    "A.clear()\n",
    "print(\"clear: \",A)"
   ]
  },
  {
   "cell_type": "code",
   "execution_count": 6,
   "metadata": {},
   "outputs": [
    {
     "name": "stdout",
     "output_type": "stream",
     "text": [
      "[3, 4, 5, 6, 7, 8, 1, 2]\n"
     ]
    }
   ],
   "source": [
    "#Rotation of array\n",
    "A=[1,2,3,4,5,6,7,8]\n",
    "temp=[]\n",
    "k=2\n",
    "for i in range(k):\n",
    "    temp.append(A[i])\n",
    "    A.append(temp[i])\n",
    "A.pop(0)\n",
    "A.pop(0)\n",
    "print(A)"
   ]
  },
  {
   "cell_type": "code",
   "execution_count": 18,
   "metadata": {},
   "outputs": [
    {
     "name": "stdout",
     "output_type": "stream",
     "text": [
      "[8, 7, 6, 5, 4, 3, 2, 1]\n"
     ]
    }
   ],
   "source": [
    "#Reverse of array\n",
    "\n",
    "\"\"\"\n",
    "# 1st method - there are use extra space\n",
    "A=[1,2,3,4,5,6,7,8]\n",
    "C=[]\n",
    "for i in range(len(A)-1,-1,-1):\n",
    "    C.append(A[i])\n",
    "print(C)\n",
    "\"\"\"\n",
    "# 2nd method - there is not extra space\n",
    "A=[1,2,3,4,5,6,7,8]\n",
    "start=0;end=len(A)-1\n",
    "while start<=end:\n",
    "    temp=A[start]\n",
    "    A[start]=A[end]\n",
    "    A[end]=temp\n",
    "    start+=1\n",
    "    end-=1\n",
    "print(A)"
   ]
  },
  {
   "cell_type": "code",
   "execution_count": 9,
   "metadata": {},
   "outputs": [
    {
     "name": "stdout",
     "output_type": "stream",
     "text": [
      "21\n"
     ]
    }
   ],
   "source": [
    "#Sliding Window with fix window\n",
    "\n",
    "k=3;max_sum=0\n",
    "A=[1,2,3,4,5,6,7,8]\n",
    "for i in range(k):\n",
    "    max_sum+=A[i]\n",
    "window_sum=max_sum\n",
    "for i in range(k,len(A)):\n",
    "    window_sum+=A[i]-A[i-k]\n",
    "    max_sum=max(max_sum,window_sum)\n",
    "print(max_sum)"
   ]
  },
  {
   "cell_type": "code",
   "execution_count": 15,
   "metadata": {},
   "outputs": [
    {
     "name": "stdout",
     "output_type": "stream",
     "text": [
      "[10, 20, 10, 5, 15]\n",
      "[10, 30, 40, 45, 60]\n"
     ]
    }
   ],
   "source": [
    "#Prefix_sum array\n",
    "#i/o: [1,2,3,4,5,6,7,8]\n",
    "#o/p: [1,3,6,10,15,21,28,36]\n",
    "\n",
    "A=[10, 20, 10, 5, 15]\n",
    "print(A)\n",
    "prefix_sum=[]\n",
    "prefix_sum.insert(0,A[0])\n",
    "for i in range(1,len(A)):\n",
    "    prefix_sum.append(prefix_sum[i-1]+A[i])\n",
    "print(prefix_sum)"
   ]
  },
  {
   "cell_type": "code",
   "execution_count": null,
   "metadata": {},
   "outputs": [],
   "source": []
  }
 ],
 "metadata": {
  "kernelspec": {
   "display_name": "Python 3",
   "language": "python",
   "name": "python3"
  },
  "language_info": {
   "codemirror_mode": {
    "name": "ipython",
    "version": 3
   },
   "file_extension": ".py",
   "mimetype": "text/x-python",
   "name": "python",
   "nbconvert_exporter": "python",
   "pygments_lexer": "ipython3",
   "version": "3.8.10"
  }
 },
 "nbformat": 4,
 "nbformat_minor": 4
}
