{
 "cells": [
  {
   "cell_type": "code",
   "execution_count": 6,
   "metadata": {},
   "outputs": [
    {
     "name": "stdout",
     "output_type": "stream",
     "text": [
      "and tuth table: 0 0 0 1\n",
      "or tuth table: 0 1 1 1\n",
      "xor tuth table: 0 1 1 0\n"
     ]
    }
   ],
   "source": [
    "print(\"and tuth table:\",0&0,0&1,1&0,1&1)\n",
    "print(\"or tuth table:\",0|0,0|1,1|0,1|1)\n",
    "print(\"xor tuth table:\",0^0,0^1,1^0,1^1)"
   ]
  },
  {
   "cell_type": "code",
   "execution_count": 7,
   "metadata": {},
   "outputs": [
    {
     "data": {
      "text/plain": [
       "50"
      ]
     },
     "execution_count": 7,
     "metadata": {},
     "output_type": "execute_result"
    }
   ],
   "source": [
    "#use to / by 2\n",
    "100>>1"
   ]
  },
  {
   "cell_type": "code",
   "execution_count": 8,
   "metadata": {},
   "outputs": [
    {
     "data": {
      "text/plain": [
       "200"
      ]
     },
     "execution_count": 8,
     "metadata": {},
     "output_type": "execute_result"
    }
   ],
   "source": [
    "#use to * by 2\n",
    "100<<1"
   ]
  },
  {
   "cell_type": "code",
   "execution_count": 11,
   "metadata": {},
   "outputs": [
    {
     "name": "stdout",
     "output_type": "stream",
     "text": [
      "23\n",
      "n is odd\n"
     ]
    }
   ],
   "source": [
    "#check weather odd even problem\n",
    "n=int(input())\n",
    "if n&1==0:\n",
    "    print(\"n is even\")\n",
    "\n",
    "if n&1==1:\n",
    "    print(\"n is odd\")"
   ]
  },
  {
   "cell_type": "code",
   "execution_count": 19,
   "metadata": {},
   "outputs": [
    {
     "name": "stdout",
     "output_type": "stream",
     "text": [
      "2 3\n",
      "swaped no.: 3 2\n"
     ]
    }
   ],
   "source": [
    "#swap problem \n",
    "a,b=map(int,input().split())\n",
    "a=a^b\n",
    "b=b^a\n",
    "a=a^b\n",
    "print(\"swaped no.:\",a,b)"
   ]
  },
  {
   "cell_type": "code",
   "execution_count": 20,
   "metadata": {},
   "outputs": [
    {
     "name": "stdout",
     "output_type": "stream",
     "text": [
      "0b1111101000\n",
      "0b1001\n",
      "0b1111100001\n",
      "992\n"
     ]
    }
   ],
   "source": [
    "#find the number of bits to change to convert top\n",
    "#if we have : 10110 and 11011 ans: so there are 3 bits change\n",
    "a=1000\n",
    "b=9\n",
    "print(bin(a))\n",
    "print(bin(b))\n",
    "n=a^b\n",
    "print(bin(n))\n",
    "print(n&(n-1))\n"
   ]
  },
  {
   "cell_type": "code",
   "execution_count": 6,
   "metadata": {},
   "outputs": [
    {
     "name": "stdout",
     "output_type": "stream",
     "text": [
      "8\n",
      "0\n"
     ]
    }
   ],
   "source": [
    "n=100\n",
    "i=3\n",
    "mask=1<<i\n",
    "print(mask)\n",
    "print(n&mask)"
   ]
  },
  {
   "cell_type": "code",
   "execution_count": null,
   "metadata": {},
   "outputs": [],
   "source": []
  }
 ],
 "metadata": {
  "kernelspec": {
   "display_name": "Python 3",
   "language": "python",
   "name": "python3"
  },
  "language_info": {
   "codemirror_mode": {
    "name": "ipython",
    "version": 3
   },
   "file_extension": ".py",
   "mimetype": "text/x-python",
   "name": "python",
   "nbconvert_exporter": "python",
   "pygments_lexer": "ipython3",
   "version": "3.8.10"
  }
 },
 "nbformat": 4,
 "nbformat_minor": 4
}
