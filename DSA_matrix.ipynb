{
 "cells": [
  {
   "cell_type": "markdown",
   "metadata": {},
   "source": [
    "# Matrix\n"
   ]
  },
  {
   "cell_type": "code",
   "execution_count": 25,
   "metadata": {},
   "outputs": [
    {
     "name": "stdout",
     "output_type": "stream",
     "text": [
      "2\n",
      "2\n",
      "1 2 3 4\n",
      "2 3 4 5\n",
      "[[10. 13.]\n",
      " [22. 29.]]\n"
     ]
    }
   ],
   "source": [
    "# Matrix multplication \n",
    "\n",
    "import numpy as np\n",
    "r=int(input())\n",
    "c=int(input())\n",
    "value1=list(map(int,input().split()))\n",
    "value2=list(map(int,input().split()))\n",
    "matrix1=np.array(value1).reshape(r,c)\n",
    "matrix2=np.array(value2).reshape(r,c)\n",
    "mat=np.zeros((r,c))\n",
    "\n",
    "for i in range(len(matrix1)):\n",
    "    for j in range(len(matrix2)):\n",
    "        for k in range(len(matrix2)):\n",
    "            mat[i][j]+=matrix1[i][k]*matrix2[k][j]\n",
    "            \n",
    "print(mat)"
   ]
  },
  {
   "cell_type": "code",
   "execution_count": 28,
   "metadata": {},
   "outputs": [
    {
     "name": "stdout",
     "output_type": "stream",
     "text": [
      "2\n",
      "2\n",
      "1 2 3 4 \n",
      "2 2 3 4\n",
      "[[3 4]\n",
      " [6 8]]\n"
     ]
    }
   ],
   "source": [
    "# Matrix addition\n",
    "\n",
    "import numpy as np\n",
    "r=int(input())\n",
    "c=int(input())\n",
    "value1=list(map(int,input().split()))\n",
    "value2=list(map(int,input().split()))\n",
    "matrix1=np.array(value1).reshape(r,c)\n",
    "matrix2=np.array(value2).reshape(r,c)\n",
    "mat3=matrix1+matrix2;print(mat3)"
   ]
  },
  {
   "cell_type": "code",
   "execution_count": 29,
   "metadata": {},
   "outputs": [
    {
     "name": "stdout",
     "output_type": "stream",
     "text": [
      "2\n",
      "2\n",
      "1 2 3 4\n",
      "2 3 4 5\n",
      "[[-1 -1]\n",
      " [-1 -1]]\n"
     ]
    }
   ],
   "source": [
    "# Matrix substarction \n",
    "\n",
    "import numpy as np\n",
    "r=int(input());c=int(input())\n",
    "val1=list(map(int,input().split()));val2=list(map(int,input().split()))\n",
    "m=np.array(val1).reshape(r,c);n=np.array(val2).reshape(r,c)\n",
    "result=m-n\n",
    "print(result)"
   ]
  },
  {
   "cell_type": "code",
   "execution_count": 31,
   "metadata": {},
   "outputs": [
    {
     "name": "stdout",
     "output_type": "stream",
     "text": [
      "3\n",
      "3\n",
      "2 3 4 2 3 5 6 7 8\n",
      "[[4 5 8]\n",
      " [3 3 7]\n",
      " [2 2 6]]\n"
     ]
    }
   ],
   "source": [
    "# 90degree left rotation of Matrix\n",
    "\n",
    "r=int(input());c=int(input())\n",
    "val=list(map(int,input().split()))\n",
    "matrix=np.array(val).reshape(r,c)\n",
    "temp=np.array(val).reshape(r,c)\n",
    "for i in range(r):\n",
    "    for j in range(c):\n",
    "        matrix[i][j]=temp[j][r-i-1]\n",
    "             \n",
    "print(matrix)"
   ]
  },
  {
   "cell_type": "code",
   "execution_count": 34,
   "metadata": {},
   "outputs": [
    {
     "name": "stdout",
     "output_type": "stream",
     "text": [
      "2\n",
      "2\n",
      "1 2 3 4\n",
      "[[1 2]\n",
      " [3 4]]\n",
      "[[1 3]\n",
      " [2 4]]\n"
     ]
    }
   ],
   "source": [
    "# Transpose of Matrix\n",
    "\n",
    "r=int(input());c=int(input())\n",
    "val=list(map(int,input().split()))\n",
    "matrix=np.array(val).reshape(r,c)\n",
    "tran=np.array(val).reshape(c,r)\n",
    "for i in range(c):\n",
    "    for j in range(r):\n",
    "        tran[i][j]=matrix[j][i]\n",
    "print(matrix)\n",
    "print(tran)\n"
   ]
  },
  {
   "cell_type": "code",
   "execution_count": 55,
   "metadata": {},
   "outputs": [
    {
     "name": "stdout",
     "output_type": "stream",
     "text": [
      "0 2\n"
     ]
    }
   ],
   "source": [
    "# Search Element in Row-wise and Column-wise Sorted Matrix\n",
    "\n",
    "def search(mat,x):\n",
    "    \n",
    "    n=len(mat)\n",
    "    i=0;j=n-1\n",
    "    while(i<n and j>=0):\n",
    "\n",
    "        if mat[i][j]==x:\n",
    "            print(i,j)\n",
    "            break\n",
    "        elif mat[i][j]>x:\n",
    "            j-=1\n",
    "        else:\n",
    "            i+=1\n",
    "            \n",
    "mat=[[1,2,3],\n",
    "    [4,5,6],\n",
    "    [7,8,9]]\n",
    "search(mat,3)\n"
   ]
  },
  {
   "cell_type": "code",
   "execution_count": 22,
   "metadata": {},
   "outputs": [
    {
     "name": "stdout",
     "output_type": "stream",
     "text": [
      "4\n",
      "1 2 3 4 5 6 7 8 9 10 11 12 13 14 15 16\n",
      "1\n",
      "2\n",
      "3\n",
      "4\n",
      "8\n",
      "12\n",
      "16\n",
      "15\n",
      "14\n",
      "13\n",
      "9\n",
      "5\n",
      "6\n",
      "7\n",
      "11\n",
      "10\n"
     ]
    }
   ],
   "source": [
    "# Spiral Traversal of Matrix\n",
    "\n",
    "import numpy as np\n",
    "\n",
    "def spiralmat(mat,n):\n",
    "    top=0;down=n-1;left=0;right=n-1\n",
    "    di=0\n",
    "    while top<=down and left<=right:\n",
    "        if di==0:\n",
    "            for i in range(left,right+1):\n",
    "                print(mat[top][i])\n",
    "            top+=1\n",
    "        elif di==1:\n",
    "            \n",
    "            for i in range(top,down+1):\n",
    "            \n",
    "                print(mat[i][right])\n",
    "            right-=1\n",
    "        elif di==2:\n",
    "            for i in range(right,left-1,-1):\n",
    "                \n",
    "                print(mat[down][i])\n",
    "            down-=1\n",
    "        elif di==3:\n",
    "            for i in range(down,top-1,-1):\n",
    "                print(mat[i][left])\n",
    "            left+=1\n",
    "        di=(di+1)%4\n",
    "    \n",
    "\n",
    "n=int(input())\n",
    "val=list(map(int,input().split()))\n",
    "mat=np.array(val).reshape(n,n)\n",
    "spiralmat(mat,n)"
   ]
  },
  {
   "cell_type": "code",
   "execution_count": null,
   "metadata": {},
   "outputs": [],
   "source": []
  },
  {
   "cell_type": "code",
   "execution_count": null,
   "metadata": {},
   "outputs": [],
   "source": []
  }
 ],
 "metadata": {
  "kernelspec": {
   "display_name": "Python 3",
   "language": "python",
   "name": "python3"
  },
  "language_info": {
   "codemirror_mode": {
    "name": "ipython",
    "version": 3
   },
   "file_extension": ".py",
   "mimetype": "text/x-python",
   "name": "python",
   "nbconvert_exporter": "python",
   "pygments_lexer": "ipython3",
   "version": "3.8.10"
  }
 },
 "nbformat": 4,
 "nbformat_minor": 4
}
