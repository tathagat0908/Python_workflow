{
 "cells": [
  {
   "cell_type": "markdown",
   "metadata": {},
   "source": [
    "# Knapsack"
   ]
  },
  {
   "cell_type": "code",
   "execution_count": 32,
   "metadata": {},
   "outputs": [
    {
     "data": {
      "text/plain": [
       "9"
      ]
     },
     "execution_count": 32,
     "metadata": {},
     "output_type": "execute_result"
    }
   ],
   "source": [
    "# 0-1 knapsack\n",
    "\n",
    "def knapsack(wt,val,weight,n):\n",
    "    if n==0 or weight==0:\n",
    "        return 0\n",
    "    if wt[n-1]<=weight:\n",
    "        return max(val[n-1]+knapsack(wt,val,weight-wt[n-1],n-1),knapsack(wt,val,weight,n-1))\n",
    "    elif wt[n-1]>weight:\n",
    "        return knapsack(wt,val,weight,n-1)\n",
    "wt=[1,3,4,5]\n",
    "val=[1,4,5,7] \n",
    "weight=7\n",
    "n=len(wt)\n",
    "knapsack(wt,val,weight,n)"
   ]
  },
  {
   "cell_type": "code",
   "execution_count": 48,
   "metadata": {},
   "outputs": [
    {
     "data": {
      "text/plain": [
       "220"
      ]
     },
     "execution_count": 48,
     "metadata": {},
     "output_type": "execute_result"
    }
   ],
   "source": [
    "# 0-1 knapsack (memoziation)\n",
    "\n",
    "import numpy as np\n",
    "r=n+1\n",
    "c=weight+1\n",
    "val=[-1]*r*c\n",
    "matrix=np.array(val).reshape(r,c)\n",
    "\n",
    "\n",
    "def knapsack(wt,val,weight,n):\n",
    "    if n==0 or weight==0:\n",
    "        return 0\n",
    "    if matrix[n][weight]!=-1: \n",
    "        \n",
    "        return matrix[n][weight]\n",
    "    \n",
    "    if wt[n-1]<=weight:\n",
    "        matrix[n][weight]=max(val[n-1]+knapsack(wt,val,weight-wt[n-1],n-1),knapsack(wt,val,weight,n-1))\n",
    "        return matrix[n][weight]\n",
    "        \n",
    "    elif wt[n-1]>weight:\n",
    "        matrix[n][weight]=knapsack(wt,val,weight,n-1)\n",
    "        return matrix[n][weight]\n",
    "    \n",
    "    \n",
    "wt=[10, 20, 30]\n",
    "val=[60, 100, 120]\n",
    "weight=50\n",
    "n=len(wt)\n",
    "knapsack(wt,val,weight,n)"
   ]
  },
  {
   "cell_type": "code",
   "execution_count": 81,
   "metadata": {},
   "outputs": [
    {
     "name": "stdout",
     "output_type": "stream",
     "text": [
      "[[0 0 0 0 0 0 0 0]\n",
      " [0 1 1 1 1 1 1 1]\n",
      " [0 1 1 4 5 5 5 5]\n",
      " [0 1 1 4 5 6 6 9]\n",
      " [0 1 1 4 5 7 8 9]]\n",
      "9\n"
     ]
    }
   ],
   "source": [
    "# 0-1 knapsack (top-down)\n",
    "\n",
    "import numpy as np\n",
    "\n",
    "wt=[1,3,4,5]\n",
    "val=[1,4,5,7]\n",
    "weight=7\n",
    "n=len(wt)\n",
    "\n",
    "r=n+1\n",
    "c=weight+1\n",
    "v=[-1]*r*c\n",
    "mat=np.array(v).reshape(r,c) \n",
    "\n",
    "for i in range(r):\n",
    "    for j in range(c):\n",
    "        if i==0 or j==0:\n",
    "            mat[i][j]=0\n",
    "            \n",
    "    \n",
    "for i in range(1,r):\n",
    "    for j in range(1,c):\n",
    "        \n",
    "        if wt[i-1]<=j:\n",
    "            mat[i][j]=max(val[i-1]+mat[i-1][j-wt[i-1]],mat[i-1][j])\n",
    "            \n",
    "        else:\n",
    "            mat[i][j]=mat[i-1][j]\n",
    "\n",
    "print(mat)\n",
    "print(mat[n][weight])\n",
    "\n"
   ]
  },
  {
   "cell_type": "code",
   "execution_count": 7,
   "metadata": {},
   "outputs": [
    {
     "name": "stdout",
     "output_type": "stream",
     "text": [
      "[[1 0 0 0 0 0 0 0 0 0 0]\n",
      " [1 0 0 1 0 0 0 0 0 0 0]\n",
      " [1 0 0 1 0 0 0 0 0 0 0]\n",
      " [1 0 0 1 1 0 0 1 0 0 0]\n",
      " [1 0 0 1 1 0 0 1 0 0 0]\n",
      " [1 0 0 1 1 1 0 1 1 1 0]\n",
      " [1 0 1 1 1 1 1 1 1 1 1]]\n",
      "True\n"
     ]
    }
   ],
   "source": [
    "# Subset sum problem:\n",
    "arr=[3, 34, 4, 12, 5, 2]\n",
    "su=10\n",
    "\n",
    "import numpy as np\n",
    "r=len(arr)+1\n",
    "c=su+1\n",
    "v=[0]*(r)*(c)\n",
    "mat=np.array(v).reshape(r,c)\n",
    "\n",
    "for i in range(r):\n",
    "    for j in range(c):\n",
    "        if i==0:\n",
    "            mat[i][j]=False\n",
    "        if j==0:\n",
    "            mat[i][j]=True\n",
    "            \n",
    "for i in range(1,r):\n",
    "    for j in range(1,c):\n",
    "        if arr[i-1]<=j:\n",
    "            mat[i][j]=(mat[i-1][j-arr[i-1]]) or (mat[i-1][j])\n",
    "        else:\n",
    "            mat[i][j]=mat[i-1][j]\n",
    "\n",
    "print(mat)\n",
    "\n",
    "print(bool(mat[r-1][c-1]))"
   ]
  },
  {
   "cell_type": "code",
   "execution_count": 9,
   "metadata": {},
   "outputs": [
    {
     "data": {
      "text/plain": [
       "True"
      ]
     },
     "execution_count": 9,
     "metadata": {},
     "output_type": "execute_result"
    }
   ],
   "source": [
    "# Equal sum partition problem \n",
    "arr=[1,5,5,11]\n",
    "\n",
    "def subset_sum(arr,su):\n",
    "    import numpy as np\n",
    "    r=len(arr)+1\n",
    "    c=su+1\n",
    "    v=[0]*(r)*(c)\n",
    "    mat=np.array(v).reshape(r,c)\n",
    "\n",
    "    for i in range(r):\n",
    "        for j in range(c):\n",
    "            if i==0:\n",
    "                mat[i][j]=False\n",
    "            if j==0:\n",
    "                mat[i][j]=True\n",
    "\n",
    "    for i in range(1,r):\n",
    "        for j in range(1,c):\n",
    "            if arr[i-1]<=j:\n",
    "                mat[i][j]=(mat[i-1][j-arr[i-1]]) or (mat[i-1][j])\n",
    "            else:\n",
    "                mat[i][j]=mat[i-1][j]\n",
    "    return bool(mat[r-1][c-1])\n",
    "\n",
    "def equal(arr):\n",
    "    su=sum(arr)\n",
    "    if su%2!=0:\n",
    "        return False\n",
    "    else:\n",
    "        return subset_sum(arr,su//2)\n",
    "\n",
    "equal(arr)"
   ]
  },
  {
   "cell_type": "code",
   "execution_count": 5,
   "metadata": {},
   "outputs": [
    {
     "name": "stdout",
     "output_type": "stream",
     "text": [
      "[[1 0 0 0 0 0 0 0 0 0 0]\n",
      " [1 0 1 0 0 0 0 0 0 0 0]\n",
      " [1 0 1 1 0 1 0 0 0 0 0]\n",
      " [1 0 1 1 0 2 0 1 1 0 1]\n",
      " [1 0 1 1 0 2 1 1 2 1 1]\n",
      " [1 0 1 1 0 2 1 1 3 1 2]\n",
      " [1 0 1 1 0 2 1 1 3 1 3]]\n",
      "3\n"
     ]
    }
   ],
   "source": [
    "# Count sub_set sum problem\n",
    "\n",
    "arr=[2,3,5,6,8,10]\n",
    "su=10\n",
    "\n",
    "import numpy as np\n",
    "r=len(arr)+1\n",
    "c=su+1\n",
    "v=[0]*(r)*(c)\n",
    "mat=np.array(v).reshape(r,c)\n",
    "\n",
    "for i in range(r):\n",
    "    for j in range(c):\n",
    "        if i==0:\n",
    "            mat[i][j]=False\n",
    "        if j==0:\n",
    "            mat[i][j]=True\n",
    "            \n",
    "for i in range(1,r):\n",
    "    for j in range(1,c):\n",
    "        if arr[i-1]<=j:\n",
    "            mat[i][j]=(mat[i-1][j-arr[i-1]]) + (mat[i-1][j])\n",
    "        else:\n",
    "            mat[i][j]=mat[i-1][j]\n",
    "\n",
    "print(mat)\n",
    "print(mat[r-1][c-1])"
   ]
  },
  {
   "cell_type": "code",
   "execution_count": 46,
   "metadata": {},
   "outputs": [
    {
     "name": "stdout",
     "output_type": "stream",
     "text": [
      "1\n"
     ]
    }
   ],
   "source": [
    "# Minimum subset sum diff\n",
    "\n",
    "arr=[3, 1, 4, 2, 2, 1]\n",
    "\n",
    "import numpy as np\n",
    "r=len(arr)+1\n",
    "su=sum(arr)\n",
    "c=su+1\n",
    "v=[0]*(r)*(c)\n",
    "mat=np.array(v).reshape(r,c)\n",
    "\n",
    "for i in range(r):\n",
    "    for j in range(c):\n",
    "        if i==0:\n",
    "            mat[i][j]=False\n",
    "        if j==0:\n",
    "            mat[i][j]=True\n",
    "\n",
    "for i in range(1,r):\n",
    "    for j in range(1,c):\n",
    "        if arr[i-1]<=j:\n",
    "            mat[i][j]=(mat[i-1][j-arr[i-1]]) or (mat[i-1][j])         # this para code is from subset sum as it is same.\n",
    "        else:\n",
    "            mat[i][j]=mat[i-1][j]\n",
    "\n",
    "            \n",
    "            \n",
    "arr1=mat[r-1]\n",
    "arr3=[]\n",
    "for i in range(len(arr1)//2):\n",
    "    if arr1[i]==1:\n",
    "        arr3.append(i)\n",
    "\n",
    "        \n",
    "mn=float('inf')\n",
    "for k in range(len(arr3)):\n",
    "    mn=min(mn,su-(2*arr3[k]))\n",
    "\n",
    "print(mn)\n"
   ]
  },
  {
   "cell_type": "code",
   "execution_count": 63,
   "metadata": {},
   "outputs": [
    {
     "name": "stdout",
     "output_type": "stream",
     "text": [
      "[[1 0 0 0 0]\n",
      " [1 1 0 0 0]\n",
      " [1 2 1 0 0]\n",
      " [1 2 2 2 1]\n",
      " [1 2 2 3 3]]\n"
     ]
    },
    {
     "data": {
      "text/plain": [
       "3"
      ]
     },
     "execution_count": 63,
     "metadata": {},
     "output_type": "execute_result"
    }
   ],
   "source": [
    "# COunt the number of subset with given diff\n",
    "\n",
    "arr=[1,1,2,3]\n",
    "diff=1\n",
    "\n",
    "def count_subset_diff(arr,diff):\n",
    "    su=sum(arr)\n",
    "    sum_s1=(diff+su)//2\n",
    "    return count_subset_sum(arr,sum_s1)\n",
    "\n",
    "def count_subset_sum(arr,sum_s1):\n",
    "    import numpy as np\n",
    "    r=len(arr)+1\n",
    "    c=sum_s1+1\n",
    "    v=[0]*(r)*(c)\n",
    "    mat=np.array(v).reshape(r,c)\n",
    "    \n",
    "    for i in range(r):\n",
    "        for j in range(c):\n",
    "            if i==0:\n",
    "                mat[i][j]=False\n",
    "            if j==0:\n",
    "                mat[i][j]=True\n",
    "    \n",
    "    for i in range(1,r):\n",
    "        for j in range(1,c):\n",
    "            if(arr[i-1]<=j):\n",
    "                mat[i][j]=mat[i-1][j-arr[i-1]] + mat[i-1][j]\n",
    "            else:\n",
    "                mat[i][j]=mat[i-1][j]\n",
    "\n",
    "    return mat[r-1][c-1]\n",
    "\n",
    "\n",
    "count_subset_diff(arr,diff)"
   ]
  },
  {
   "cell_type": "code",
   "execution_count": 69,
   "metadata": {},
   "outputs": [
    {
     "name": "stdout",
     "output_type": "stream",
     "text": [
      "9\n"
     ]
    }
   ],
   "source": [
    "# Unbounded knapsack\n",
    "import numpy as np\n",
    "\n",
    "wt=[1,3,4,5]\n",
    "val=[1,4,5,7]\n",
    "weight=7\n",
    "n=len(wt)\n",
    "\n",
    "r=n+1\n",
    "c=weight+1\n",
    "v=[-1]*r*c\n",
    "mat=np.array(v).reshape(r,c) \n",
    "\n",
    "for i in range(r):\n",
    "    for j in range(c):\n",
    "        if i==0 or j==0:\n",
    "            mat[i][j]=0\n",
    "            \n",
    "    \n",
    "for i in range(1,r):\n",
    "    for j in range(1,c):\n",
    "        \n",
    "        if wt[i-1]<=j:\n",
    "            mat[i][j]=max(val[i-1]+mat[i][j-wt[i-1]],mat[i-1][j])\n",
    "            \n",
    "        else:\n",
    "            mat[i][j]=mat[i-1][j]\n",
    "\n",
    "print(mat[n][weight])\n"
   ]
  },
  {
   "cell_type": "code",
   "execution_count": 72,
   "metadata": {},
   "outputs": [
    {
     "name": "stdout",
     "output_type": "stream",
     "text": [
      "22\n"
     ]
    }
   ],
   "source": [
    "# Rod cutting problem\n",
    "import numpy as np\n",
    "\n",
    "length=[1,2,3,4,5,6,7,8]\n",
    "price=[1,5,8,9,10,17,17,20]\n",
    "N=8\n",
    "\n",
    "r=len(length)+1\n",
    "c=N+1\n",
    "v=[-1]*r*c\n",
    "mat=np.array(v).reshape(r,c)\n",
    "\n",
    "for i in range(r):\n",
    "    for j in range(c):\n",
    "        if i==0 or j==0:\n",
    "            mat[i][j]=0\n",
    "\n",
    "for i in range(1,r):\n",
    "    for j in range(1,c):\n",
    "        if(length[i-1]<=j):\n",
    "            mat[i][j]=max(price[i-1]+mat[i][j-length[i-1]],mat[i-1][j])\n",
    "        else:\n",
    "            mat[i][j]=mat[i-1][j]\n",
    "\n",
    "print(mat[r-1][c-1])"
   ]
  },
  {
   "cell_type": "code",
   "execution_count": 21,
   "metadata": {},
   "outputs": [
    {
     "data": {
      "text/plain": [
       "4"
      ]
     },
     "execution_count": 21,
     "metadata": {},
     "output_type": "execute_result"
    }
   ],
   "source": [
    "# Coin Change I \n",
    "\n",
    "coin=[1,2,3]\n",
    "su=4\n",
    "\n",
    "def coin_change(coin,su):\n",
    "    import numpy as np\n",
    "    r=len(coin)+1\n",
    "    c=su+1\n",
    "    v=[-1]*r*c\n",
    "    mat=np.array(v).reshape(r,c)\n",
    "    \n",
    "    for i in range(r):\n",
    "        for j in range(c):\n",
    "            if(i==0):\n",
    "                mat[i][j]=0\n",
    "            if j==0:\n",
    "                mat[i][j]=1\n",
    "    \n",
    "    for i in range(1,r):\n",
    "        for j in range(1,c):\n",
    "            if(coin[i-1]<=j):\n",
    "                mat[i][j]=mat[i-1][j]+mat[i][j-coin[i-1]]\n",
    "            else:\n",
    "                mat[i][j]=mat[i-1][j]\n",
    "    return mat[r-1][c-1]\n",
    "    \n",
    "    \n",
    "coin_change(coin,su)"
   ]
  },
  {
   "cell_type": "code",
   "execution_count": 13,
   "metadata": {},
   "outputs": [
    {
     "data": {
      "text/plain": [
       "1"
      ]
     },
     "execution_count": 13,
     "metadata": {},
     "output_type": "execute_result"
    }
   ],
   "source": [
    "# Coin Change II\n",
    "\n",
    "import numpy as np\n",
    "arr=[1,2,3]\n",
    "su=3\n",
    "\n",
    "def coin_change2(arr,su):\n",
    "    r=len(arr)+1\n",
    "    c=su+1\n",
    "    v=[-1.0]*r*c\n",
    "    mat=np.array(v).reshape(r,c)\n",
    "    \n",
    "    for i in range(r):\n",
    "        for j in range(c):\n",
    "            if i==0:\n",
    "                mat[i][j]=float('inf')-1\n",
    "            if i!=0 and j==0:\n",
    "                mat[i][j]=0\n",
    "            if i==1 and j%arr[0]==0:\n",
    "                mat[i][j]=j/arr[0]\n",
    "            elif i==1 and j%arr[0]!=0:\n",
    "                mat[i][j]=float('inf')-1\n",
    "    \n",
    "    for i in range(2,r):\n",
    "        for j in range(1,c):\n",
    "            if(arr[i-1]<=j):\n",
    "                mat[i][j]=min(1+mat[i][j-arr[i-1]],mat[i-1][j])\n",
    "            else:\n",
    "                mat[i][j]=mat[i-1][j]\n",
    "                \n",
    "    return int(mat[r-1][c-1])\n",
    "\n",
    "coin_change2(arr,su)\n"
   ]
  },
  {
   "cell_type": "markdown",
   "metadata": {},
   "source": [
    "# Longest Common Sub-Sequence"
   ]
  },
  {
   "cell_type": "code",
   "execution_count": 14,
   "metadata": {},
   "outputs": [
    {
     "data": {
      "text/plain": [
       "4"
      ]
     },
     "execution_count": 14,
     "metadata": {},
     "output_type": "execute_result"
    }
   ],
   "source": [
    "# Recursive approach of LCS\n",
    "\n",
    "x=\"abcdgh\"\n",
    "y=\"abedfhr\"\n",
    "n=len(x)\n",
    "m=len(y)\n",
    "\n",
    "def LCS(x,y,n,m):\n",
    "    if(n==0 or m==0):\n",
    "        return 0\n",
    "    if(x[n-1]==y[m-1]):\n",
    "        return 1+LCS(x,y,n-1,m-1)\n",
    "    else:\n",
    "        return max(LCS(x,y,n,m-1),LCS(x,y,n-1,m))\n",
    "    \n",
    "LCS(x,y,n,m)"
   ]
  },
  {
   "cell_type": "code",
   "execution_count": 35,
   "metadata": {},
   "outputs": [
    {
     "data": {
      "text/plain": [
       "4"
      ]
     },
     "execution_count": 35,
     "metadata": {},
     "output_type": "execute_result"
    }
   ],
   "source": [
    "# Buttom-up memoziation of LCS (DP)\n",
    "\n",
    "import numpy as np\n",
    "x=\"abcdgh\"\n",
    "y=\"abedfhr\"\n",
    "m=len(x)\n",
    "n=len(y)\n",
    "v=[-1]*(n+1)*(m+1)\n",
    "\n",
    "mat=np.array(v).reshape(m+1,n+1)\n",
    "\n",
    "def LCS_DP(x,y,m,n):\n",
    "    if(m==0 or n==0):\n",
    "        return 0\n",
    "    if(mat[m][n]!=-1):\n",
    "        return mat[m][n]\n",
    "    \n",
    "    if(x[m-1]==y[n-1]):\n",
    "        mat[m][n]=1+LCS_DP(x,y,m-1,n-1)\n",
    "        return mat[m][n]\n",
    "    else:\n",
    "        mat[m][n]=max(LCS_DP(x,y,m,n-1),\n",
    "                            LCS_DP(x,y,m-1,n))\n",
    "        return mat[m][n]\n",
    "    \n",
    "LCS_DP(x,y,m,n)"
   ]
  },
  {
   "cell_type": "code",
   "execution_count": 26,
   "metadata": {},
   "outputs": [
    {
     "name": "stdout",
     "output_type": "stream",
     "text": [
      "[[0 0 0 0 0 0 0 0]\n",
      " [0 1 1 1 1 1 1 1]\n",
      " [0 1 2 2 2 2 2 2]\n",
      " [0 1 2 2 2 2 2 2]\n",
      " [0 1 2 2 3 3 3 3]\n",
      " [0 1 2 2 3 3 3 3]\n",
      " [0 1 2 2 3 3 4 4]]\n"
     ]
    },
    {
     "data": {
      "text/plain": [
       "4"
      ]
     },
     "execution_count": 26,
     "metadata": {},
     "output_type": "execute_result"
    }
   ],
   "source": [
    "# Top-Down DP of LCS\n",
    "\n",
    "import numpy as np\n",
    "x=\"abcdgh\"\n",
    "y=\"abedfhr\"\n",
    "\n",
    "m=len(x)\n",
    "n=len(y)\n",
    "v=[-1]*(n+1)*(m+1)\n",
    "# global mat\n",
    "\n",
    "def LCS(x,y,m,n):\n",
    "    mat=np.array(v).reshape(m+1,n+1)\n",
    "    for i in range(m+1):\n",
    "        for j in range(n+1):\n",
    "            if i==0 or j==0:\n",
    "                mat[i][j]=0\n",
    "    for i in range(1,m+1):\n",
    "        for j in range(1,n+1):\n",
    "            if(x[i-1]==y[j-1]):\n",
    "                mat[i][j]=1+mat[i-1][j-1]\n",
    "            else:\n",
    "                mat[i][j]=max(mat[i-1][j],mat[i][j-1])\n",
    "    print(mat)\n",
    "    return mat[m][n]\n",
    "\n",
    "LCS(x,y,m,n)"
   ]
  },
  {
   "cell_type": "code",
   "execution_count": 4,
   "metadata": {},
   "outputs": [
    {
     "name": "stdout",
     "output_type": "stream",
     "text": [
      "[[0 0 0 0]\n",
      " [0 0 0 1]\n",
      " [0 1 0 0]\n",
      " [0 0 2 0]]\n"
     ]
    },
    {
     "data": {
      "text/plain": [
       "2"
      ]
     },
     "execution_count": 4,
     "metadata": {},
     "output_type": "execute_result"
    }
   ],
   "source": [
    "# Longest Common subString \n",
    "import numpy as np\n",
    "x=\"eat\"\n",
    "y=\"ate\"\n",
    "\n",
    "m=len(x)\n",
    "n=len(y)\n",
    "v=[-1]*(n+1)*(m+1)\n",
    "# global mat\n",
    "\n",
    "def LCS(x,y,m,n):\n",
    "    mat=np.array(v).reshape(m+1,n+1)\n",
    "    for i in range(m+1):\n",
    "        for j in range(n+1):\n",
    "            if i==0 or j==0:\n",
    "                mat[i][j]=0\n",
    "    for i in range(1,m+1):\n",
    "        for j in range(1,n+1):\n",
    "            if(x[i-1]==y[j-1]):\n",
    "                mat[i][j]=1+mat[i-1][j-1]\n",
    "            else:\n",
    "                mat[i][j]=0\n",
    "    print(mat)\n",
    "    return np.max(mat)\n",
    "\n",
    "LCS(x,y,m,n)"
   ]
  },
  {
   "cell_type": "code",
   "execution_count": 41,
   "metadata": {},
   "outputs": [
    {
     "name": "stdout",
     "output_type": "stream",
     "text": [
      "abdh\n"
     ]
    }
   ],
   "source": [
    "# Print Longest Common subsequence\n",
    "import numpy as np\n",
    "\n",
    "x=\"abcdgh\"\n",
    "y=\"abedfhr\"\n",
    "m=len(x)\n",
    "n=len(y)\n",
    "v=[-1]*(n+1)*(m+1)\n",
    "\n",
    "mat=np.array(v).reshape(m+1,n+1)\n",
    "\n",
    "def LCS(x,y,m,n):\n",
    "    for i in range(m+1):\n",
    "        for j in range(n+1):\n",
    "            if i==0 or j==0:\n",
    "                mat[i][j]=0\n",
    "    \n",
    "    for i in range(1,m+1):\n",
    "        for j in range(1,n+1):\n",
    "            if(x[i-1]==y[j-1]):\n",
    "                mat[i][j]=1+mat[i-1][j-1]\n",
    "            else:\n",
    "                mat[i][j]=max(mat[i][j-1],\n",
    "                             mat[i-1][j])\n",
    "    return mat\n",
    "\n",
    "t=LCS(x,y,m,n)\n",
    "i=m;j=n\n",
    "ans=\"\"\n",
    "while(i>0 and j>0):\n",
    "    if(x[i-1]==y[j-1]):\n",
    "        ans+=x[i-1]\n",
    "        i-=1\n",
    "        j-=1\n",
    "    else:\n",
    "        if t[i][j-1]>t[i-1][j]:\n",
    "            j-=1\n",
    "        else:\n",
    "            i-=1\n",
    "\n",
    "print(ans[::-1])"
   ]
  },
  {
   "cell_type": "code",
   "execution_count": 45,
   "metadata": {},
   "outputs": [
    {
     "name": "stdout",
     "output_type": "stream",
     "text": [
      "9\n"
     ]
    }
   ],
   "source": [
    "# Shorted Common SuperSequence \n",
    "\n",
    "import numpy as np\n",
    "a=\"AGGTAB\"\n",
    "b=\"GXTXAYB\"\n",
    "m=len(a)\n",
    "n=len(b)\n",
    "\n",
    "v=[-1]*(m+1)*(n+1)\n",
    "mat=np.array(v).reshape(m+1,n+1)\n",
    "\n",
    "def LCS(a,b,m,n):\n",
    "    for i in range(m+1):\n",
    "        for j in range(n+1):\n",
    "            if(i==0 or j==0):\n",
    "                mat[i][j]=0\n",
    "                \n",
    "    for i in range(1,m+1):\n",
    "        for j in range(1,n+1):\n",
    "            if(a[i-1]==b[j-1]):\n",
    "                mat[i][j]=1+mat[i-1][j-1]\n",
    "            else:\n",
    "                mat[i][j]=max(mat[i-1][j],\n",
    "                             mat[i][j-1])\n",
    "    return mat[m][n]\n",
    "\n",
    "ans=(m+n)-LCS(a,b,m,n)\n",
    "print(ans)"
   ]
  },
  {
   "cell_type": "code",
   "execution_count": 46,
   "metadata": {
    "scrolled": true
   },
   "outputs": [
    {
     "name": "stdout",
     "output_type": "stream",
     "text": [
      "Min Insertion:  1\n",
      "Min Delection:  2\n"
     ]
    }
   ],
   "source": [
    "# Minimun number of insertion and delection to convert String a to String b\n",
    "\n",
    "import numpy as np\n",
    "a=\"heap\"\n",
    "b=\"pea\"\n",
    "m=len(a)\n",
    "n=len(b)\n",
    "v=[-1]*(m+1)*(n+1)\n",
    "\n",
    "mat=np.array(v).reshape(m+1,n+1)\n",
    "def LCS(a,b,m,n):\n",
    "    for i in range(m+1):\n",
    "        for j in range(n+1):\n",
    "            if i==0 or j==0:\n",
    "                mat[i][j]=0\n",
    "    \n",
    "    for i in range(1,m+1):\n",
    "        for j in range(1,n+1):\n",
    "            if(a[i-1]==b[j-1]):\n",
    "                mat[i][j]=1+mat[i-1][j-1]\n",
    "            else:\n",
    "                mat[i][j]=max(mat[i-1][j],\n",
    "                             mat[i][j-1])\n",
    "    return mat[m][n]\n",
    "\n",
    "print(\"Min Insertion: \",len(b)-LCS(a,b,m,n))\n",
    "print(\"Min Delection: \",len(a)-LCS(a,b,m,n))"
   ]
  },
  {
   "cell_type": "code",
   "execution_count": 54,
   "metadata": {},
   "outputs": [
    {
     "data": {
      "text/plain": [
       "5"
      ]
     },
     "execution_count": 54,
     "metadata": {},
     "output_type": "execute_result"
    }
   ],
   "source": [
    "# Longest Palindromic SubSequence\n",
    "\n",
    "import numpy as np\n",
    "a='agbcba'\n",
    "\n",
    "def LPS(a):\n",
    "    return LCS(a,a[::-1],len(a),len(a))\n",
    "\n",
    "def LCS(a,b,m,n):\n",
    "    \n",
    "    v=[-1]*(m+1)*(n+1)\n",
    "    mat=np.array(v).reshape(m+1,n+1)\n",
    "    for i in range(m+1):\n",
    "        for j in range(n+1):\n",
    "            if(i==0 or j==0):\n",
    "                mat[i][j]=0\n",
    "                \n",
    "    for i in range(1,m+1):\n",
    "        for j in range(1,n+1):\n",
    "            if(a[i-1]==b[j-1]):\n",
    "                mat[i][j]=1+mat[i-1][j-1]\n",
    "            else:\n",
    "                mat[i][j]=max(mat[i-1][j],\n",
    "                             mat[i][j-1])\n",
    "    return mat[m][n]\n",
    "\n",
    "LPS(a)"
   ]
  },
  {
   "cell_type": "code",
   "execution_count": 57,
   "metadata": {},
   "outputs": [
    {
     "name": "stdout",
     "output_type": "stream",
     "text": [
      "1\n"
     ]
    }
   ],
   "source": [
    "# Minimum no. of delection in a String to make it a palindrome\n",
    "\n",
    "a=\"agbcba\"\n",
    "print(len(a)-LPS(a))\n"
   ]
  },
  {
   "cell_type": "code",
   "execution_count": 60,
   "metadata": {},
   "outputs": [
    {
     "data": {
      "text/plain": [
       "'acbcdaf'"
      ]
     },
     "execution_count": 60,
     "metadata": {},
     "output_type": "execute_result"
    }
   ],
   "source": [
    "# Print SCS (Shortest Common subSequence)\n",
    "import numpy as np\n",
    "\n",
    "a=\"acbcf\"\n",
    "b=\"abcdaf\"\n",
    "m=len(a)\n",
    "n=len(b)\n",
    "\n",
    "v=[-1]*(m+1)*(n+1)\n",
    "mat=np.array(v).reshape(m+1,n+1)\n",
    "\n",
    "def SCS(a,b,m,n):\n",
    "    for i in range(m+1):\n",
    "        for j in range(n+1):\n",
    "            if i==0 or j==0:\n",
    "                mat[i][j]=0\n",
    "                \n",
    "    for i in range(1,m+1):\n",
    "        for j in range(1,n+1):\n",
    "            if(a[i-1]==b[j-1]):\n",
    "                mat[i][j]=1+mat[i-1][j-1]\n",
    "            else:\n",
    "                mat[i][j]=max(mat[i-1][j],\n",
    "                             mat[i][j-1])\n",
    "    \n",
    "    i=m;j=n;ans=\"\"\n",
    "    while i>0 and j>0:\n",
    "        if(a[i-1]==b[j-1]):\n",
    "            ans+=a[i-1]\n",
    "            i-=1\n",
    "            j-=1\n",
    "        else:\n",
    "            if(mat[i-1][j]>mat[i][j-1]):\n",
    "                ans+=a[i-1]\n",
    "                i-=1\n",
    "            elif(mat[i-1][j]<mat[i][j-1]):\n",
    "                ans+=b[j-1]\n",
    "                j-=1\n",
    "    \n",
    "    while i>0:\n",
    "        ans+=a[i-1]\n",
    "        i-=1\n",
    "    \n",
    "    while j>0:\n",
    "        ans+=b[j-1]\n",
    "        j-=1\n",
    "    \n",
    "    return ans[::-1]\n",
    "\n",
    "SCS(a,b,m,n)"
   ]
  },
  {
   "cell_type": "code",
   "execution_count": 64,
   "metadata": {},
   "outputs": [
    {
     "data": {
      "text/plain": [
       "3"
      ]
     },
     "execution_count": 64,
     "metadata": {},
     "output_type": "execute_result"
    }
   ],
   "source": [
    "# Longest Repeated subSequence\n",
    "import numpy as np\n",
    "\n",
    "S=\"AABEBCDD\"\n",
    "a=S\n",
    "b=S\n",
    "m=len(S)\n",
    "v=[-1]*((m+1)**2)\n",
    "\n",
    "def LRS(a,b,m):\n",
    "    mat=np.array(v).reshape(m+1,m+1)\n",
    "    for i in range(m+1):\n",
    "        for j in range(m+1):\n",
    "            if(i==0 or j==0):\n",
    "                mat[i][j]=0\n",
    "    \n",
    "    for i in range(1,m+1):\n",
    "        for j in range(1,m+1):\n",
    "            if(a[i-1]==b[j-1] and i!=j):\n",
    "                mat[i][j]=1+mat[i-1][j-1]\n",
    "            else:\n",
    "                mat[i][j]=max(mat[i-1][j],\n",
    "                             mat[i][j-1])\n",
    "    \n",
    "    return mat[m][m]\n",
    "\n",
    "LRS(a,b,m)"
   ]
  },
  {
   "cell_type": "code",
   "execution_count": 71,
   "metadata": {},
   "outputs": [
    {
     "data": {
      "text/plain": [
       "True"
      ]
     },
     "execution_count": 71,
     "metadata": {},
     "output_type": "execute_result"
    }
   ],
   "source": [
    "# Sequence Pattern Matching\n",
    "import numpy as np\n",
    "\n",
    "a=\"AXY\"\n",
    "b=\"ADXCPY\"\n",
    "\n",
    "m=len(a)\n",
    "n=len(b)\n",
    "v=[-1]*(m+1)*(n+1)\n",
    "\n",
    "def SPM(a,b,m,n):\n",
    "    mat=np.array(v).reshape(m+1,n+1)\n",
    "    for i in range(m+1):\n",
    "        for j in range(n+1):\n",
    "            if i==0 or j==0:\n",
    "                mat[i][j]=0\n",
    "                \n",
    "    for i in range(1,m+1):\n",
    "        for j in range(1,n+1):\n",
    "            if(a[i-1]==b[j-1]):\n",
    "                mat[i][j]=1+mat[i-1][j-1]\n",
    "            else:\n",
    "                mat[i][j]=max(mat[i-1][j],\n",
    "                             mat[i][j-1])\n",
    "    if m==mat[m][n]:\n",
    "        return True\n",
    "    else:\n",
    "        return False\n",
    "    \n",
    "SPM(a,b,m,n)"
   ]
  },
  {
   "cell_type": "code",
   "execution_count": 2,
   "metadata": {},
   "outputs": [
    {
     "data": {
      "text/plain": [
       "1"
      ]
     },
     "execution_count": 2,
     "metadata": {},
     "output_type": "execute_result"
    }
   ],
   "source": [
    "# Minimum no. of insertion in a String to make it a palindrome\n",
    "import numpy as np\n",
    "\n",
    "a=\"agbcba\"\n",
    "n=len(a)\n",
    "b=a[::-1]\n",
    "def min_insertion_to_make_pal(a,b,n):\n",
    "    v=[-1]*((n+1)**2)\n",
    "    mat=np.array(v).reshape(n+1,n+1)\n",
    "    for i in range(n+1):\n",
    "        for j in range(n+1):\n",
    "            if i==0 or j==0:\n",
    "                mat[i][j]=0\n",
    "                \n",
    "    for i in range(1,n+1):\n",
    "        for j in range(1,n+1):\n",
    "            if(a[i-1]==b[j-1]):\n",
    "                mat[i][j]=1+mat[i-1][j-1]\n",
    "            else:\n",
    "                mat[i][j]=max(mat[i][j-1],\n",
    "                             mat[i-1][j])\n",
    "    return n-mat[n][n]\n",
    "\n",
    "min_insertion_to_make_pal(a,b,n)"
   ]
  },
  {
   "cell_type": "markdown",
   "metadata": {},
   "source": [
    "# Matrix Chain Multiplication"
   ]
  },
  {
   "cell_type": "code",
   "execution_count": 43,
   "metadata": {},
   "outputs": [
    {
     "data": {
      "text/plain": [
       "26000"
      ]
     },
     "execution_count": 43,
     "metadata": {},
     "output_type": "execute_result"
    }
   ],
   "source": [
    "# Matrix Chain Multiplication (MCM)\n",
    "# Recursive code\n",
    "\n",
    "import sys\n",
    "arr=[40,20,30,10,30]\n",
    "\n",
    "def MCM(arr,i,j):\n",
    "    if(i>=j):\n",
    "        return 0\n",
    "    mini=sys.maxsize\n",
    "    for k in range(i,j):\n",
    "        part=(MCM(arr,i,k)+MCM(arr,k+1,j))+(arr[i-1]*arr[k]*arr[j])\n",
    "        if(part<mini):\n",
    "            mini=part\n",
    "        \n",
    "    return mini\n",
    "\n",
    "MCM(arr,1,len(arr)-1)\n",
    "        "
   ]
  },
  {
   "cell_type": "code",
   "execution_count": 25,
   "metadata": {},
   "outputs": [
    {
     "data": {
      "text/plain": [
       "26000"
      ]
     },
     "execution_count": 25,
     "metadata": {},
     "output_type": "execute_result"
    }
   ],
   "source": [
    "# Matrix Chain Multiplication (Bottom up approach) (DP)\n",
    "\n",
    "import numpy as np\n",
    "import sys\n",
    "arr=[40,20,30,10,30]\n",
    "n=len(arr)\n",
    "v=[-1]*((n+1)**2)\n",
    "\n",
    "mat=np.array(v).reshape(n+1,n+1)\n",
    "\n",
    "def MCM_DP(arr,i,j):\n",
    "    if(i>=j):\n",
    "        return 0\n",
    "    if(mat[i][j]!=-1):\n",
    "        return mat[i][j]\n",
    "    mini=sys.maxsize\n",
    "    for k in range(i,j):\n",
    "        temp=MCM_DP(arr,i,k)+MCM_DP(arr,k+1,j)+(arr[i-1]*arr[j]*arr[k])\n",
    "        \n",
    "        if(temp<mini):\n",
    "            mini=temp\n",
    "    mat[i][j]=mini\n",
    "    return mat[i][j]\n",
    "\n",
    "MCM_DP(arr,1,len(arr)-1)\n",
    "    "
   ]
  },
  {
   "cell_type": "code",
   "execution_count": 23,
   "metadata": {},
   "outputs": [
    {
     "data": {
      "text/plain": [
       "1"
      ]
     },
     "execution_count": 23,
     "metadata": {},
     "output_type": "execute_result"
    }
   ],
   "source": [
    "# Palindrome Partation (minimum)\n",
    "# Recursive \n",
    "\n",
    "import sys\n",
    "\n",
    "s=\"anitin\"\n",
    "def ispal(s,i,j):\n",
    "    s1=s[i:j]\n",
    "    if(s1==s1[::-1]):\n",
    "        return True\n",
    "    else:\n",
    "        return False\n",
    "\n",
    "def PP(arr,i,j):\n",
    "    if(i>=j):\n",
    "        return 0\n",
    "    if ispal(arr,i,j+1)==True:\n",
    "        return 0\n",
    "    \n",
    "    mini=sys.maxsize\n",
    "    for k in range(i,j):\n",
    "        part=1+PP(arr,i,k)+PP(arr,k+1,j)\n",
    "        if(part<mini):\n",
    "            mini=part\n",
    "    \n",
    "    return mini\n",
    "\n",
    "PP(s,0,len(s)-1)\n"
   ]
  },
  {
   "cell_type": "code",
   "execution_count": 7,
   "metadata": {},
   "outputs": [
    {
     "data": {
      "text/plain": [
       "2"
      ]
     },
     "execution_count": 7,
     "metadata": {},
     "output_type": "execute_result"
    }
   ],
   "source": [
    "# Palindrome Partation (Bottom up approach) (DP)\n",
    "\n",
    "import numpy as np\n",
    "import sys\n",
    "\n",
    "s=\"nitik\"\n",
    "n=len(s)\n",
    "v=[-1]*(n+1)*(n+1)\n",
    "\n",
    "mat=np.array(v).reshape(n+1,n+1)\n",
    "\n",
    "def isPal(s,i,j):\n",
    "    s1=s[i:j]\n",
    "    if(s1==s1[::-1]):\n",
    "        return True\n",
    "    else:\n",
    "        return False\n",
    "    \n",
    "def PP_DP(arr,i,j):\n",
    "    if(i>=j):\n",
    "        return 0\n",
    "    if(isPal(arr,i,j+1)):\n",
    "        return 0\n",
    "    if(mat[i][j]!=-1):\n",
    "        return mat[i][j]\n",
    "    mini=sys.maxsize\n",
    "    for k in range(i,j):\n",
    "        part=1+PP_DP(arr,i,k)+PP_DP(arr,k+1,j)\n",
    "        if(part<mini):\n",
    "            mini=part\n",
    "\n",
    "    mat[i][j]=mini\n",
    "    return mat[i][j]\n",
    "\n",
    "PP_DP(s,0,len(s)-1)"
   ]
  },
  {
   "cell_type": "code",
   "execution_count": 69,
   "metadata": {},
   "outputs": [
    {
     "name": "stdout",
     "output_type": "stream",
     "text": [
      "1\n",
      "1\n",
      "1\n",
      "0\n"
     ]
    },
    {
     "data": {
      "text/plain": [
       "0"
      ]
     },
     "execution_count": 69,
     "metadata": {},
     "output_type": "execute_result"
    }
   ],
   "source": [
    "# Evaluate Expression to True Boolean Parenthesization Recursive\n",
    "\n",
    "s=\"T|T&F^T\"\n",
    "\n",
    "def solve(s,i,j,isTrue):\n",
    "    if(i>j):\n",
    "        return 0\n",
    "    if(i==j):\n",
    "        if(isTrue==1):\n",
    "#             print(k)\n",
    "            return 1 if s[i]==\"T\" else 0\n",
    "        else:\n",
    "            return 1 if s[i]==\"F\" else 0\n",
    "    \n",
    "    ans=0\n",
    "    for k in range(i+1,j-1,2):\n",
    "        lt=solve(s,i,k-1,1)\n",
    "        print(lt)\n",
    "        lf=solve(s,i,k-1,0)\n",
    "#         print(lf)\n",
    "        rt=solve(s,k+1,j,1)\n",
    "#         print(rt)\n",
    "        rf=solve(s,k+1,j,0)\n",
    "#         print(rf)\n",
    "        \n",
    "        if(s[k]==\"&\"):\n",
    "            if(isTrue==1):\n",
    "                ans+ans+(lt*rt)\n",
    "            else:\n",
    "                ans=ans+(lt*rf)+(lf*rf)+(lf*rf)\n",
    "            \n",
    "#             print(ans)\n",
    "        \n",
    "        elif(s[k]==\"|\"):\n",
    "            if(isTrue==1):\n",
    "                ans=ans+(lt*rt)+(lf*rt)+(lt*rf)\n",
    "            else:\n",
    "                ans=ans+(lf*rf)\n",
    "                \n",
    "#             print(ans)\n",
    "        \n",
    "        elif(s[k]==\"^\"):\n",
    "            if(isTrue==1):\n",
    "#                 print(s[k])\n",
    "                ans=ans+(lt*rf)+(lf*rt)\n",
    "            else:\n",
    "                ans=ans+(lt*rt)+(lf*rf)\n",
    "            \n",
    "#             print(ans)\n",
    "    \n",
    "    return ans\n",
    "\n",
    "solve(s,0,len(s)-1,1)\n",
    "\n",
    "# NOT COMPELTE"
   ]
  },
  {
   "cell_type": "code",
   "execution_count": 35,
   "metadata": {},
   "outputs": [
    {
     "name": "stdout",
     "output_type": "stream",
     "text": [
      "a\n",
      "b\n",
      "b\n",
      "a\n",
      "++++++++++++++++++++++\n"
     ]
    },
    {
     "data": {
      "text/plain": [
       "False"
      ]
     },
     "execution_count": 35,
     "metadata": {},
     "output_type": "execute_result"
    }
   ],
   "source": [
    "# Scramble String Recursive \n",
    "\n",
    "def Scramble(a,b):\n",
    "    if(a==b):\n",
    "        return True\n",
    "    if(len(a)<=1):\n",
    "        return False\n",
    "    n=len(a)\n",
    "    flag=False\n",
    "    cond1=False\n",
    "    cond2=False\n",
    "    for i in range(1,n-1):\n",
    "#         print(a[0:i])\n",
    "#         print(b[n-i:i])\n",
    "#         print(a[i:n-i])\n",
    "#         print(b[0:n-i])\n",
    "#         print(\"+++++++++++++++++++++\")\n",
    "        \n",
    "        print(a[0:i])\n",
    "        print(b[0:i])\n",
    "        print(a[i:n-i])\n",
    "        print(b[i:n-i])\n",
    "        print(\"++++++++++++++++++++++\")\n",
    "        if((Scramble(a[0:i],b[n-i:i]))==True) and ((Scramble(a[i:n-i],b[0:n-i]))==True):\n",
    "            cond1=True\n",
    "            print(cond1)\n",
    "        if((Scramble(a[0:i],b[0:i]))==True) and ((Scramble(a[i:n-i],b[i:n-i]))==True):\n",
    "            cond2=True\n",
    "            print(cond2)\n",
    "        if(cond1 or cond2):\n",
    "            flag=True\n",
    "            break\n",
    "    return flag\n",
    "           \n",
    "\n",
    "a=\"abc\"\n",
    "b=\"bac\"\n",
    "if(len(a)!=len(b)):\n",
    "    print(False)\n",
    "if(len(a)==0 and len(b)==0):\n",
    "    print(True)\n",
    "Scramble(a,b)\n",
    "\n",
    "# NOT COMPLETE"
   ]
  },
  {
   "cell_type": "code",
   "execution_count": null,
   "metadata": {},
   "outputs": [],
   "source": []
  },
  {
   "cell_type": "code",
   "execution_count": null,
   "metadata": {},
   "outputs": [],
   "source": []
  },
  {
   "cell_type": "code",
   "execution_count": null,
   "metadata": {},
   "outputs": [],
   "source": []
  },
  {
   "cell_type": "code",
   "execution_count": null,
   "metadata": {},
   "outputs": [],
   "source": []
  },
  {
   "cell_type": "code",
   "execution_count": null,
   "metadata": {},
   "outputs": [],
   "source": []
  },
  {
   "cell_type": "code",
   "execution_count": null,
   "metadata": {},
   "outputs": [],
   "source": []
  },
  {
   "cell_type": "code",
   "execution_count": null,
   "metadata": {},
   "outputs": [],
   "source": []
  },
  {
   "cell_type": "code",
   "execution_count": null,
   "metadata": {},
   "outputs": [],
   "source": []
  },
  {
   "cell_type": "code",
   "execution_count": null,
   "metadata": {},
   "outputs": [],
   "source": []
  },
  {
   "cell_type": "code",
   "execution_count": null,
   "metadata": {},
   "outputs": [],
   "source": []
  },
  {
   "cell_type": "code",
   "execution_count": null,
   "metadata": {},
   "outputs": [],
   "source": []
  },
  {
   "cell_type": "code",
   "execution_count": null,
   "metadata": {},
   "outputs": [],
   "source": []
  },
  {
   "cell_type": "code",
   "execution_count": null,
   "metadata": {},
   "outputs": [],
   "source": []
  },
  {
   "cell_type": "code",
   "execution_count": null,
   "metadata": {},
   "outputs": [],
   "source": []
  },
  {
   "cell_type": "code",
   "execution_count": null,
   "metadata": {},
   "outputs": [],
   "source": []
  },
  {
   "cell_type": "code",
   "execution_count": null,
   "metadata": {},
   "outputs": [],
   "source": []
  }
 ],
 "metadata": {
  "kernelspec": {
   "display_name": "Python 3 (ipykernel)",
   "language": "python",
   "name": "python3"
  },
  "language_info": {
   "codemirror_mode": {
    "name": "ipython",
    "version": 3
   },
   "file_extension": ".py",
   "mimetype": "text/x-python",
   "name": "python",
   "nbconvert_exporter": "python",
   "pygments_lexer": "ipython3",
   "version": "3.8.10"
  }
 },
 "nbformat": 4,
 "nbformat_minor": 4
}
