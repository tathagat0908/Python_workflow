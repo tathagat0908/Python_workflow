{
 "cells": [
  {
   "cell_type": "code",
   "execution_count": 4,
   "metadata": {},
   "outputs": [
    {
     "data": {
      "text/plain": [
       "9"
      ]
     },
     "execution_count": 4,
     "metadata": {},
     "output_type": "execute_result"
    }
   ],
   "source": [
    "# Binary Search in accending array \n",
    "arr=[1,2,3,4,5,6,7,8,9,10,11]\n",
    "start=0\n",
    "end=len(arr)-1\n",
    "x=10\n",
    "def bin_search(arr,start,end,x):\n",
    "    while(start<=end):\n",
    "        mid=(start+end)//2\n",
    "        if arr[mid]==x:\n",
    "            return mid \n",
    "        elif arr[mid]<x:\n",
    "            start=mid+1\n",
    "        else:\n",
    "            end=mid-1\n",
    "    return -1\n",
    "\n",
    "bin_search(arr,start,end,x)"
   ]
  },
  {
   "cell_type": "code",
   "execution_count": 7,
   "metadata": {},
   "outputs": [
    {
     "data": {
      "text/plain": [
       "0"
      ]
     },
     "execution_count": 7,
     "metadata": {},
     "output_type": "execute_result"
    }
   ],
   "source": [
    "# Binary Search in decending array\n",
    "arr=[20,17,16,12,10,7,5,2,1]\n",
    "start=0\n",
    "end=len(arr)-1\n",
    "x=40\n",
    "def bin_search(arr,start,end,x):\n",
    "    while(start<=end):\n",
    "        mid=start+(end-start)//2\n",
    "        if arr[mid]==x:\n",
    "            return mid\n",
    "        elif arr[mid]>x:\n",
    "            start=mid+1\n",
    "        else:\n",
    "            end=mid-1\n",
    "\n",
    "    return -1\n",
    "\n",
    "bin_search(arr,start,end,x)"
   ]
  },
  {
   "cell_type": "code",
   "execution_count": 5,
   "metadata": {},
   "outputs": [
    {
     "name": "stdout",
     "output_type": "stream",
     "text": [
      "1 2 3 4 10 10 10 10 10 12 13 14 15\n",
      "10\n",
      "4 8\n"
     ]
    }
   ],
   "source": [
    "# how to find 1st and last occurence of element\n",
    "\n",
    "arr=list(map(int,input().split()))\n",
    "n=len(arr)\n",
    "x=int(input())\n",
    "res1=-1;res2=-1\n",
    "\n",
    "def search_first(arr,n,x):\n",
    "    start=0\n",
    "    end=n-1\n",
    "    \n",
    "    while start<=end:\n",
    "        mid=start+(end-start)//2\n",
    "        if arr[mid]==x:\n",
    "            res1=mid\n",
    "            end=mid-1\n",
    "        elif arr[mid]<x:\n",
    "            start=mid+1\n",
    "        else:\n",
    "            end=mid-1\n",
    "    return res1\n",
    "\n",
    "def search_last(arr,n,x):\n",
    "    start=0\n",
    "    end=n-1\n",
    "    \n",
    "    while start<=end:\n",
    "        mid=start+(end-start)//2\n",
    "        if arr[mid]==x:\n",
    "            res2=mid\n",
    "            start=mid+1\n",
    "        elif arr[mid]<x:\n",
    "            start=mid+1\n",
    "        else:\n",
    "            end=mid-1\n",
    "    return res2\n",
    "\n",
    "print(search_first(arr,n,x),search_last(arr,n,x))"
   ]
  },
  {
   "cell_type": "code",
   "execution_count": 7,
   "metadata": {},
   "outputs": [
    {
     "name": "stdout",
     "output_type": "stream",
     "text": [
      "1 2 3 4 5 6 6 6 6 6 6 6 6 7\n",
      "6\n",
      "8\n"
     ]
    }
   ],
   "source": [
    "# Count of an Element in a Sorted Array\n",
    "\n",
    "arr=list(map(int,input().split()))\n",
    "n=len(arr)\n",
    "x=int(input())\n",
    "res1=-1;res2=-1\n",
    "\n",
    "def search_first(arr,n,x):\n",
    "    start=0\n",
    "    end=n-1\n",
    "    \n",
    "    while start<=end:\n",
    "        mid=start+(end-start)//2\n",
    "        if arr[mid]==x:\n",
    "            res1=mid\n",
    "            end=mid-1\n",
    "        elif arr[mid]<x:\n",
    "            start=mid+1\n",
    "        else:\n",
    "            end=mid-1\n",
    "    return res1\n",
    "\n",
    "def search_last(arr,n,x):\n",
    "    start=0\n",
    "    end=n-1\n",
    "    \n",
    "    while start<=end:\n",
    "        mid=start+(end-start)//2\n",
    "        if arr[mid]==x:\n",
    "            res2=mid\n",
    "            start=mid+1\n",
    "        elif arr[mid]<x:\n",
    "            start=mid+1\n",
    "        else:\n",
    "            end=mid-1\n",
    "    return res2\n",
    "\n",
    "print(search_last(arr,n,x)-search_first(arr,n,x)+1)"
   ]
  },
  {
   "cell_type": "code",
   "execution_count": 16,
   "metadata": {},
   "outputs": [
    {
     "name": "stdout",
     "output_type": "stream",
     "text": [
      "11 12 15 18 2 5 6 8\n",
      "4\n"
     ]
    }
   ],
   "source": [
    "# Number of times a sorted array is rotated\n",
    "\n",
    "arr=list(map(int,input().split()))\n",
    "n=len(arr)\n",
    "\n",
    "def rotation_count(arr,n):\n",
    "    start=0\n",
    "    end=n-1\n",
    "    while(start<=end):\n",
    "        mid=start+(end-start)//2\n",
    "        next=(mid+1)%n\n",
    "        prev=(mid+n-1)%n\n",
    "\n",
    "        if arr[mid]<=arr[prev] and arr[mid]<=arr[next]:\n",
    "            return mid\n",
    "        \n",
    "        if arr[mid]>=arr[start]:\n",
    "            start=mid\n",
    "        else:\n",
    "            end=mid\n",
    "    return -1\n",
    "\n",
    "print(rotation_count(arr,n))"
   ]
  },
  {
   "cell_type": "code",
   "execution_count": 22,
   "metadata": {},
   "outputs": [
    {
     "name": "stdout",
     "output_type": "stream",
     "text": [
      "11 12 15 18 2 5 6 8\n",
      "8\n",
      "7\n"
     ]
    }
   ],
   "source": [
    "# find index of an element in rotated sorted array\n",
    "\n",
    "arr=list(map(int,input().split()))\n",
    "n=len(arr)\n",
    "target=int(input())\n",
    "\n",
    "def min_ele_index(arr,n):\n",
    "    start=0\n",
    "    end=n-1\n",
    "    while(start<=end):\n",
    "        mid=start+(end-start)//2\n",
    "        next=(mid+1)%n\n",
    "        prev=(mid+n-1)%n\n",
    "\n",
    "        if arr[mid]<=arr[prev] and arr[mid]<=arr[next]:\n",
    "            return mid\n",
    "        \n",
    "        if arr[mid]>=arr[start]:\n",
    "            start=mid\n",
    "        else:\n",
    "            end=mid\n",
    "    return -1\n",
    "\n",
    "x=min_ele_index(arr,n)\n",
    "\n",
    "\n",
    "def bin_search1(arr,target,x):\n",
    "    start=x\n",
    "    end=n-1\n",
    "    while(start<=end):\n",
    "        mid=(start+end)//2\n",
    "        if arr[mid]==target:\n",
    "            return mid \n",
    "        elif arr[mid]<target:\n",
    "            start=mid+1\n",
    "        else:\n",
    "            end=mid-1\n",
    "    return -1\n",
    "\n",
    "def bin_search2(arr,target,x):\n",
    "    end=x-1\n",
    "    start=0\n",
    "    while(start<=end):\n",
    "        mid=(start+end)//2\n",
    "        if arr[mid]==target:\n",
    "            return mid \n",
    "        elif arr[mid]<target:\n",
    "            start=mid+1\n",
    "        else:\n",
    "            end=mid-1\n",
    "    return -1\n",
    "\n",
    "if bin_search1(arr,target,x)<bin_search2(arr,target,x):\n",
    "    print(bin_search2(arr,target,x))\n",
    "else:\n",
    "    print(bin_search1(arr,target,x))"
   ]
  },
  {
   "cell_type": "code",
   "execution_count": 7,
   "metadata": {},
   "outputs": [
    {
     "name": "stdout",
     "output_type": "stream",
     "text": [
      "5 10 30 20 40\n",
      "10\n"
     ]
    },
    {
     "data": {
      "text/plain": [
       "1"
      ]
     },
     "execution_count": 7,
     "metadata": {},
     "output_type": "execute_result"
    }
   ],
   "source": [
    "# To find the element in nearly sorted array \n",
    "\n",
    "arr=list(map(int,input().split()))\n",
    "n=len(arr)\n",
    "x=int(input())\n",
    "\n",
    "def search_near(arr,n,x):\n",
    "    start=0\n",
    "    end=n-1\n",
    "    while start<=end:\n",
    "        mid = start+(end-start)//2\n",
    "        \n",
    "        if arr[mid]==x:\n",
    "            return mid\n",
    "        elif mid+1<=end and arr[mid+1]==x:\n",
    "            return mid+1\n",
    "        elif mid-1>=start and arr[mid-1]==x:\n",
    "            return mid-1\n",
    "        elif arr[mid]>x:\n",
    "            end=mid-2\n",
    "        else:\n",
    "            start=mid+2\n",
    "    return -1\n",
    "bin_search(arr,n,x)"
   ]
  },
  {
   "cell_type": "code",
   "execution_count": 1,
   "metadata": {},
   "outputs": [
    {
     "name": "stdout",
     "output_type": "stream",
     "text": [
      "1 2 3 4 6 8 10 10 12\n",
      "9\n"
     ]
    },
    {
     "data": {
      "text/plain": [
       "8"
      ]
     },
     "execution_count": 1,
     "metadata": {},
     "output_type": "execute_result"
    }
   ],
   "source": [
    "# To find floor of number in sorted array\n",
    "\n",
    "arr=list(map(int,input().split()))\n",
    "x=int(input())\n",
    "n=len(arr)\n",
    "\n",
    "def floor_search(arr,n,x):\n",
    "    start=0\n",
    "    end=n-1\n",
    "    res=-1\n",
    "    while(start<=end):\n",
    "        mid=start+(end-start)//2\n",
    "        if arr[mid]==x:\n",
    "            return arr[mid]\n",
    "        elif arr[mid]<x:\n",
    "            res=arr[mid]\n",
    "            start=mid+1\n",
    "        else:\n",
    "            end=mid-1\n",
    "    return res\n",
    "\n",
    "floor_search(arr,n,x)"
   ]
  },
  {
   "cell_type": "code",
   "execution_count": 8,
   "metadata": {},
   "outputs": [
    {
     "name": "stdout",
     "output_type": "stream",
     "text": [
      "1 2 3 4 6 8 10 10 12\n",
      "9\n"
     ]
    },
    {
     "data": {
      "text/plain": [
       "10"
      ]
     },
     "execution_count": 8,
     "metadata": {},
     "output_type": "execute_result"
    }
   ],
   "source": [
    "# To find ceil of number in sorted array\n",
    "\n",
    "arr=list(map(int,input().split()))\n",
    "x=int(input())\n",
    "n=len(arr)\n",
    "\n",
    "def ceil_search(arr,n,x):\n",
    "    start=0\n",
    "    end=n-1\n",
    "    res=-1\n",
    "    while start<=end:\n",
    "        mid=start+(end-start)//2\n",
    "        if arr[mid]==x:\n",
    "            return arr[mid]\n",
    "        elif arr[mid]<x:\n",
    "            \n",
    "            start=mid+1\n",
    "        else:\n",
    "            res=arr[mid]\n",
    "            end=mid-1\n",
    "    return res\n",
    "ceil_search(arr,n,x)"
   ]
  },
  {
   "cell_type": "code",
   "execution_count": 10,
   "metadata": {},
   "outputs": [
    {
     "name": "stdout",
     "output_type": "stream",
     "text": [
      "abdflmxy\n",
      "t\n"
     ]
    },
    {
     "data": {
      "text/plain": [
       "'x'"
      ]
     },
     "execution_count": 10,
     "metadata": {},
     "output_type": "execute_result"
    }
   ],
   "source": [
    "# To find next char in string \n",
    "\n",
    "arr=input()\n",
    "n=len(arr)\n",
    "x=input()\n",
    "\n",
    "def next_char(arr,n,x):\n",
    "    start=0\n",
    "    end=n-1\n",
    "    res=\"$\"\n",
    "    while start<=end:\n",
    "        mid =start+(end-start)//2\n",
    "        if arr[mid]==x:\n",
    "            start=mid+1\n",
    "        elif arr[mid]<x:\n",
    "            start=mid+1\n",
    "        else:\n",
    "            res=arr[mid]\n",
    "            end=mid-1\n",
    "    return res\n",
    "next_char(arr,n,x)"
   ]
  },
  {
   "cell_type": "code",
   "execution_count": 12,
   "metadata": {},
   "outputs": [
    {
     "data": {
      "text/plain": [
       "8"
      ]
     },
     "execution_count": 12,
     "metadata": {},
     "output_type": "execute_result"
    }
   ],
   "source": [
    "# To find position of an element in an infinity sorted array\n",
    "\n",
    "arr=[1,2,3,4,5,6,7,8,9,10]\n",
    "x=9\n",
    "start=0\n",
    "end=1\n",
    "while x>arr[end]:\n",
    "    start=end\n",
    "    end*=2\n",
    "\n",
    "def bin_search(arr,start,end):\n",
    "    while start<=end:\n",
    "        mid=start+(end-start)//2\n",
    "        if arr[mid]==x:\n",
    "            return mid\n",
    "        elif arr[mid]>x:\n",
    "            end=mid-1\n",
    "        else:\n",
    "            start=mid+1\n",
    "    return -1\n",
    "\n",
    "bin_search(arr,start,end)"
   ]
  },
  {
   "cell_type": "code",
   "execution_count": 2,
   "metadata": {},
   "outputs": [
    {
     "data": {
      "text/plain": [
       "7"
      ]
     },
     "execution_count": 2,
     "metadata": {},
     "output_type": "execute_result"
    }
   ],
   "source": [
    "# To find of first 1 in an binary sorted infinity array\n",
    "\n",
    "arr=[0,0,0,0,0,0,0,1,1,1,1,1,1,1,1,1,1,1,1,1,1,1,1,1]\n",
    "start=0\n",
    "end=1\n",
    "while arr[end]!=1:\n",
    "    start=end\n",
    "    end=(end*2)\n",
    "\n",
    "def first_occur(arr,start,end):\n",
    "    res=-1\n",
    "    \n",
    "    while start<=end:\n",
    "        mid=start+(end-start)//2\n",
    "        if arr[mid]==1:\n",
    "            res=mid\n",
    "            end=mid-1\n",
    "        elif arr[mid]<1:\n",
    "            start=mid+1\n",
    "        else:\n",
    "            end=mid-1\n",
    "    return res\n",
    "\n",
    "first_occur(arr,start,end)"
   ]
  },
  {
   "cell_type": "code",
   "execution_count": 29,
   "metadata": {},
   "outputs": [
    {
     "name": "stdout",
     "output_type": "stream",
     "text": [
      "2 1\n",
      "1\n"
     ]
    }
   ],
   "source": [
    "# Minimum Difference Element in a Sorted Array\n",
    "\n",
    "arr=[4,6,10]\n",
    "x=9\n",
    "\n",
    "def bin_search(arr,x):\n",
    "    start=0\n",
    "    end=len(arr)-1\n",
    "    while start<=end:\n",
    "        mid=(end+start)//2\n",
    "        if arr[mid]==x:\n",
    "            return arr[mid]\n",
    "        elif arr[mid]<x:\n",
    "            start=mid+1\n",
    "        else:\n",
    "            end=mid-1\n",
    "    print(start,end)\n",
    "    return min(abs(arr[start]-x),abs(arr[end]-x))\n",
    "\n",
    "print(bin_search(arr,x))"
   ]
  },
  {
   "cell_type": "code",
   "execution_count": null,
   "metadata": {},
   "outputs": [],
   "source": []
  },
  {
   "cell_type": "code",
   "execution_count": null,
   "metadata": {},
   "outputs": [],
   "source": []
  },
  {
   "cell_type": "code",
   "execution_count": null,
   "metadata": {},
   "outputs": [],
   "source": []
  },
  {
   "cell_type": "code",
   "execution_count": null,
   "metadata": {},
   "outputs": [],
   "source": []
  },
  {
   "cell_type": "code",
   "execution_count": null,
   "metadata": {},
   "outputs": [],
   "source": []
  },
  {
   "cell_type": "code",
   "execution_count": null,
   "metadata": {},
   "outputs": [],
   "source": []
  },
  {
   "cell_type": "code",
   "execution_count": null,
   "metadata": {},
   "outputs": [],
   "source": []
  }
 ],
 "metadata": {
  "kernelspec": {
   "display_name": "Python 3",
   "language": "python",
   "name": "python3"
  },
  "language_info": {
   "codemirror_mode": {
    "name": "ipython",
    "version": 3
   },
   "file_extension": ".py",
   "mimetype": "text/x-python",
   "name": "python",
   "nbconvert_exporter": "python",
   "pygments_lexer": "ipython3",
   "version": "3.8.10"
  }
 },
 "nbformat": 4,
 "nbformat_minor": 4
}
