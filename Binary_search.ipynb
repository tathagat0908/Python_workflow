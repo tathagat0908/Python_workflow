{
 "cells": [
  {
   "cell_type": "code",
   "execution_count": 4,
   "metadata": {},
   "outputs": [
    {
     "data": {
      "text/plain": [
       "9"
      ]
     },
     "execution_count": 4,
     "metadata": {},
     "output_type": "execute_result"
    }
   ],
   "source": [
    "# Binary Search in accending array \n",
    "arr=[1,2,3,4,5,6,7,8,9,10,11]\n",
    "start=0\n",
    "end=len(arr)-1\n",
    "x=10\n",
    "def bin_search(arr,start,end,x):\n",
    "    while(start<=end):\n",
    "        mid=(start+end)//2\n",
    "        if arr[mid]==x:\n",
    "            return mid \n",
    "        elif arr[mid]<x:\n",
    "            start=mid+1\n",
    "        else:\n",
    "            end=mid-1\n",
    "    return -1\n",
    "\n",
    "bin_search(arr,start,end,x)"
   ]
  },
  {
   "cell_type": "code",
   "execution_count": 7,
   "metadata": {},
   "outputs": [
    {
     "data": {
      "text/plain": [
       "0"
      ]
     },
     "execution_count": 7,
     "metadata": {},
     "output_type": "execute_result"
    }
   ],
   "source": [
    "# Binary Search in decending array\n",
    "arr=[20,17,16,12,10,7,5,2,1]\n",
    "start=0\n",
    "end=len(arr)-1\n",
    "x=40\n",
    "def bin_search(arr,start,end,x):\n",
    "    while(start<=end):\n",
    "        mid=start+(end-start)//2\n",
    "        if arr[mid]==x:\n",
    "            return mid\n",
    "        elif arr[mid]>x:\n",
    "            start=mid+1\n",
    "        else:\n",
    "            end=mid-1\n",
    "\n",
    "    return -1\n",
    "\n",
    "bin_search(arr,start,end,x)"
   ]
  },
  {
   "cell_type": "code",
   "execution_count": 5,
   "metadata": {},
   "outputs": [
    {
     "name": "stdout",
     "output_type": "stream",
     "text": [
      "1 2 3 4 10 10 10 10 10 12 13 14 15\n",
      "10\n",
      "4 8\n"
     ]
    }
   ],
   "source": [
    "# how to find 1st and last occurence of element\n",
    "\n",
    "arr=list(map(int,input().split()))\n",
    "n=len(arr)\n",
    "x=int(input())\n",
    "res1=-1;res2=-1\n",
    "\n",
    "def search_first(arr,n,x):\n",
    "    start=0\n",
    "    end=n-1\n",
    "    \n",
    "    while start<=end:\n",
    "        mid=start+(end-start)//2\n",
    "        if arr[mid]==x:\n",
    "            res1=mid\n",
    "            end=mid-1\n",
    "        elif arr[mid]<x:\n",
    "            start=mid+1\n",
    "        else:\n",
    "            end=mid-1\n",
    "    return res1\n",
    "\n",
    "def search_last(arr,n,x):\n",
    "    start=0\n",
    "    end=n-1\n",
    "    \n",
    "    while start<=end:\n",
    "        mid=start+(end-start)//2\n",
    "        if arr[mid]==x:\n",
    "            res2=mid\n",
    "            start=mid+1\n",
    "        elif arr[mid]<x:\n",
    "            start=mid+1\n",
    "        else:\n",
    "            end=mid-1\n",
    "    return res2\n",
    "\n",
    "print(search_first(arr,n,x),search_last(arr,n,x))"
   ]
  },
  {
   "cell_type": "code",
   "execution_count": 7,
   "metadata": {},
   "outputs": [
    {
     "name": "stdout",
     "output_type": "stream",
     "text": [
      "1 2 3 4 5 6 6 6 6 6 6 6 6 7\n",
      "6\n",
      "8\n"
     ]
    }
   ],
   "source": [
    "# Count of an Element in a Sorted Array\n",
    "\n",
    "arr=list(map(int,input().split()))\n",
    "n=len(arr)\n",
    "x=int(input())\n",
    "res1=-1;res2=-1\n",
    "\n",
    "def search_first(arr,n,x):\n",
    "    start=0\n",
    "    end=n-1\n",
    "    \n",
    "    while start<=end:\n",
    "        mid=start+(end-start)//2\n",
    "        if arr[mid]==x:\n",
    "            res1=mid\n",
    "            end=mid-1\n",
    "        elif arr[mid]<x:\n",
    "            start=mid+1\n",
    "        else:\n",
    "            end=mid-1\n",
    "    return res1\n",
    "\n",
    "def search_last(arr,n,x):\n",
    "    start=0\n",
    "    end=n-1\n",
    "    \n",
    "    while start<=end:\n",
    "        mid=start+(end-start)//2\n",
    "        if arr[mid]==x:\n",
    "            res2=mid\n",
    "            start=mid+1\n",
    "        elif arr[mid]<x:\n",
    "            start=mid+1\n",
    "        else:\n",
    "            end=mid-1\n",
    "    return res2\n",
    "\n",
    "print(search_last(arr,n,x)-search_first(arr,n,x)+1)"
   ]
  },
  {
   "cell_type": "code",
   "execution_count": 16,
   "metadata": {},
   "outputs": [
    {
     "name": "stdout",
     "output_type": "stream",
     "text": [
      "11 12 15 18 2 5 6 8\n",
      "4\n"
     ]
    }
   ],
   "source": [
    "# Number of times a sorted array is rotated\n",
    "\n",
    "arr=list(map(int,input().split()))\n",
    "n=len(arr)\n",
    "\n",
    "def rotation_count(arr,n):\n",
    "    start=0\n",
    "    end=n-1\n",
    "    while(start<=end):\n",
    "        mid=start+(end-start)//2\n",
    "        next=(mid+1)%n\n",
    "        prev=(mid+n-1)%n\n",
    "\n",
    "        if arr[mid]<=arr[prev] and arr[mid]<=arr[next]:\n",
    "            return mid\n",
    "        \n",
    "        if arr[mid]>=arr[start]:\n",
    "            start=mid\n",
    "        else:\n",
    "            end=mid\n",
    "    return -1\n",
    "\n",
    "print(rotation_count(arr,n))"
   ]
  },
  {
   "cell_type": "code",
   "execution_count": 22,
   "metadata": {},
   "outputs": [
    {
     "name": "stdout",
     "output_type": "stream",
     "text": [
      "11 12 15 18 2 5 6 8\n",
      "8\n",
      "7\n"
     ]
    }
   ],
   "source": [
    "# find index of an element in rotated sorted array\n",
    "\n",
    "arr=list(map(int,input().split()))\n",
    "n=len(arr)\n",
    "target=int(input())\n",
    "\n",
    "def min_ele_index(arr,n):\n",
    "    start=0\n",
    "    end=n-1\n",
    "    while(start<=end):\n",
    "        mid=start+(end-start)//2\n",
    "        next=(mid+1)%n\n",
    "        prev=(mid+n-1)%n\n",
    "\n",
    "        if arr[mid]<=arr[prev] and arr[mid]<=arr[next]:\n",
    "            return mid\n",
    "        \n",
    "        if arr[mid]>=arr[start]:\n",
    "            start=mid\n",
    "        else:\n",
    "            end=mid\n",
    "    return -1\n",
    "\n",
    "x=min_ele_index(arr,n)\n",
    "\n",
    "\n",
    "def bin_search1(arr,target,x):\n",
    "    start=x\n",
    "    end=n-1\n",
    "    while(start<=end):\n",
    "        mid=(start+end)//2\n",
    "        if arr[mid]==target:\n",
    "            return mid \n",
    "        elif arr[mid]<target:\n",
    "            start=mid+1\n",
    "        else:\n",
    "            end=mid-1\n",
    "    return -1\n",
    "\n",
    "def bin_search2(arr,target,x):\n",
    "    end=x-1\n",
    "    start=0\n",
    "    while(start<=end):\n",
    "        mid=(start+end)//2\n",
    "        if arr[mid]==target:\n",
    "            return mid \n",
    "        elif arr[mid]<target:\n",
    "            start=mid+1\n",
    "        else:\n",
    "            end=mid-1\n",
    "    return -1\n",
    "\n",
    "if bin_search1(arr,target,x)<bin_search2(arr,target,x):\n",
    "    print(bin_search2(arr,target,x))\n",
    "else:\n",
    "    print(bin_search1(arr,target,x))"
   ]
  },
  {
   "cell_type": "code",
   "execution_count": 23,
   "metadata": {},
   "outputs": [
    {
     "name": "stdout",
     "output_type": "stream",
     "text": [
      "1\n",
      "5\n",
      "2 3 1 2 3\n",
      "2 3 \n"
     ]
    }
   ],
   "source": [
    "\n",
    "class Solution:\n",
    "    def duplicates(self, arr, n): \n",
    "    \t# code here\n",
    "        m=[0]*1000000\n",
    "        for i in range(n):\n",
    "            m[arr[i]]+=1\n",
    "        d=[]\n",
    "        for i in range(len(m)):\n",
    "            if m[i]>1:\n",
    "                d.append(i)\n",
    "        return d\n",
    "    \t    \n",
    "\n",
    "#{ \n",
    "#  Driver Code Starts\n",
    "if(__name__=='__main__'):\n",
    "    t = int(input())\n",
    "    for i in range(t):\n",
    "        n = int(input())\n",
    "        arr = list(map(int, input().strip().split()))\n",
    "        res = Solution().duplicates(arr, n)\n",
    "        for i in res:\n",
    "            print(i,end=\" \")\n",
    "        print()\n",
    "\n",
    "\n",
    "\n",
    "# } Driver Code Ends"
   ]
  },
  {
   "cell_type": "code",
   "execution_count": 28,
   "metadata": {},
   "outputs": [
    {
     "name": "stderr",
     "output_type": "stream",
     "text": [
      "ERROR:root:Internal Python error in the inspect module.\n",
      "Below is the traceback from this internal error.\n",
      "\n"
     ]
    },
    {
     "name": "stdout",
     "output_type": "stream",
     "text": [
      "Traceback (most recent call last):\n",
      "  File \"/home/trex0908/.local/lib/python3.8/site-packages/mouseinfo/__init__.py\", line 276, in <module>\n",
      "    import tkinter\n",
      "ModuleNotFoundError: No module named 'tkinter'\n",
      "\n",
      "During handling of the above exception, another exception occurred:\n",
      "\n",
      "Traceback (most recent call last):\n",
      "  File \"/usr/lib/python3/dist-packages/IPython/core/interactiveshell.py\", line 3331, in run_code\n",
      "    exec(code_obj, self.user_global_ns, self.user_ns)\n",
      "  File \"<ipython-input-28-1deae49ee53b>\", line 1, in <module>\n",
      "    import pyautogui, time\n",
      "  File \"/home/trex0908/.local/lib/python3.8/site-packages/pyautogui/__init__.py\", line 249, in <module>\n",
      "    import mouseinfo\n",
      "  File \"/home/trex0908/.local/lib/python3.8/site-packages/mouseinfo/__init__.py\", line 280, in <module>\n",
      "    sys.exit('NOTE: You must install tkinter on Linux to use MouseInfo. Run the following: sudo apt-get install python3-tk python3-dev')\n",
      "SystemExit: NOTE: You must install tkinter on Linux to use MouseInfo. Run the following: sudo apt-get install python3-tk python3-dev\n",
      "\n",
      "During handling of the above exception, another exception occurred:\n",
      "\n",
      "Traceback (most recent call last):\n",
      "  File \"/usr/lib/python3/dist-packages/IPython/core/ultratb.py\", line 1148, in get_records\n",
      "    return _fixed_getinnerframes(etb, number_of_lines_of_context, tb_offset)\n",
      "  File \"/usr/lib/python3/dist-packages/IPython/core/ultratb.py\", line 316, in wrapped\n",
      "    return f(*args, **kwargs)\n",
      "  File \"/usr/lib/python3/dist-packages/IPython/core/ultratb.py\", line 350, in _fixed_getinnerframes\n",
      "    records = fix_frame_records_filenames(inspect.getinnerframes(etb, context))\n",
      "  File \"/usr/lib/python3.8/inspect.py\", line 1515, in getinnerframes\n",
      "    frameinfo = (tb.tb_frame,) + getframeinfo(tb, context)\n",
      "AttributeError: 'tuple' object has no attribute 'tb_frame'\n"
     ]
    },
    {
     "ename": "SystemExit",
     "evalue": "NOTE: You must install tkinter on Linux to use MouseInfo. Run the following: sudo apt-get install python3-tk python3-dev",
     "output_type": "error",
     "traceback": [
      "An exception has occurred, use %tb to see the full traceback.\n",
      "\u001b[0;31m---------------------------------------------------------------------------\u001b[0m",
      "\nDuring handling of the above exception, another exception occurred:\n",
      "\u001b[0;31mSystemExit\u001b[0m\u001b[0;31m:\u001b[0m NOTE: You must install tkinter on Linux to use MouseInfo. Run the following: sudo apt-get install python3-tk python3-dev\n"
     ]
    },
    {
     "name": "stderr",
     "output_type": "stream",
     "text": [
      "/usr/lib/python3/dist-packages/IPython/core/interactiveshell.py:3339: UserWarning: To exit: use 'exit', 'quit', or Ctrl-D.\n",
      "  warn(\"To exit: use 'exit', 'quit', or Ctrl-D.\", stacklevel=1)\n"
     ]
    }
   ],
   "source": [
    "import pyautogui, time\n",
    "time.sleep(2)\n",
    "f=\"okaii\"\n",
    "for word in f:\n",
    "    pyautogui.typewrite(word)\n",
    "    pyautogui.press(\"enter\")"
   ]
  },
  {
   "cell_type": "code",
   "execution_count": 26,
   "metadata": {},
   "outputs": [
    {
     "name": "stdout",
     "output_type": "stream",
     "text": [
      "Defaulting to user installation because normal site-packages is not writeable\n",
      "Collecting pyautogui\n",
      "  Downloading PyAutoGUI-0.9.53.tar.gz (59 kB)\n",
      "\u001b[K     |████████████████████████████████| 59 kB 3.9 MB/s eta 0:00:011\n",
      "\u001b[?25hCollecting PyTweening>=1.0.1\n",
      "  Downloading pytweening-1.0.4.tar.gz (14 kB)\n",
      "Collecting mouseinfo\n",
      "  Downloading MouseInfo-0.1.3.tar.gz (10 kB)\n",
      "Collecting pygetwindow>=0.0.5\n",
      "  Downloading PyGetWindow-0.0.9.tar.gz (9.7 kB)\n",
      "Collecting pymsgbox\n",
      "  Downloading PyMsgBox-1.0.9.tar.gz (18 kB)\n",
      "  Installing build dependencies ... \u001b[?25ldone\n",
      "\u001b[?25h  Getting requirements to build wheel ... \u001b[?25ldone\n",
      "\u001b[?25h    Preparing wheel metadata ... \u001b[?25ldone\n",
      "\u001b[?25hCollecting pyscreeze>=0.1.21\n",
      "  Downloading PyScreeze-0.1.28.tar.gz (25 kB)\n",
      "  Installing build dependencies ... \u001b[?25ldone\n",
      "\u001b[?25h  Getting requirements to build wheel ... \u001b[?25ldone\n",
      "\u001b[?25h    Preparing wheel metadata ... \u001b[?25ldone\n",
      "\u001b[?25hCollecting python3-Xlib\n",
      "  Downloading python3-xlib-0.15.tar.gz (132 kB)\n",
      "\u001b[K     |████████████████████████████████| 132 kB 16.8 MB/s eta 0:00:01\n",
      "\u001b[?25hCollecting pyrect\n",
      "  Downloading PyRect-0.1.4.tar.gz (15 kB)\n",
      "Requirement already satisfied: Pillow>=6.2.1 in /usr/lib/python3/dist-packages (from pyscreeze>=0.1.21->pyautogui) (7.0.0)\n",
      "Requirement already satisfied: pyperclip in /usr/local/lib/python3.8/dist-packages (from mouseinfo->pyautogui) (1.8.2)\n",
      "Building wheels for collected packages: pyautogui, pygetwindow, pyscreeze, PyTweening, mouseinfo, pymsgbox, pyrect, python3-Xlib\n",
      "  Building wheel for pyautogui (setup.py) ... \u001b[?25ldone\n",
      "\u001b[?25h  Created wheel for pyautogui: filename=PyAutoGUI-0.9.53-py3-none-any.whl size=36586 sha256=39bc9fc1145cb1921e3f7d1353ec52651ad6f6c5bd8605920b68d616754f7ab5\n",
      "  Stored in directory: /home/trex0908/.cache/pip/wheels/54/04/f7/55704a9d374ed923785a4fdc0ef00151fa25306b3b93345532\n",
      "  Building wheel for pygetwindow (setup.py) ... \u001b[?25ldone\n",
      "\u001b[?25h  Created wheel for pygetwindow: filename=PyGetWindow-0.0.9-py3-none-any.whl size=11078 sha256=2dbab386b220413701156a65f5449e1df93a43b4d88cd8616e214b1873014a06\n",
      "  Stored in directory: /home/trex0908/.cache/pip/wheels/91/e3/04/184bda98ec7f7d5f0ba1f372bcf7b3ba86325151ae1dd690fe\n",
      "  Building wheel for pyscreeze (PEP 517) ... \u001b[?25ldone\n",
      "\u001b[?25h  Created wheel for pyscreeze: filename=PyScreeze-0.1.28-py3-none-any.whl size=13023 sha256=c5a807f96c39d84db2be48555a40bffce6f237c666e82ce6d9578294aade8b14\n",
      "  Stored in directory: /home/trex0908/.cache/pip/wheels/b1/b0/5c/9fb5beb2d6c708479a670e92f4ab3b54523a15c9cd4a46e24e\n",
      "  Building wheel for PyTweening (setup.py) ... \u001b[?25ldone\n",
      "\u001b[?25h  Created wheel for PyTweening: filename=pytweening-1.0.4-py3-none-any.whl size=5825 sha256=b45edd4908fb4baea89cfd78b13fe61e86bf014ba2f129abb0c37c1ea999b7f2\n",
      "  Stored in directory: /home/trex0908/.cache/pip/wheels/a2/1b/69/dc477653ccc19228bf53af76c623e4e82e5dc1b6f78d5c4d35\n",
      "  Building wheel for mouseinfo (setup.py) ... \u001b[?25ldone\n",
      "\u001b[?25h  Created wheel for mouseinfo: filename=MouseInfo-0.1.3-py3-none-any.whl size=10905 sha256=3cc8fe3d189020d5296eec6be2055a997c366df71ca74a467dee26626c0a9ab3\n",
      "  Stored in directory: /home/trex0908/.cache/pip/wheels/d1/72/fb/35f403de66285df8ecca7049bcc61bfb57aba0f76d1f08f7eb\n",
      "  Building wheel for pymsgbox (PEP 517) ... \u001b[?25ldone\n",
      "\u001b[?25h  Created wheel for pymsgbox: filename=PyMsgBox-1.0.9-py3-none-any.whl size=7420 sha256=d5fae7f8b2bc93da526c18ee3ab791d737e68e3aeb05340055d36273be0d2a44\n",
      "  Stored in directory: /home/trex0908/.cache/pip/wheels/91/28/0d/f4eb606d38276836237d6dc2abf094241e6db5682a126e0389\n",
      "  Building wheel for pyrect (setup.py) ... \u001b[?25ldone\n",
      "\u001b[?25h  Created wheel for pyrect: filename=PyRect-0.1.4-py2.py3-none-any.whl size=9547 sha256=5b746ea4ca28deff96fcc004f7cbcf1f66854776eafd14912d2f26babfd44fa1\n",
      "  Stored in directory: /home/trex0908/.cache/pip/wheels/d1/e4/47/c62f8291b16b6df7e89ac885881ff71f35ca04c6e384251de9\n",
      "  Building wheel for python3-Xlib (setup.py) ... \u001b[?25ldone\n",
      "\u001b[?25h  Created wheel for python3-Xlib: filename=python3_xlib-0.15-py3-none-any.whl size=109516 sha256=9e34fa1e8caf1848742a2200a9a26c2b44a718342a61cc34c3579141d4834d49\n",
      "  Stored in directory: /home/trex0908/.cache/pip/wheels/46/4e/a7/90774eeed70e4e93598bf4cbb1ef00c56e6bdc0fb99cc4215d\n",
      "Successfully built pyautogui pygetwindow pyscreeze PyTweening mouseinfo pymsgbox pyrect python3-Xlib\n",
      "Installing collected packages: python3-Xlib, pyrect, PyTweening, pyscreeze, pymsgbox, pygetwindow, mouseinfo, pyautogui\n",
      "Successfully installed PyTweening-1.0.4 mouseinfo-0.1.3 pyautogui-0.9.53 pygetwindow-0.0.9 pymsgbox-1.0.9 pyrect-0.1.4 pyscreeze-0.1.28 python3-Xlib-0.15\n",
      "Note: you may need to restart the kernel to use updated packages.\n"
     ]
    }
   ],
   "source": [
    "pip install pyautogui"
   ]
  },
  {
   "cell_type": "code",
   "execution_count": null,
   "metadata": {},
   "outputs": [],
   "source": []
  }
 ],
 "metadata": {
  "kernelspec": {
   "display_name": "Python 3",
   "language": "python",
   "name": "python3"
  },
  "language_info": {
   "codemirror_mode": {
    "name": "ipython",
    "version": 3
   },
   "file_extension": ".py",
   "mimetype": "text/x-python",
   "name": "python",
   "nbconvert_exporter": "python",
   "pygments_lexer": "ipython3",
   "version": "3.8.10"
  }
 },
 "nbformat": 4,
 "nbformat_minor": 4
}
